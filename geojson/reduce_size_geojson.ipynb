{
 "cells": [
  {
   "cell_type": "markdown",
   "id": "99641c17-6714-49d0-9367-5b87d28a15ac",
   "metadata": {},
   "source": [
    "# Reduce size of geojson files\n",
    "\n",
    "To reduce the file size and so have faster-loading maps, this notebook does two things to the features in a geojson file:\n",
    "\n",
    "+ Reduce the precision of the coordinates (from typically 15 decimal places, e.g. [-0.099722888517677, 51.5167693121822]).\n",
    "+ Remove any field except coordinates and the data for plotting, in this case: LSOA11NM."
   ]
  },
  {
   "cell_type": "markdown",
   "id": "c00ecfa6-e289-4a6f-96f8-b0e47882f85b",
   "metadata": {},
   "source": [
    "## Setup"
   ]
  },
  {
   "cell_type": "code",
   "execution_count": 1,
   "id": "ea42c921-cfa5-4cd1-acc6-dc988279cc47",
   "metadata": {},
   "outputs": [],
   "source": [
    "# For importing geojson:\n",
    "import json\n",
    "\n",
    "# For saving new geojson:\n",
    "from geojson import FeatureCollection\n",
    "\n",
    "import copy"
   ]
  },
  {
   "cell_type": "markdown",
   "id": "babfd47e-3df0-414d-8d87-5c70fa5c85c2",
   "metadata": {},
   "source": [
    "## Import the geojson"
   ]
  },
  {
   "cell_type": "code",
   "execution_count": 3,
   "id": "f8c7dcb1-b60e-4b73-a8b3-efaeb7df60e7",
   "metadata": {},
   "outputs": [],
   "source": [
    "with open('../data_geojson/ons_data/LSOA_(Dec_2011)_Boundaries_Super_Generalised_Clipped_(BSC)_EW_V3.geojson') as f:\n",
    "    geojson_ew = json.load(f)"
   ]
  },
  {
   "cell_type": "markdown",
   "id": "6dbb2c56-062f-42a8-9a9a-d3ce663d72cd",
   "metadata": {},
   "source": [
    "Check which fields are stored in the geojson:"
   ]
  },
  {
   "cell_type": "code",
   "execution_count": 4,
   "id": "e8d3f5fc-82e2-4d42-8546-e21a0170d793",
   "metadata": {},
   "outputs": [
    {
     "data": {
      "text/plain": [
       "dict_keys(['type', 'name', 'crs', 'features'])"
      ]
     },
     "execution_count": 4,
     "metadata": {},
     "output_type": "execute_result"
    }
   ],
   "source": [
    "geojson_ew.keys()"
   ]
  },
  {
   "cell_type": "code",
   "execution_count": 5,
   "id": "2367655f-cca8-47bd-8c7a-2bdba8afb31c",
   "metadata": {},
   "outputs": [
    {
     "data": {
      "text/plain": [
       "'FeatureCollection'"
      ]
     },
     "execution_count": 5,
     "metadata": {},
     "output_type": "execute_result"
    }
   ],
   "source": [
    "geojson_ew['type']"
   ]
  },
  {
   "cell_type": "code",
   "execution_count": 6,
   "id": "5b53a2d9-0cda-408c-9da6-aaad5ee050cd",
   "metadata": {},
   "outputs": [
    {
     "data": {
      "text/plain": [
       "'LSOA_(Dec_2011)_Boundaries_Super_Generalised_Clipped_(BSC)_EW_V3'"
      ]
     },
     "execution_count": 6,
     "metadata": {},
     "output_type": "execute_result"
    }
   ],
   "source": [
    "geojson_ew['name']"
   ]
  },
  {
   "cell_type": "code",
   "execution_count": 7,
   "id": "341b060b-712c-4155-b0bb-091ebcc0f9e0",
   "metadata": {},
   "outputs": [
    {
     "data": {
      "text/plain": [
       "{'type': 'name', 'properties': {'name': 'urn:ogc:def:crs:OGC:1.3:CRS84'}}"
      ]
     },
     "execution_count": 7,
     "metadata": {},
     "output_type": "execute_result"
    }
   ],
   "source": [
    "geojson_ew['crs']"
   ]
  },
  {
   "cell_type": "markdown",
   "id": "6ededf36-fbfb-41a3-85c1-60f649a25d83",
   "metadata": {},
   "source": [
    "The above fields can remain as they are necessary and/or don't take up much space. The data we'll cut is anything extraneous in the features. Have a look at the first feature:"
   ]
  },
  {
   "cell_type": "code",
   "execution_count": 8,
   "id": "9c50619e-1b3e-42d2-adb8-a2d6a4c13a0e",
   "metadata": {},
   "outputs": [
    {
     "data": {
      "text/plain": [
       "{'type': 'Feature',\n",
       " 'properties': {'OBJECTID': 1,\n",
       "  'LSOA11CD': 'E01000001',\n",
       "  'LSOA11NM': 'City of London 001A',\n",
       "  'LSOA11NMW': 'City of London 001A',\n",
       "  'BNG_E': 532129,\n",
       "  'BNG_N': 181625,\n",
       "  'LONG': -0.09706,\n",
       "  'LAT': 51.5181,\n",
       "  'Shape__Area': 157794.481079102,\n",
       "  'Shape__Length': 1685.39177789522,\n",
       "  'GlobalID': 'b12173a3-5423-4672-a5eb-f152d2345f96'},\n",
       " 'geometry': {'type': 'Polygon',\n",
       "  'coordinates': [[[-0.094744468765127, 51.5205961026855],\n",
       "    [-0.095455174414778, 51.5154416842748],\n",
       "    [-0.099722888517677, 51.5167693121822],\n",
       "    [-0.098498304750799, 51.5205398973512],\n",
       "    [-0.097265555652221, 51.5215848107683],\n",
       "    [-0.094744468765127, 51.5205961026855]]]}}"
      ]
     },
     "execution_count": 8,
     "metadata": {},
     "output_type": "execute_result"
    }
   ],
   "source": [
    "geojson_ew['features'][0]"
   ]
  },
  {
   "cell_type": "markdown",
   "id": "4fa61ef6-002c-42bd-ac50-bb5926effc7f",
   "metadata": {},
   "source": [
    "We must retain the `type`, `properties` and `geometry` fields but can reduce the content within them. \n",
    "\n",
    "+ From properties, we only need to keep one identifier so we'll keep `LSOA11NM` and ditch the rest. \n",
    "+ From coordinates, we don't need as much precision as that so we'll round all values to fewer decimal places."
   ]
  },
  {
   "cell_type": "code",
   "execution_count": 9,
   "id": "8e559ac8-3b22-4292-b650-ec0f36626667",
   "metadata": {},
   "outputs": [],
   "source": [
    "geojson_new = copy.deepcopy(geojson_ew)"
   ]
  },
  {
   "cell_type": "code",
   "execution_count": 10,
   "id": "66493e38-d784-477c-81f1-33968c7672d9",
   "metadata": {},
   "outputs": [],
   "source": [
    "for f, feature in enumerate(geojson_new['features']):\n",
    "    LSOA_name = feature['properties']['LSOA11NM']\n",
    "    LSOA_code = feature['properties']['LSOA11CD']\n",
    "    # Manually update some bits that are inconsistent in the super generalised file:\n",
    "    if LSOA_name == 'Shepway 014E':\n",
    "        LSOA_name = 'Shepway 015A'\n",
    "    if LSOA_name == 'Shepway 014F':\n",
    "        LSOA_name = 'Shepway 015B'\n",
    "    if LSOA_name == 'Shepway 014G':\n",
    "        LSOA_name = 'Shepway 015C'\n",
    "    if LSOA_name == 'Shepway 014H':\n",
    "        LSOA_name = 'Shepway 015D'\n",
    "        \n",
    "    new_properties = {'LSOA11NM': LSOA_name, 'LSOA11CD': LSOA_code}\n",
    "\n",
    "    # Get lists of coordinates, one list per separate polygon\n",
    "    # in the LSOA.\n",
    "    # (Have MultiPolygon e.g. when an LSOA on the mainland coastline\n",
    "    # also contains an island, so there's a gap between areas.)\n",
    "    lists_of_polygon_coordinates = feature['geometry']['coordinates']\n",
    "\n",
    "    new_coords = []\n",
    "    for lc, list_of_coords in enumerate(lists_of_polygon_coordinates):\n",
    "        if feature['geometry']['type'] == 'MultiPolygon':\n",
    "            # For MultiPolygons the coords are nested an extra time.\n",
    "            list_of_coords = list_of_coords[0]\n",
    "        new_coords_here = [\n",
    "            [round(coords[0], 4), round(coords[1], 4)]\n",
    "            for coords in list_of_coords\n",
    "        ]\n",
    "        if feature['geometry']['type'] == 'MultiPolygon':\n",
    "            # For MultiPolygons the coords are nested an extra time.\n",
    "            new_coords_here = [new_coords_here]\n",
    "\n",
    "        new_coords.append(new_coords_here)\n",
    "\n",
    "    # Overwrite the old data with the new:\n",
    "    geojson_new['features'][f]['properties'] = new_properties\n",
    "    geojson_new['features'][f]['geometry']['coordinates'] = new_coords"
   ]
  },
  {
   "cell_type": "code",
   "execution_count": 11,
   "id": "3069083a-6198-47fa-b600-2c56e46c7825",
   "metadata": {},
   "outputs": [
    {
     "data": {
      "text/plain": [
       "{'type': 'Feature',\n",
       " 'properties': {'LSOA11NM': 'City of London 001A', 'LSOA11CD': 'E01000001'},\n",
       " 'geometry': {'type': 'Polygon',\n",
       "  'coordinates': [[[-0.0947, 51.5206],\n",
       "    [-0.0955, 51.5154],\n",
       "    [-0.0997, 51.5168],\n",
       "    [-0.0985, 51.5205],\n",
       "    [-0.0973, 51.5216],\n",
       "    [-0.0947, 51.5206]]]}}"
      ]
     },
     "execution_count": 11,
     "metadata": {},
     "output_type": "execute_result"
    }
   ],
   "source": [
    "geojson_new['features'][0]"
   ]
  },
  {
   "cell_type": "markdown",
   "id": "cc13adda-748d-4021-b3f6-eb4758a78899",
   "metadata": {},
   "source": [
    "Write new geojson to file:"
   ]
  },
  {
   "cell_type": "code",
   "execution_count": 12,
   "id": "ace8bc03-8eb2-44c8-91c0-e3c16d13f8cd",
   "metadata": {},
   "outputs": [],
   "source": [
    "# Save as a .geojson:\n",
    "save_name = 'LSOA_V3_reduced.geojson'\n",
    "with open(f'./{save_name}', 'w', encoding='utf-8') as f:\n",
    "    json.dump(geojson_new, f, ensure_ascii=False)"
   ]
  },
  {
   "cell_type": "code",
   "execution_count": null,
   "id": "2900a369-5aa5-4fca-9026-8d27b81a0fc7",
   "metadata": {},
   "outputs": [],
   "source": []
  }
 ],
 "metadata": {
  "kernelspec": {
   "display_name": "Python 3 (ipykernel)",
   "language": "python",
   "name": "python3"
  },
  "language_info": {
   "codemirror_mode": {
    "name": "ipython",
    "version": 3
   },
   "file_extension": ".py",
   "mimetype": "text/x-python",
   "name": "python",
   "nbconvert_exporter": "python",
   "pygments_lexer": "ipython3",
   "version": "3.9.16"
  }
 },
 "nbformat": 4,
 "nbformat_minor": 5
}
