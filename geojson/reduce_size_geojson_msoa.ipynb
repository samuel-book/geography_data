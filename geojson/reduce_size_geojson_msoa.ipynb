{
 "cells": [
  {
   "cell_type": "markdown",
   "id": "99641c17-6714-49d0-9367-5b87d28a15ac",
   "metadata": {},
   "source": [
    "# Reduce size of geojson files\n",
    "\n",
    "To reduce the file size and so have faster-loading maps, this notebook does two things to the features in a geojson file:\n",
    "\n",
    "+ Reduce the precision of the coordinates (from typically 15 decimal places, e.g. [-0.099722888517677, 51.5167693121822]).\n",
    "+ Remove any field except coordinates and the data for plotting, in this case: LSOA11NM."
   ]
  },
  {
   "cell_type": "markdown",
   "id": "c00ecfa6-e289-4a6f-96f8-b0e47882f85b",
   "metadata": {},
   "source": [
    "## Setup"
   ]
  },
  {
   "cell_type": "code",
   "execution_count": 12,
   "id": "ea42c921-cfa5-4cd1-acc6-dc988279cc47",
   "metadata": {},
   "outputs": [],
   "source": [
    "import geopandas\n",
    "import shapely"
   ]
  },
  {
   "cell_type": "markdown",
   "id": "babfd47e-3df0-414d-8d87-5c70fa5c85c2",
   "metadata": {},
   "source": [
    "## Import the geojson"
   ]
  },
  {
   "cell_type": "code",
   "execution_count": 2,
   "id": "20cf0491-ce4c-4182-997f-b5678926be77",
   "metadata": {},
   "outputs": [],
   "source": [
    "path_to_file = '../data_geojson/ons_data/MSOA_Dec_2011_Boundaries_Super_Generalised_Clipped_BSC_EW_V3_2022_7707677027087735278.geojson'\n",
    "geojson_ew = geopandas.read_file(path_to_file)"
   ]
  },
  {
   "cell_type": "code",
   "execution_count": 3,
   "id": "50ac0333-6bdd-4dc3-933d-e7e0a3b3d015",
   "metadata": {},
   "outputs": [
    {
     "data": {
      "text/html": [
       "<div>\n",
       "<style scoped>\n",
       "    .dataframe tbody tr th:only-of-type {\n",
       "        vertical-align: middle;\n",
       "    }\n",
       "\n",
       "    .dataframe tbody tr th {\n",
       "        vertical-align: top;\n",
       "    }\n",
       "\n",
       "    .dataframe thead th {\n",
       "        text-align: right;\n",
       "    }\n",
       "</style>\n",
       "<table border=\"1\" class=\"dataframe\">\n",
       "  <thead>\n",
       "    <tr style=\"text-align: right;\">\n",
       "      <th></th>\n",
       "      <th>OBJECTID</th>\n",
       "      <th>MSOA11CD</th>\n",
       "      <th>MSOA11NM</th>\n",
       "      <th>MSOA11NMW</th>\n",
       "      <th>BNG_E</th>\n",
       "      <th>BNG_N</th>\n",
       "      <th>LONG</th>\n",
       "      <th>LAT</th>\n",
       "      <th>GlobalID</th>\n",
       "      <th>geometry</th>\n",
       "    </tr>\n",
       "  </thead>\n",
       "  <tbody>\n",
       "    <tr>\n",
       "      <th>0</th>\n",
       "      <td>1</td>\n",
       "      <td>E02000001</td>\n",
       "      <td>City of London 001</td>\n",
       "      <td>City of London 001</td>\n",
       "      <td>532378</td>\n",
       "      <td>181354</td>\n",
       "      <td>-0.093570</td>\n",
       "      <td>51.51560</td>\n",
       "      <td>a9f03568-7a0a-42b8-a23e-1271f76431e1</td>\n",
       "      <td>POLYGON ((532946.065 181894.827, 533410.692 18...</td>\n",
       "    </tr>\n",
       "    <tr>\n",
       "      <th>1</th>\n",
       "      <td>2</td>\n",
       "      <td>E02000002</td>\n",
       "      <td>Barking and Dagenham 001</td>\n",
       "      <td>Barking and Dagenham 001</td>\n",
       "      <td>548267</td>\n",
       "      <td>189693</td>\n",
       "      <td>0.138759</td>\n",
       "      <td>51.58659</td>\n",
       "      <td>f0ca54f0-1a1e-4c72-8fcb-85e21be6de79</td>\n",
       "      <td>POLYGON ((549000.726 190873.464, 549120.966 18...</td>\n",
       "    </tr>\n",
       "    <tr>\n",
       "      <th>2</th>\n",
       "      <td>3</td>\n",
       "      <td>E02000003</td>\n",
       "      <td>Barking and Dagenham 002</td>\n",
       "      <td>Barking and Dagenham 002</td>\n",
       "      <td>548259</td>\n",
       "      <td>188522</td>\n",
       "      <td>0.138150</td>\n",
       "      <td>51.57607</td>\n",
       "      <td>3772a2ec-b052-4000-b62b-2c85ac401a7f</td>\n",
       "      <td>POLYGON ((548954.517 189063.241, 549085.611 18...</td>\n",
       "    </tr>\n",
       "  </tbody>\n",
       "</table>\n",
       "</div>"
      ],
      "text/plain": [
       "   OBJECTID   MSOA11CD                  MSOA11NM                 MSOA11NMW  \\\n",
       "0         1  E02000001        City of London 001        City of London 001   \n",
       "1         2  E02000002  Barking and Dagenham 001  Barking and Dagenham 001   \n",
       "2         3  E02000003  Barking and Dagenham 002  Barking and Dagenham 002   \n",
       "\n",
       "    BNG_E   BNG_N      LONG       LAT                              GlobalID  \\\n",
       "0  532378  181354 -0.093570  51.51560  a9f03568-7a0a-42b8-a23e-1271f76431e1   \n",
       "1  548267  189693  0.138759  51.58659  f0ca54f0-1a1e-4c72-8fcb-85e21be6de79   \n",
       "2  548259  188522  0.138150  51.57607  3772a2ec-b052-4000-b62b-2c85ac401a7f   \n",
       "\n",
       "                                            geometry  \n",
       "0  POLYGON ((532946.065 181894.827, 533410.692 18...  \n",
       "1  POLYGON ((549000.726 190873.464, 549120.966 18...  \n",
       "2  POLYGON ((548954.517 189063.241, 549085.611 18...  "
      ]
     },
     "execution_count": 3,
     "metadata": {},
     "output_type": "execute_result"
    }
   ],
   "source": [
    "geojson_ew.head(3)"
   ]
  },
  {
   "cell_type": "code",
   "execution_count": 4,
   "id": "23c42795-e83e-4d03-909d-751b79587024",
   "metadata": {},
   "outputs": [
    {
     "data": {
      "text/plain": [
       "<Derived Projected CRS: EPSG:27700>\n",
       "Name: OSGB36 / British National Grid\n",
       "Axis Info [cartesian]:\n",
       "- E[east]: Easting (metre)\n",
       "- N[north]: Northing (metre)\n",
       "Area of Use:\n",
       "- name: United Kingdom (UK) - offshore to boundary of UKCS within 49°45'N to 61°N and 9°W to 2°E; onshore Great Britain (England, Wales and Scotland). Isle of Man onshore.\n",
       "- bounds: (-9.0, 49.75, 2.01, 61.01)\n",
       "Coordinate Operation:\n",
       "- name: British National Grid\n",
       "- method: Transverse Mercator\n",
       "Datum: Ordnance Survey of Great Britain 1936\n",
       "- Ellipsoid: Airy 1830\n",
       "- Prime Meridian: Greenwich"
      ]
     },
     "execution_count": 4,
     "metadata": {},
     "output_type": "execute_result"
    }
   ],
   "source": [
    "geojson_ew.crs"
   ]
  },
  {
   "cell_type": "code",
   "execution_count": 5,
   "id": "1a890691-b6b5-4750-b5f8-eb30863a59cf",
   "metadata": {},
   "outputs": [],
   "source": [
    "geojson_ew = geojson_ew.to_crs('CRS84')"
   ]
  },
  {
   "cell_type": "code",
   "execution_count": 6,
   "id": "77e4a73e-9640-4c06-af21-25b09da8304c",
   "metadata": {},
   "outputs": [
    {
     "data": {
      "text/plain": [
       "0       POLYGON ((-0.08519 51.52034, -0.07845 51.52151...\n",
       "1       POLYGON ((0.14984 51.59701, 0.15111 51.58708, ...\n",
       "2       POLYGON ((0.14841 51.58075, 0.14978 51.56970, ...\n",
       "3       POLYGON ((0.19021 51.55268, 0.18602 51.54754, ...\n",
       "4       POLYGON ((0.15441 51.56607, 0.14790 51.56109, ...\n",
       "                              ...                        \n",
       "7196    POLYGON ((-3.47955 53.31075, -3.47626 53.31516...\n",
       "7197    POLYGON ((-2.96390 53.13277, -2.94691 53.12727...\n",
       "7198    POLYGON ((-3.73326 52.50659, -3.73029 52.49864...\n",
       "7199    MULTIPOLYGON (((-3.19550 51.45655, -3.19517 51...\n",
       "7200    MULTIPOLYGON (((-3.17425 51.46478, -3.17559 51...\n",
       "Name: geometry, Length: 7201, dtype: geometry"
      ]
     },
     "execution_count": 6,
     "metadata": {},
     "output_type": "execute_result"
    }
   ],
   "source": [
    "geojson_ew.geometry"
   ]
  },
  {
   "cell_type": "code",
   "execution_count": 7,
   "id": "341b060b-712c-4155-b0bb-091ebcc0f9e0",
   "metadata": {},
   "outputs": [
    {
     "data": {
      "text/plain": [
       "<Geographic 2D CRS: OGC:CRS84>\n",
       "Name: WGS 84 (CRS84)\n",
       "Axis Info [ellipsoidal]:\n",
       "- Lon[east]: Geodetic longitude (degree)\n",
       "- Lat[north]: Geodetic latitude (degree)\n",
       "Area of Use:\n",
       "- name: World.\n",
       "- bounds: (-180.0, -90.0, 180.0, 90.0)\n",
       "Datum: World Geodetic System 1984 ensemble\n",
       "- Ellipsoid: WGS 84\n",
       "- Prime Meridian: Greenwich"
      ]
     },
     "execution_count": 7,
     "metadata": {},
     "output_type": "execute_result"
    }
   ],
   "source": [
    "geojson_ew.crs"
   ]
  },
  {
   "cell_type": "code",
   "execution_count": 8,
   "id": "a9402bb9-6d4e-4230-98d0-72e3f9bd1c51",
   "metadata": {},
   "outputs": [],
   "source": [
    "geojson_ew = geojson_ew[['MSOA11CD', 'MSOA11NM', 'geometry']]"
   ]
  },
  {
   "cell_type": "code",
   "execution_count": 9,
   "id": "5e173b38-3a72-4751-9a58-4869c32bbc07",
   "metadata": {},
   "outputs": [],
   "source": [
    "# Reduce precision\n",
    "geojson_ew.geometry = shapely.set_precision(geojson_ew.geometry, grid_size=0.001)"
   ]
  },
  {
   "cell_type": "code",
   "execution_count": 10,
   "id": "f88499a4-016d-4108-9e5d-811d62718b5d",
   "metadata": {},
   "outputs": [
    {
     "data": {
      "text/html": [
       "<div>\n",
       "<style scoped>\n",
       "    .dataframe tbody tr th:only-of-type {\n",
       "        vertical-align: middle;\n",
       "    }\n",
       "\n",
       "    .dataframe tbody tr th {\n",
       "        vertical-align: top;\n",
       "    }\n",
       "\n",
       "    .dataframe thead th {\n",
       "        text-align: right;\n",
       "    }\n",
       "</style>\n",
       "<table border=\"1\" class=\"dataframe\">\n",
       "  <thead>\n",
       "    <tr style=\"text-align: right;\">\n",
       "      <th></th>\n",
       "      <th>MSOA11CD</th>\n",
       "      <th>MSOA11NM</th>\n",
       "      <th>geometry</th>\n",
       "    </tr>\n",
       "  </thead>\n",
       "  <tbody>\n",
       "    <tr>\n",
       "      <th>0</th>\n",
       "      <td>E02000001</td>\n",
       "      <td>City of London 001</td>\n",
       "      <td>POLYGON ((-0.07800 51.52200, -0.07400 51.51400...</td>\n",
       "    </tr>\n",
       "    <tr>\n",
       "      <th>1</th>\n",
       "      <td>E02000002</td>\n",
       "      <td>Barking and Dagenham 001</td>\n",
       "      <td>POLYGON ((0.15100 51.58700, 0.14200 51.58600, ...</td>\n",
       "    </tr>\n",
       "    <tr>\n",
       "      <th>2</th>\n",
       "      <td>E02000003</td>\n",
       "      <td>Barking and Dagenham 002</td>\n",
       "      <td>POLYGON ((0.15000 51.57000, 0.14700 51.56900, ...</td>\n",
       "    </tr>\n",
       "  </tbody>\n",
       "</table>\n",
       "</div>"
      ],
      "text/plain": [
       "    MSOA11CD                  MSOA11NM  \\\n",
       "0  E02000001        City of London 001   \n",
       "1  E02000002  Barking and Dagenham 001   \n",
       "2  E02000003  Barking and Dagenham 002   \n",
       "\n",
       "                                            geometry  \n",
       "0  POLYGON ((-0.07800 51.52200, -0.07400 51.51400...  \n",
       "1  POLYGON ((0.15100 51.58700, 0.14200 51.58600, ...  \n",
       "2  POLYGON ((0.15000 51.57000, 0.14700 51.56900, ...  "
      ]
     },
     "execution_count": 10,
     "metadata": {},
     "output_type": "execute_result"
    }
   ],
   "source": [
    "geojson_ew.head(3)"
   ]
  },
  {
   "cell_type": "markdown",
   "id": "cc13adda-748d-4021-b3f6-eb4758a78899",
   "metadata": {},
   "source": [
    "Write new geojson to file:"
   ]
  },
  {
   "cell_type": "code",
   "execution_count": 15,
   "id": "ace8bc03-8eb2-44c8-91c0-e3c16d13f8cd",
   "metadata": {},
   "outputs": [],
   "source": [
    "# Save as a .geojson:\n",
    "save_name = 'MSOA_V3_reduced.geojson'\n",
    "geojson_ew.to_file(save_name)"
   ]
  },
  {
   "cell_type": "code",
   "execution_count": null,
   "id": "2900a369-5aa5-4fca-9026-8d27b81a0fc7",
   "metadata": {},
   "outputs": [],
   "source": []
  }
 ],
 "metadata": {
  "kernelspec": {
   "display_name": "Python 3 (ipykernel)",
   "language": "python",
   "name": "python3"
  },
  "language_info": {
   "codemirror_mode": {
    "name": "ipython",
    "version": 3
   },
   "file_extension": ".py",
   "mimetype": "text/x-python",
   "name": "python",
   "nbconvert_exporter": "python",
   "pygments_lexer": "ipython3",
   "version": "3.9.16"
  }
 },
 "nbformat": 4,
 "nbformat_minor": 5
}
