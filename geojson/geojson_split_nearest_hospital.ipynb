{
 "cells": [
  {
   "cell_type": "markdown",
   "id": "264624b0-b0d4-4ac8-aa52-6d94d9b155ff",
   "metadata": {},
   "source": [
    "# Split big geojson into regions"
   ]
  },
  {
   "cell_type": "markdown",
   "id": "ebca5f66-ac49-46f4-8bfe-f7cc31a60f4b",
   "metadata": {},
   "source": [
    "## Setup"
   ]
  },
  {
   "cell_type": "code",
   "execution_count": 1,
   "id": "6deb1d52-a02e-479a-a740-d7eecec593a5",
   "metadata": {},
   "outputs": [],
   "source": [
    "import pandas as pd\n",
    "import numpy as np\n",
    "\n",
    "# For importing geojson:\n",
    "import json\n",
    "\n",
    "# For saving new geojson:\n",
    "from geojson import FeatureCollection\n",
    "\n",
    "# For drawing maps:\n",
    "import folium\n",
    "from folium import plugins"
   ]
  },
  {
   "cell_type": "markdown",
   "id": "918f0e79-fa86-4f5a-a62e-8dbd422a0383",
   "metadata": {},
   "source": [
    "## Import data"
   ]
  },
  {
   "cell_type": "code",
   "execution_count": 2,
   "id": "32cae6c2-576b-4018-945b-1d3364e4ebf2",
   "metadata": {
    "tags": []
   },
   "outputs": [
    {
     "data": {
      "text/html": [
       "<div>\n",
       "<style scoped>\n",
       "    .dataframe tbody tr th:only-of-type {\n",
       "        vertical-align: middle;\n",
       "    }\n",
       "\n",
       "    .dataframe tbody tr th {\n",
       "        vertical-align: top;\n",
       "    }\n",
       "\n",
       "    .dataframe thead th {\n",
       "        text-align: right;\n",
       "    }\n",
       "</style>\n",
       "<table border=\"1\" class=\"dataframe\">\n",
       "  <thead>\n",
       "    <tr style=\"text-align: right;\">\n",
       "      <th></th>\n",
       "      <th>LSOA11CD</th>\n",
       "      <th>LSOA</th>\n",
       "      <th>Nearest hospital postcode</th>\n",
       "      <th>Nearest hospital name</th>\n",
       "      <th>Time (mins) to nearest hospital</th>\n",
       "      <th>Nearest MT hospital postcode</th>\n",
       "      <th>Nearest MT hospital name</th>\n",
       "      <th>Time (mins) to nearest MT hospital</th>\n",
       "    </tr>\n",
       "  </thead>\n",
       "  <tbody>\n",
       "    <tr>\n",
       "      <th>0</th>\n",
       "      <td>E01031349</td>\n",
       "      <td>Adur 001A</td>\n",
       "      <td>BN25BE</td>\n",
       "      <td>Royal Sussex County Hospital, Brighton</td>\n",
       "      <td>17.6</td>\n",
       "      <td>BN25BE</td>\n",
       "      <td>Royal Sussex County Hospital, Brighton</td>\n",
       "      <td>17.6</td>\n",
       "    </tr>\n",
       "    <tr>\n",
       "      <th>1</th>\n",
       "      <td>E01031350</td>\n",
       "      <td>Adur 001B</td>\n",
       "      <td>BN112DH</td>\n",
       "      <td>Worthing Hospital</td>\n",
       "      <td>18.7</td>\n",
       "      <td>BN25BE</td>\n",
       "      <td>Royal Sussex County Hospital, Brighton</td>\n",
       "      <td>18.7</td>\n",
       "    </tr>\n",
       "    <tr>\n",
       "      <th>2</th>\n",
       "      <td>E01031351</td>\n",
       "      <td>Adur 001C</td>\n",
       "      <td>BN112DH</td>\n",
       "      <td>Worthing Hospital</td>\n",
       "      <td>17.6</td>\n",
       "      <td>BN25BE</td>\n",
       "      <td>Royal Sussex County Hospital, Brighton</td>\n",
       "      <td>19.8</td>\n",
       "    </tr>\n",
       "    <tr>\n",
       "      <th>3</th>\n",
       "      <td>E01031352</td>\n",
       "      <td>Adur 001D</td>\n",
       "      <td>BN112DH</td>\n",
       "      <td>Worthing Hospital</td>\n",
       "      <td>17.6</td>\n",
       "      <td>BN25BE</td>\n",
       "      <td>Royal Sussex County Hospital, Brighton</td>\n",
       "      <td>19.8</td>\n",
       "    </tr>\n",
       "    <tr>\n",
       "      <th>4</th>\n",
       "      <td>E01031370</td>\n",
       "      <td>Adur 001E</td>\n",
       "      <td>BN112DH</td>\n",
       "      <td>Worthing Hospital</td>\n",
       "      <td>16.5</td>\n",
       "      <td>BN25BE</td>\n",
       "      <td>Royal Sussex County Hospital, Brighton</td>\n",
       "      <td>19.8</td>\n",
       "    </tr>\n",
       "  </tbody>\n",
       "</table>\n",
       "</div>"
      ],
      "text/plain": [
       "    LSOA11CD       LSOA Nearest hospital postcode  \\\n",
       "0  E01031349  Adur 001A                    BN25BE   \n",
       "1  E01031350  Adur 001B                   BN112DH   \n",
       "2  E01031351  Adur 001C                   BN112DH   \n",
       "3  E01031352  Adur 001D                   BN112DH   \n",
       "4  E01031370  Adur 001E                   BN112DH   \n",
       "\n",
       "                    Nearest hospital name  Time (mins) to nearest hospital  \\\n",
       "0  Royal Sussex County Hospital, Brighton                             17.6   \n",
       "1                       Worthing Hospital                             18.7   \n",
       "2                       Worthing Hospital                             17.6   \n",
       "3                       Worthing Hospital                             17.6   \n",
       "4                       Worthing Hospital                             16.5   \n",
       "\n",
       "  Nearest MT hospital postcode                Nearest MT hospital name  \\\n",
       "0                       BN25BE  Royal Sussex County Hospital, Brighton   \n",
       "1                       BN25BE  Royal Sussex County Hospital, Brighton   \n",
       "2                       BN25BE  Royal Sussex County Hospital, Brighton   \n",
       "3                       BN25BE  Royal Sussex County Hospital, Brighton   \n",
       "4                       BN25BE  Royal Sussex County Hospital, Brighton   \n",
       "\n",
       "   Time (mins) to nearest MT hospital  \n",
       "0                                17.6  \n",
       "1                                18.7  \n",
       "2                                19.8  \n",
       "3                                19.8  \n",
       "4                                19.8  "
      ]
     },
     "execution_count": 2,
     "metadata": {},
     "output_type": "execute_result"
    }
   ],
   "source": [
    "df_nearest_hospitals = pd.read_csv('./lsoa_nearest_hospitals.csv')\n",
    "\n",
    "df_nearest_hospitals.head()"
   ]
  },
  {
   "cell_type": "markdown",
   "id": "788d0de8-2193-4179-8779-85d5704e411b",
   "metadata": {},
   "source": [
    "Find all of the unique hospital postcodes:"
   ]
  },
  {
   "cell_type": "code",
   "execution_count": 3,
   "id": "bc10c115-de30-49f8-b987-0439ece58a82",
   "metadata": {},
   "outputs": [],
   "source": [
    "ivt_hospital_postcodes_set = set(df_nearest_hospitals['Nearest hospital postcode'])\n",
    "mt_hospital_postcodes_set = set(df_nearest_hospitals['Nearest MT hospital postcode'])"
   ]
  },
  {
   "cell_type": "code",
   "execution_count": 4,
   "id": "9544a02e-8553-4743-b5a5-bda4c7bb3ca8",
   "metadata": {},
   "outputs": [
    {
     "data": {
      "text/plain": [
       "(125, 36)"
      ]
     },
     "execution_count": 4,
     "metadata": {},
     "output_type": "execute_result"
    }
   ],
   "source": [
    "len(ivt_hospital_postcodes_set), len(mt_hospital_postcodes_set)"
   ]
  },
  {
   "cell_type": "markdown",
   "id": "0e2c4f93-6e60-4219-8f3f-4dd97bee71e4",
   "metadata": {},
   "source": [
    "For each of these STP and LHB codes, find the LSOAs that belong to it:"
   ]
  },
  {
   "cell_type": "code",
   "execution_count": 5,
   "id": "fd37cb68-2f98-41a8-9641-29920e1cb15e",
   "metadata": {},
   "outputs": [],
   "source": [
    "# Record these for info or naming of the .geojson files:\n",
    "code_dict = {}\n",
    "hosptial_name_dict = {}\n",
    "\n",
    "# Record these just out of interest:\n",
    "ivt_hospital_names_list = []\n",
    "n_lsoas_list = []\n",
    "\n",
    "for postcode in ivt_hospital_postcodes_set:\n",
    "    df_nearest_hospitals_here = df_nearest_hospitals[df_nearest_hospitals['Nearest hospital postcode'] == postcode]\n",
    "    LSOA_codes_here = df_nearest_hospitals_here['LSOA'].values\n",
    "    \n",
    "    code_dict[postcode] = LSOA_codes_here\n",
    "    \n",
    "    hospital_name = df_nearest_hospitals_here['Nearest hospital name'].iloc[0]\n",
    "    hosptial_name_dict[postcode] = hospital_name\n",
    "    \n",
    "    # Update lists for the dataframe:\n",
    "    ivt_hospital_names_list.append(hospital_name)\n",
    "    n_lsoas_list.append(len(LSOA_codes_here))"
   ]
  },
  {
   "cell_type": "code",
   "execution_count": 6,
   "id": "b7c2744d-e3e8-4948-b661-600d6ed9125e",
   "metadata": {},
   "outputs": [],
   "source": [
    "lsoas_per_ivt_hospital = pd.DataFrame(\n",
    "    np.stack([ivt_hospital_names_list, n_lsoas_list], axis=-1),\n",
    "    columns=['IVT hospital', 'Number of LSOAs']\n",
    ")"
   ]
  },
  {
   "cell_type": "code",
   "execution_count": 8,
   "id": "485c124b-5903-4897-900b-41524d658a4d",
   "metadata": {},
   "outputs": [],
   "source": [
    "lsoas_per_ivt_hospital.sort_values('IVT hospital').to_csv('lsoas_total_per_ivt_hospital.csv', index=False)"
   ]
  },
  {
   "cell_type": "markdown",
   "id": "ccc047e8-56b9-4d51-aac9-bae3209a6109",
   "metadata": {},
   "source": [
    "## Examine the big .geojson\n",
    "\n",
    "What order are the LSOA shapes stored in? It seems to be sorted by LSOA11CD."
   ]
  },
  {
   "cell_type": "code",
   "execution_count": 14,
   "id": "b0b7d444-9ee8-4627-b94f-c6a292234cb7",
   "metadata": {},
   "outputs": [],
   "source": [
    "with open('./LSOA_(Dec_2011)_Boundaries_Super_Generalised_Clipped_(BSC)_EW_V3_reduced4_simplified.geojson') as f:\n",
    "    geojson_ew = json.load(f)"
   ]
  },
  {
   "cell_type": "code",
   "execution_count": 15,
   "id": "0ece74bf-5d22-4632-87ee-1ae1aa1e0a31",
   "metadata": {},
   "outputs": [
    {
     "data": {
      "text/plain": [
       "dict_keys(['type', 'name', 'crs', 'features'])"
      ]
     },
     "execution_count": 15,
     "metadata": {},
     "output_type": "execute_result"
    }
   ],
   "source": [
    "geojson_ew.keys()"
   ]
  },
  {
   "cell_type": "code",
   "execution_count": 16,
   "id": "d907c361-ac85-431f-8176-59c63b46234f",
   "metadata": {},
   "outputs": [],
   "source": [
    "big_geojson_order = []\n",
    "\n",
    "for i in range(len(geojson_ew['features'])):\n",
    "    big_geojson_order.append(geojson_ew['features'][i]['properties']['LSOA11NM'])"
   ]
  },
  {
   "cell_type": "code",
   "execution_count": 17,
   "id": "6e0d4748-3bbb-42b0-b6a7-09450902cafd",
   "metadata": {
    "tags": []
   },
   "outputs": [
    {
     "data": {
      "text/plain": [
       "{'type': 'Feature',\n",
       " 'geometry': {'type': 'Polygon',\n",
       "  'coordinates': [[[-0.095, 51.521],\n",
       "    [-0.097, 51.522],\n",
       "    [-0.098, 51.521],\n",
       "    [-0.1, 51.517],\n",
       "    [-0.095, 51.515],\n",
       "    [-0.095, 51.521]]]},\n",
       " 'properties': {'LSOA11NM': 'City of London 001A'}}"
      ]
     },
     "execution_count": 17,
     "metadata": {},
     "output_type": "execute_result"
    }
   ],
   "source": [
    "geojson_ew['features'][0]"
   ]
  },
  {
   "cell_type": "markdown",
   "id": "826ec3c8-b5d1-4121-b497-0eedcb5e3ab0",
   "metadata": {},
   "source": [
    "## Match big .geojson info with regions"
   ]
  },
  {
   "cell_type": "code",
   "execution_count": 19,
   "id": "6ed2c80a-025b-4884-98a1-5179dfd9e669",
   "metadata": {},
   "outputs": [],
   "source": [
    "for group in code_dict.keys():\n",
    "    lsoa_here = code_dict[group]\n",
    "    features_here = []\n",
    "    for lsoa in lsoa_here:\n",
    "        # Find where it is in the big geojson:\n",
    "        try:\n",
    "            ind = big_geojson_order.index(lsoa)\n",
    "            # inds_for_geojson.append(ind)\n",
    "            features_here.append(geojson_ew['features'][ind])\n",
    "        except ValueError:\n",
    "            print(f'Problem with {group}, LSOA {lsoa}')\n",
    "    \n",
    "    features_here = FeatureCollection(features_here)\n",
    "            \n",
    "#     geojson_here = {}\n",
    "#     geojson_here['type'] = geojson_ew['type']\n",
    "#     geojson_here['crs'] = geojson_ew['crs']\n",
    "#     geojson_here['features'] = features_here\n",
    "    \n",
    "    # Now save the file as something new:\n",
    "    # group_name = group_dict[group]\n",
    "    # group_name = group_name.replace(' ', '~')\n",
    "    save_name = 'LSOA_' + group + '.geojson'\n",
    "    \n",
    "    with open('./nearest_hospital_geojson/'+save_name, 'w', encoding='utf-8') as f:\n",
    "        json.dump(features_here, f, ensure_ascii=False)"
   ]
  },
  {
   "cell_type": "markdown",
   "id": "bbb806fe-1fbc-4f07-978a-5446e9f97683",
   "metadata": {},
   "source": [
    "### Import one of the newly-made .geojson"
   ]
  },
  {
   "cell_type": "code",
   "execution_count": 4,
   "id": "ce420141-a8fd-4d58-8040-f668d3958aaa",
   "metadata": {},
   "outputs": [],
   "source": [
    "# with open('./lhb_scn_geojson/LSOA_South~West.geojson') as f:\n",
    "with open('./nearest_hospital_geojson/LSOA_EX25DW.geojson') as f:\n",
    "    geojson_devon = json.load(f)"
   ]
  },
  {
   "cell_type": "code",
   "execution_count": 5,
   "id": "ec4817d9-b791-4bbe-ab74-78e5c92a31d5",
   "metadata": {
    "tags": []
   },
   "outputs": [
    {
     "data": {
      "text/html": [
       "<div style=\"width:100%;\"><div style=\"position:relative;width:100%;height:0;padding-bottom:60%;\"><span style=\"color:#565656\">Make this Notebook Trusted to load map: File -> Trust Notebook</span><iframe srcdoc=\"&lt;!DOCTYPE html&gt;\n",
       "&lt;html&gt;\n",
       "&lt;head&gt;\n",
       "    \n",
       "    &lt;meta http-equiv=&quot;content-type&quot; content=&quot;text/html; charset=UTF-8&quot; /&gt;\n",
       "    \n",
       "        &lt;script&gt;\n",
       "            L_NO_TOUCH = false;\n",
       "            L_DISABLE_3D = false;\n",
       "        &lt;/script&gt;\n",
       "    \n",
       "    &lt;style&gt;html, body {width: 100%;height: 100%;margin: 0;padding: 0;}&lt;/style&gt;\n",
       "    &lt;style&gt;#map {position:absolute;top:0;bottom:0;right:0;left:0;}&lt;/style&gt;\n",
       "    &lt;script src=&quot;https://cdn.jsdelivr.net/npm/leaflet@1.9.3/dist/leaflet.js&quot;&gt;&lt;/script&gt;\n",
       "    &lt;script src=&quot;https://code.jquery.com/jquery-1.12.4.min.js&quot;&gt;&lt;/script&gt;\n",
       "    &lt;script src=&quot;https://cdn.jsdelivr.net/npm/bootstrap@5.2.2/dist/js/bootstrap.bundle.min.js&quot;&gt;&lt;/script&gt;\n",
       "    &lt;script src=&quot;https://cdnjs.cloudflare.com/ajax/libs/Leaflet.awesome-markers/2.0.2/leaflet.awesome-markers.js&quot;&gt;&lt;/script&gt;\n",
       "    &lt;link rel=&quot;stylesheet&quot; href=&quot;https://cdn.jsdelivr.net/npm/leaflet@1.9.3/dist/leaflet.css&quot;/&gt;\n",
       "    &lt;link rel=&quot;stylesheet&quot; href=&quot;https://cdn.jsdelivr.net/npm/bootstrap@5.2.2/dist/css/bootstrap.min.css&quot;/&gt;\n",
       "    &lt;link rel=&quot;stylesheet&quot; href=&quot;https://netdna.bootstrapcdn.com/bootstrap/3.0.0/css/bootstrap.min.css&quot;/&gt;\n",
       "    &lt;link rel=&quot;stylesheet&quot; href=&quot;https://cdn.jsdelivr.net/npm/@fortawesome/fontawesome-free@6.2.0/css/all.min.css&quot;/&gt;\n",
       "    &lt;link rel=&quot;stylesheet&quot; href=&quot;https://cdnjs.cloudflare.com/ajax/libs/Leaflet.awesome-markers/2.0.2/leaflet.awesome-markers.css&quot;/&gt;\n",
       "    &lt;link rel=&quot;stylesheet&quot; href=&quot;https://cdn.jsdelivr.net/gh/python-visualization/folium/folium/templates/leaflet.awesome.rotate.min.css&quot;/&gt;\n",
       "    \n",
       "            &lt;meta name=&quot;viewport&quot; content=&quot;width=device-width,\n",
       "                initial-scale=1.0, maximum-scale=1.0, user-scalable=no&quot; /&gt;\n",
       "            &lt;style&gt;\n",
       "                #map_78a58f123a7b848cc90257cc02a1d63f {\n",
       "                    position: relative;\n",
       "                    width: 100.0%;\n",
       "                    height: 100.0%;\n",
       "                    left: 0.0%;\n",
       "                    top: 0.0%;\n",
       "                }\n",
       "                .leaflet-container { font-size: 1rem; }\n",
       "            &lt;/style&gt;\n",
       "        \n",
       "&lt;/head&gt;\n",
       "&lt;body&gt;\n",
       "    \n",
       "    \n",
       "            &lt;div class=&quot;folium-map&quot; id=&quot;map_78a58f123a7b848cc90257cc02a1d63f&quot; &gt;&lt;/div&gt;\n",
       "        \n",
       "&lt;/body&gt;\n",
       "&lt;script&gt;\n",
       "    \n",
       "    \n",
       "            var map_78a58f123a7b848cc90257cc02a1d63f = L.map(\n",
       "                &quot;map_78a58f123a7b848cc90257cc02a1d63f&quot;,\n",
       "                {\n",
       "                    center: [51.0, -3.5],\n",
       "                    crs: L.CRS.EPSG3857,\n",
       "                    zoom: 8,\n",
       "                    zoomControl: true,\n",
       "                    preferCanvas: false,\n",
       "                }\n",
       "            );\n",
       "\n",
       "            \n",
       "\n",
       "        \n",
       "    \n",
       "            var tile_layer_f5d0a4466633ccb4d82a78988be03008 = L.tileLayer(\n",
       "                &quot;https://cartodb-basemaps-{s}.global.ssl.fastly.net/light_all/{z}/{x}/{y}.png&quot;,\n",
       "                {&quot;attribution&quot;: &quot;\\u0026copy; \\u003ca target=\\&quot;_blank\\&quot; href=\\&quot;http://www.openstreetmap.org/copyright\\&quot;\\u003eOpenStreetMap\\u003c/a\\u003e contributors \\u0026copy; \\u003ca target=\\&quot;_blank\\&quot; href=\\&quot;http://cartodb.com/attributions\\&quot;\\u003eCartoDB\\u003c/a\\u003e, CartoDB \\u003ca target=\\&quot;_blank\\&quot; href =\\&quot;http://cartodb.com/attributions\\&quot;\\u003eattributions\\u003c/a\\u003e&quot;, &quot;detectRetina&quot;: false, &quot;maxNativeZoom&quot;: 18, &quot;maxZoom&quot;: 18, &quot;minZoom&quot;: 0, &quot;noWrap&quot;: false, &quot;opacity&quot;: 1, &quot;subdomains&quot;: &quot;abc&quot;, &quot;tms&quot;: false}\n",
       "            ).addTo(map_78a58f123a7b848cc90257cc02a1d63f);\n",
       "        \n",
       "    \n",
       "            var choropleth_9107f8f719d37032dae519a2c1d1a8af = L.featureGroup(\n",
       "                {}\n",
       "            ).addTo(map_78a58f123a7b848cc90257cc02a1d63f);\n",
       "        \n",
       "    \n",
       "        function geo_json_fed2191dae0fc4d0241d448951ddcee1_styler(feature) {\n",
       "            switch(feature.properties.LSOA11NM) {\n",
       "                default:\n",
       "                    return {&quot;color&quot;: &quot;black&quot;, &quot;fillColor&quot;: &quot;blue&quot;, &quot;fillOpacity&quot;: 0.6, &quot;opacity&quot;: 1, &quot;weight&quot;: 1};\n",
       "            }\n",
       "        }\n",
       "        function geo_json_fed2191dae0fc4d0241d448951ddcee1_highlighter(feature) {\n",
       "            switch(feature.properties.LSOA11NM) {\n",
       "                default:\n",
       "                    return {&quot;fillOpacity&quot;: 0.8, &quot;weight&quot;: 3};\n",
       "            }\n",
       "        }\n",
       "\n",
       "        function geo_json_fed2191dae0fc4d0241d448951ddcee1_onEachFeature(feature, layer) {\n",
       "            layer.on({\n",
       "                mouseout: function(e) {\n",
       "                    if(typeof e.target.setStyle === &quot;function&quot;){\n",
       "                        geo_json_fed2191dae0fc4d0241d448951ddcee1.resetStyle(e.target);\n",
       "                    }\n",
       "                },\n",
       "                mouseover: function(e) {\n",
       "                    if(typeof e.target.setStyle === &quot;function&quot;){\n",
       "                        const highlightStyle = geo_json_fed2191dae0fc4d0241d448951ddcee1_highlighter(e.target.feature)\n",
       "                        e.target.setStyle(highlightStyle);\n",
       "                    }\n",
       "                },\n",
       "            });\n",
       "        };\n",
       "        var geo_json_fed2191dae0fc4d0241d448951ddcee1 = L.geoJson(null, {\n",
       "                onEachFeature: geo_json_fed2191dae0fc4d0241d448951ddcee1_onEachFeature,\n",
       "            \n",
       "                style: geo_json_fed2191dae0fc4d0241d448951ddcee1_styler,\n",
       "        });\n",
       "\n",
       "        function geo_json_fed2191dae0fc4d0241d448951ddcee1_add (data) {\n",
       "            geo_json_fed2191dae0fc4d0241d448951ddcee1\n",
       "                .addData(data)\n",
       "                .addTo(choropleth_9107f8f719d37032dae519a2c1d1a8af);\n",
       "        }\n",
       "            geo_json_fed2191dae0fc4d0241d448951ddcee1_add({&quot;features&quot;: [{&quot;geometry&quot;: {&quot;coordinates&quot;: [[[-3.187, 50.798], [-3.195, 50.798], [-3.194, 50.793], [-3.19, 50.795], [-3.187, 50.798]]], &quot;type&quot;: &quot;Polygon&quot;}, &quot;properties&quot;: {&quot;LSOA11NM&quot;: &quot;East Devon 002A&quot;}, &quot;type&quot;: &quot;Feature&quot;}, {&quot;geometry&quot;: {&quot;coordinates&quot;: [[[-3.191, 50.803], [-3.204, 50.804], [-3.205, 50.799], [-3.202, 50.798], [-3.195, 50.798], [-3.187, 50.798], [-3.185, 50.801], [-3.191, 50.803]]], &quot;type&quot;: &quot;Polygon&quot;}, &quot;properties&quot;: {&quot;LSOA11NM&quot;: &quot;East Devon 002B&quot;}, &quot;type&quot;: &quot;Feature&quot;}, {&quot;geometry&quot;: {&quot;coordinates&quot;: [[[-3.191, 50.803], [-3.185, 50.801], [-3.177, 50.802], [-3.172, 50.807], [-3.191, 50.803]]], &quot;type&quot;: &quot;Polygon&quot;}, &quot;properties&quot;: {&quot;LSOA11NM&quot;: &quot;East Devon 002C&quot;}, &quot;type&quot;: &quot;Feature&quot;}, {&quot;geometry&quot;: {&quot;coordinates&quot;: [[[-3.157, 50.801], [-3.177, 50.812], [-3.199, 50.805], [-3.204, 50.804], [-3.191, 50.803], [-3.172, 50.807], [-3.177, 50.802], [-3.185, 50.801], [-3.187, 50.798], [-3.19, 50.795], [-3.181, 50.792], [-3.182, 50.773], [-3.157, 50.801]]], &quot;type&quot;: &quot;Polygon&quot;}, &quot;properties&quot;: {&quot;LSOA11NM&quot;: &quot;East Devon 002D&quot;}, &quot;type&quot;: &quot;Feature&quot;}, {&quot;geometry&quot;: {&quot;coordinates&quot;: [[[-3.195, 50.798], [-3.202, 50.798], [-3.201, 50.792], [-3.194, 50.793], [-3.195, 50.798]]], &quot;type&quot;: &quot;Polygon&quot;}, &quot;properties&quot;: {&quot;LSOA11NM&quot;: &quot;East Devon 003A&quot;}, &quot;type&quot;: &quot;Feature&quot;}, {&quot;geometry&quot;: {&quot;coordinates&quot;: [[[-3.194, 50.793], [-3.181, 50.792], [-3.19, 50.795], [-3.194, 50.793]]], &quot;type&quot;: &quot;Polygon&quot;}, &quot;properties&quot;: {&quot;LSOA11NM&quot;: &quot;East Devon 003B&quot;}, &quot;type&quot;: &quot;Feature&quot;}, {&quot;geometry&quot;: {&quot;coordinates&quot;: [[[-3.202, 50.798], [-3.205, 50.799], [-3.216, 50.794], [-3.204, 50.782], [-3.201, 50.792], [-3.202, 50.798]]], &quot;type&quot;: &quot;Polygon&quot;}, &quot;properties&quot;: {&quot;LSOA11NM&quot;: &quot;East Devon 003C&quot;}, &quot;type&quot;: &quot;Feature&quot;}, {&quot;geometry&quot;: {&quot;coordinates&quot;: [[[-3.194, 50.793], [-3.201, 50.792], [-3.204, 50.782], [-3.2, 50.757], [-3.197, 50.756], [-3.182, 50.773], [-3.181, 50.792], [-3.194, 50.793]]], &quot;type&quot;: &quot;Polygon&quot;}, &quot;properties&quot;: {&quot;LSOA11NM&quot;: &quot;East Devon 003D&quot;}, &quot;type&quot;: &quot;Feature&quot;}, {&quot;geometry&quot;: {&quot;coordinates&quot;: [[[-3.276, 50.79], [-3.287, 50.794], [-3.291, 50.783], [-3.28, 50.784], [-3.276, 50.79]]], &quot;type&quot;: &quot;Polygon&quot;}, &quot;properties&quot;: {&quot;LSOA11NM&quot;: &quot;East Devon 004A&quot;}, &quot;type&quot;: &quot;Feature&quot;}, {&quot;geometry&quot;: {&quot;coordinates&quot;: [[[-3.199, 50.805], [-3.238, 50.827], [-3.243, 50.848], [-3.273, 50.854], [-3.319, 50.834], [-3.29, 50.797], [-3.256, 50.812], [-3.216, 50.794], [-3.205, 50.799], [-3.204, 50.804], [-3.199, 50.805]]], &quot;type&quot;: &quot;Polygon&quot;}, &quot;properties&quot;: {&quot;LSOA11NM&quot;: &quot;East Devon 004D&quot;}, &quot;type&quot;: &quot;Feature&quot;}, {&quot;geometry&quot;: {&quot;coordinates&quot;: [[[-3.281, 50.856], [-3.328, 50.857], [-3.348, 50.847], [-3.344, 50.826], [-3.36, 50.812], [-3.339, 50.797], [-3.304, 50.789], [-3.29, 50.797], [-3.319, 50.834], [-3.273, 50.854], [-3.281, 50.856]]], &quot;type&quot;: &quot;Polygon&quot;}, &quot;properties&quot;: {&quot;LSOA11NM&quot;: &quot;East Devon 004E&quot;}, &quot;type&quot;: &quot;Feature&quot;}, {&quot;geometry&quot;: {&quot;coordinates&quot;: [[[-3.304, 50.789], [-3.339, 50.797], [-3.382, 50.761], [-3.359, 50.744], [-3.332, 50.749], [-3.294, 50.767], [-3.304, 50.789]]], &quot;type&quot;: &quot;Polygon&quot;}, &quot;properties&quot;: {&quot;LSOA11NM&quot;: &quot;East Devon 004F&quot;}, &quot;type&quot;: &quot;Feature&quot;}, {&quot;geometry&quot;: {&quot;coordinates&quot;: [[[-3.292, 50.739], [-3.289, 50.754], [-3.273, 50.76], [-3.234, 50.761], [-3.2, 50.757], [-3.204, 50.782], [-3.216, 50.794], [-3.256, 50.812], [-3.29, 50.797], [-3.304, 50.789], [-3.294, 50.767], [-3.332, 50.749], [-3.329, 50.74], [-3.314, 50.74], [-3.292, 50.739]], [[-3.276, 50.79], [-3.28, 50.784], [-3.291, 50.783], [-3.287, 50.794], [-3.276, 50.79]]], &quot;type&quot;: &quot;Polygon&quot;}, &quot;properties&quot;: {&quot;LSOA11NM&quot;: &quot;East Devon 004G&quot;}, &quot;type&quot;: &quot;Feature&quot;}, {&quot;geometry&quot;: {&quot;coordinates&quot;: [[[-3.36, 50.812], [-3.41, 50.805], [-3.426, 50.812], [-3.432, 50.811], [-3.483, 50.792], [-3.47, 50.781], [-3.425, 50.753], [-3.399, 50.754], [-3.382, 50.761], [-3.339, 50.797], [-3.36, 50.812]]], &quot;type&quot;: &quot;Polygon&quot;}, &quot;properties&quot;: {&quot;LSOA11NM&quot;: &quot;East Devon 006A&quot;}, &quot;type&quot;: &quot;Feature&quot;}, {&quot;geometry&quot;: {&quot;coordinates&quot;: [[[-3.399, 50.754], [-3.425, 50.753], [-3.47, 50.781], [-3.497, 50.754], [-3.488, 50.752], [-3.424, 50.74], [-3.399, 50.754]]], &quot;type&quot;: &quot;Polygon&quot;}, &quot;properties&quot;: {&quot;LSOA11NM&quot;: &quot;East Devon 006B&quot;}, &quot;type&quot;: &quot;Feature&quot;}, {&quot;geometry&quot;: {&quot;coordinates&quot;: [[[-3.332, 50.749], [-3.359, 50.744], [-3.382, 50.761], [-3.399, 50.754], [-3.424, 50.74], [-3.488, 50.752], [-3.486, 50.751], [-3.463, 50.74], [-3.462, 50.732], [-3.462, 50.729], [-3.407, 50.728], [-3.357, 50.726], [-3.329, 50.74], [-3.332, 50.749]]], &quot;type&quot;: &quot;Polygon&quot;}, &quot;properties&quot;: {&quot;LSOA11NM&quot;: &quot;East Devon 006C&quot;}, &quot;type&quot;: &quot;Feature&quot;}, {&quot;geometry&quot;: {&quot;coordinates&quot;: [[[-3.497, 50.817], [-3.548, 50.791], [-3.551, 50.765], [-3.586, 50.744], [-3.57, 50.745], [-3.552, 50.745], [-3.529, 50.757], [-3.503, 50.755], [-3.497, 50.754], [-3.47, 50.781], [-3.483, 50.792], [-3.497, 50.817]]], &quot;type&quot;: &quot;Polygon&quot;}, &quot;properties&quot;: {&quot;LSOA11NM&quot;: &quot;East Devon 006D&quot;}, &quot;type&quot;: &quot;Feature&quot;}, {&quot;geometry&quot;: {&quot;coordinates&quot;: [[[-3.067, 50.732], [-3.064, 50.738], [-3.071, 50.738], [-3.067, 50.732]]], &quot;type&quot;: &quot;Polygon&quot;}, &quot;properties&quot;: {&quot;LSOA11NM&quot;: &quot;East Devon 007A&quot;}, &quot;type&quot;: &quot;Feature&quot;}, {&quot;geometry&quot;: {&quot;coordinates&quot;: [[[-3.12, 50.719], [-3.087, 50.715], [-3.087, 50.716], [-3.06, 50.721], [-3.048, 50.735], [-3.066, 50.752], [-3.092, 50.779], [-3.132, 50.766], [-3.141, 50.746], [-3.097, 50.735], [-3.12, 50.719]], [[-3.067, 50.732], [-3.071, 50.738], [-3.064, 50.738], [-3.067, 50.732]]], &quot;type&quot;: &quot;Polygon&quot;}, &quot;properties&quot;: {&quot;LSOA11NM&quot;: &quot;East Devon 007B&quot;}, &quot;type&quot;: &quot;Feature&quot;}, {&quot;geometry&quot;: {&quot;coordinates&quot;: [[[-3.043, 50.806], [-3.044, 50.808], [-3.116, 50.797], [-3.092, 50.779], [-3.066, 50.752], [-3.025, 50.788], [-3.043, 50.806]]], &quot;type&quot;: &quot;Polygon&quot;}, &quot;properties&quot;: {&quot;LSOA11NM&quot;: &quot;East Devon 007C&quot;}, &quot;type&quot;: &quot;Feature&quot;}, {&quot;geometry&quot;: {&quot;coordinates&quot;: [[[-3.021, 50.777], [-3.025, 50.788], [-3.066, 50.752], [-3.048, 50.735], [-2.99, 50.752], [-3.021, 50.777]]], &quot;type&quot;: &quot;Polygon&quot;}, &quot;properties&quot;: {&quot;LSOA11NM&quot;: &quot;East Devon 007D&quot;}, &quot;type&quot;: &quot;Feature&quot;}, {&quot;geometry&quot;: {&quot;coordinates&quot;: [[[-3.314, 50.74], [-3.329, 50.74], [-3.357, 50.726], [-3.407, 50.728], [-3.374, 50.706], [-3.337, 50.7], [-3.332, 50.725], [-3.314, 50.74]]], &quot;type&quot;: &quot;Polygon&quot;}, &quot;properties&quot;: {&quot;LSOA11NM&quot;: &quot;East Devon 008A&quot;}, &quot;type&quot;: &quot;Feature&quot;}, {&quot;geometry&quot;: {&quot;coordinates&quot;: [[[-3.292, 50.739], [-3.314, 50.74], [-3.332, 50.725], [-3.269, 50.709], [-3.254, 50.725], [-3.245, 50.74], [-3.273, 50.741], [-3.292, 50.739]]], &quot;type&quot;: &quot;Polygon&quot;}, &quot;properties&quot;: {&quot;LSOA11NM&quot;: &quot;East Devon 008B&quot;}, &quot;type&quot;: &quot;Feature&quot;}, {&quot;geometry&quot;: {&quot;coordinates&quot;: [[[-3.275, 50.751], [-3.289, 50.754], [-3.292, 50.739], [-3.273, 50.741], [-3.275, 50.751]]], &quot;type&quot;: &quot;Polygon&quot;}, &quot;properties&quot;: {&quot;LSOA11NM&quot;: &quot;East Devon 008C&quot;}, &quot;type&quot;: &quot;Feature&quot;}, {&quot;geometry&quot;: {&quot;coordinates&quot;: [[[-3.234, 50.761], [-3.273, 50.76], [-3.275, 50.751], [-3.273, 50.741], [-3.245, 50.74], [-3.234, 50.761]]], &quot;type&quot;: &quot;Polygon&quot;}, &quot;properties&quot;: {&quot;LSOA11NM&quot;: &quot;East Devon 008D&quot;}, &quot;type&quot;: &quot;Feature&quot;}, {&quot;geometry&quot;: {&quot;coordinates&quot;: [[[-3.275, 50.751], [-3.273, 50.76], [-3.289, 50.754], [-3.275, 50.751]]], &quot;type&quot;: &quot;Polygon&quot;}, &quot;properties&quot;: {&quot;LSOA11NM&quot;: &quot;East Devon 008E&quot;}, &quot;type&quot;: &quot;Feature&quot;}, {&quot;geometry&quot;: {&quot;coordinates&quot;: [[[-3.087, 50.715], [-3.12, 50.719], [-3.176, 50.709], [-3.185, 50.685], [-3.096, 50.685], [-3.085, 50.699], [-3.087, 50.715]]], &quot;type&quot;: &quot;Polygon&quot;}, &quot;properties&quot;: {&quot;LSOA11NM&quot;: &quot;East Devon 009A&quot;}, &quot;type&quot;: &quot;Feature&quot;}, {&quot;geometry&quot;: {&quot;coordinates&quot;: [[[-3.116, 50.797], [-3.157, 50.801], [-3.182, 50.773], [-3.197, 50.756], [-3.178, 50.743], [-3.176, 50.709], [-3.12, 50.719], [-3.097, 50.735], [-3.141, 50.746], [-3.132, 50.766], [-3.092, 50.779], [-3.116, 50.797]]], &quot;type&quot;: &quot;Polygon&quot;}, &quot;properties&quot;: {&quot;LSOA11NM&quot;: &quot;East Devon 009B&quot;}, &quot;type&quot;: &quot;Feature&quot;}, {&quot;geometry&quot;: {&quot;coordinates&quot;: [[[-3.2, 50.757], [-3.234, 50.761], [-3.245, 50.74], [-3.254, 50.725], [-3.231, 50.709], [-3.227, 50.705], [-3.227, 50.695], [-3.236, 50.686], [-3.234, 50.679], [-3.185, 50.685], [-3.176, 50.709], [-3.178, 50.743], [-3.197, 50.756], [-3.2, 50.757]]], &quot;type&quot;: &quot;Polygon&quot;}, &quot;properties&quot;: {&quot;LSOA11NM&quot;: &quot;East Devon 009C&quot;}, &quot;type&quot;: &quot;Feature&quot;}, {&quot;geometry&quot;: {&quot;coordinates&quot;: [[[-3.081, 50.715], [-3.087, 50.716], [-3.087, 50.715], [-3.085, 50.699], [-3.077, 50.703], [-3.075, 50.705], [-3.076, 50.71], [-3.081, 50.715]]], &quot;type&quot;: &quot;Polygon&quot;}, &quot;properties&quot;: {&quot;LSOA11NM&quot;: &quot;East Devon 010A&quot;}, &quot;type&quot;: &quot;Feature&quot;}, {&quot;geometry&quot;: {&quot;coordinates&quot;: [[[-3.06, 50.708], [-3.075, 50.705], [-3.077, 50.703], [-3.061, 50.703], [-3.06, 50.708]]], &quot;type&quot;: &quot;Polygon&quot;}, &quot;properties&quot;: {&quot;LSOA11NM&quot;: &quot;East Devon 010B&quot;}, &quot;type&quot;: &quot;Feature&quot;}, {&quot;geometry&quot;: {&quot;coordinates&quot;: [[[-3.066, 50.713], [-3.081, 50.715], [-3.076, 50.71], [-3.066, 50.713]]], &quot;type&quot;: &quot;Polygon&quot;}, &quot;properties&quot;: {&quot;LSOA11NM&quot;: &quot;East Devon 010C&quot;}, &quot;type&quot;: &quot;Feature&quot;}, {&quot;geometry&quot;: {&quot;coordinates&quot;: [[[-3.06, 50.721], [-3.087, 50.716], [-3.081, 50.715], [-3.066, 50.713], [-3.06, 50.712], [-3.06, 50.721]]], &quot;type&quot;: &quot;Polygon&quot;}, &quot;properties&quot;: {&quot;LSOA11NM&quot;: &quot;East Devon 010D&quot;}, &quot;type&quot;: &quot;Feature&quot;}, {&quot;geometry&quot;: {&quot;coordinates&quot;: [[[-3.06, 50.708], [-3.06, 50.712], [-3.066, 50.713], [-3.076, 50.71], [-3.075, 50.705], [-3.06, 50.708]]], &quot;type&quot;: &quot;Polygon&quot;}, &quot;properties&quot;: {&quot;LSOA11NM&quot;: &quot;East Devon 010E&quot;}, &quot;type&quot;: &quot;Feature&quot;}, {&quot;geometry&quot;: {&quot;coordinates&quot;: [[[-3.227, 50.695], [-3.227, 50.705], [-3.239, 50.697], [-3.227, 50.695]]], &quot;type&quot;: &quot;Polygon&quot;}, &quot;properties&quot;: {&quot;LSOA11NM&quot;: &quot;East Devon 011A&quot;}, &quot;type&quot;: &quot;Feature&quot;}, {&quot;geometry&quot;: {&quot;coordinates&quot;: [[[-3.231, 50.709], [-3.239, 50.697], [-3.227, 50.705], [-3.231, 50.709]]], &quot;type&quot;: &quot;Polygon&quot;}, &quot;properties&quot;: {&quot;LSOA11NM&quot;: &quot;East Devon 011B&quot;}, &quot;type&quot;: &quot;Feature&quot;}, {&quot;geometry&quot;: {&quot;coordinates&quot;: [[[-3.231, 50.709], [-3.254, 50.725], [-3.269, 50.709], [-3.273, 50.7], [-3.242, 50.695], [-3.239, 50.697], [-3.231, 50.709]]], &quot;type&quot;: &quot;Polygon&quot;}, &quot;properties&quot;: {&quot;LSOA11NM&quot;: &quot;East Devon 011C&quot;}, &quot;type&quot;: &quot;Feature&quot;}, {&quot;geometry&quot;: {&quot;coordinates&quot;: [[[-3.227, 50.695], [-3.239, 50.697], [-3.242, 50.695], [-3.238, 50.688], [-3.236, 50.686], [-3.227, 50.695]]], &quot;type&quot;: &quot;Polygon&quot;}, &quot;properties&quot;: {&quot;LSOA11NM&quot;: &quot;East Devon 011D&quot;}, &quot;type&quot;: &quot;Feature&quot;}, {&quot;geometry&quot;: {&quot;coordinates&quot;: [[[-3.236, 50.686], [-3.238, 50.688], [-3.242, 50.687], [-3.242, 50.677], [-3.234, 50.679], [-3.236, 50.686]]], &quot;type&quot;: &quot;Polygon&quot;}, &quot;properties&quot;: {&quot;LSOA11NM&quot;: &quot;East Devon 012A&quot;}, &quot;type&quot;: &quot;Feature&quot;}, {&quot;geometry&quot;: {&quot;coordinates&quot;: [[[-3.242, 50.687], [-3.268, 50.693], [-3.271, 50.686], [-3.262, 50.672], [-3.242, 50.677], [-3.242, 50.687]]], &quot;type&quot;: &quot;Polygon&quot;}, &quot;properties&quot;: {&quot;LSOA11NM&quot;: &quot;East Devon 012B&quot;}, &quot;type&quot;: &quot;Feature&quot;}, {&quot;geometry&quot;: {&quot;coordinates&quot;: [[[-3.242, 50.695], [-3.273, 50.7], [-3.268, 50.693], [-3.242, 50.687], [-3.238, 50.688], [-3.242, 50.695]]], &quot;type&quot;: &quot;Polygon&quot;}, &quot;properties&quot;: {&quot;LSOA11NM&quot;: &quot;East Devon 012C&quot;}, &quot;type&quot;: &quot;Feature&quot;}, {&quot;geometry&quot;: {&quot;coordinates&quot;: [[[-3.269, 50.709], [-3.332, 50.725], [-3.337, 50.7], [-3.271, 50.686], [-3.268, 50.693], [-3.273, 50.7], [-3.269, 50.709]]], &quot;type&quot;: &quot;Polygon&quot;}, &quot;properties&quot;: {&quot;LSOA11NM&quot;: &quot;East Devon 013A&quot;}, &quot;type&quot;: &quot;Feature&quot;}, {&quot;geometry&quot;: {&quot;coordinates&quot;: [[[-3.337, 50.7], [-3.374, 50.706], [-3.426, 50.698], [-3.428, 50.684], [-3.408, 50.683], [-3.392, 50.685], [-3.357, 50.677], [-3.369, 50.656], [-3.307, 50.659], [-3.31, 50.635], [-3.309, 50.633], [-3.307, 50.632], [-3.307, 50.631], [-3.262, 50.672], [-3.271, 50.686], [-3.337, 50.7]]], &quot;type&quot;: &quot;Polygon&quot;}, &quot;properties&quot;: {&quot;LSOA11NM&quot;: &quot;East Devon 013B&quot;}, &quot;type&quot;: &quot;Feature&quot;}, {&quot;geometry&quot;: {&quot;coordinates&quot;: [[[-3.408, 50.683], [-3.398, 50.672], [-3.379, 50.67], [-3.392, 50.685], [-3.408, 50.683]]], &quot;type&quot;: &quot;Polygon&quot;}, &quot;properties&quot;: {&quot;LSOA11NM&quot;: &quot;East Devon 013C&quot;}, &quot;type&quot;: &quot;Feature&quot;}, {&quot;geometry&quot;: {&quot;coordinates&quot;: [[[-3.407, 50.728], [-3.462, 50.729], [-3.464, 50.713], [-3.47, 50.702], [-3.458, 50.684], [-3.452, 50.683], [-3.452, 50.679], [-3.428, 50.684], [-3.426, 50.698], [-3.374, 50.706], [-3.407, 50.728]]], &quot;type&quot;: &quot;Polygon&quot;}, &quot;properties&quot;: {&quot;LSOA11NM&quot;: &quot;East Devon 014A&quot;}, &quot;type&quot;: &quot;Feature&quot;}, {&quot;geometry&quot;: {&quot;coordinates&quot;: [[[-3.408, 50.683], [-3.428, 50.684], [-3.452, 50.679], [-3.433, 50.651], [-3.42, 50.654], [-3.412, 50.647], [-3.428, 50.643], [-3.423, 50.639], [-3.402, 50.644], [-3.4, 50.645], [-3.371, 50.656], [-3.369, 50.656], [-3.357, 50.677], [-3.392, 50.685], [-3.379, 50.67], [-3.398, 50.672], [-3.408, 50.683]]], &quot;type&quot;: &quot;Polygon&quot;}, &quot;properties&quot;: {&quot;LSOA11NM&quot;: &quot;East Devon 014B&quot;}, &quot;type&quot;: &quot;Feature&quot;}, {&quot;geometry&quot;: {&quot;coordinates&quot;: [[[-3.428, 50.643], [-3.412, 50.647], [-3.42, 50.654], [-3.433, 50.651], [-3.428, 50.643]]], &quot;type&quot;: &quot;Polygon&quot;}, &quot;properties&quot;: {&quot;LSOA11NM&quot;: &quot;East Devon 014C&quot;}, &quot;type&quot;: &quot;Feature&quot;}, {&quot;geometry&quot;: {&quot;coordinates&quot;: [[[-3.395, 50.636], [-3.394, 50.632], [-3.393, 50.631], [-3.387, 50.634], [-3.391, 50.637], [-3.395, 50.636]]], &quot;type&quot;: &quot;Polygon&quot;}, &quot;properties&quot;: {&quot;LSOA11NM&quot;: &quot;East Devon 015A&quot;}, &quot;type&quot;: &quot;Feature&quot;}, {&quot;geometry&quot;: {&quot;coordinates&quot;: [[[-3.363, 50.651], [-3.371, 50.656], [-3.4, 50.645], [-3.393, 50.642], [-3.389, 50.64], [-3.38, 50.638], [-3.363, 50.651]]], &quot;type&quot;: &quot;Polygon&quot;}, &quot;properties&quot;: {&quot;LSOA11NM&quot;: &quot;East Devon 015B&quot;}, &quot;type&quot;: &quot;Feature&quot;}, {&quot;geometry&quot;: {&quot;coordinates&quot;: [[[-3.389, 50.64], [-3.393, 50.642], [-3.4, 50.639], [-3.399, 50.637], [-3.395, 50.636], [-3.391, 50.637], [-3.389, 50.64]]], &quot;type&quot;: &quot;Polygon&quot;}, &quot;properties&quot;: {&quot;LSOA11NM&quot;: &quot;East Devon 015C&quot;}, &quot;type&quot;: &quot;Feature&quot;}, {&quot;geometry&quot;: {&quot;coordinates&quot;: [[[-3.38, 50.638], [-3.389, 50.64], [-3.391, 50.637], [-3.387, 50.634], [-3.386, 50.634], [-3.38, 50.638]]], &quot;type&quot;: &quot;Polygon&quot;}, &quot;properties&quot;: {&quot;LSOA11NM&quot;: &quot;East Devon 015D&quot;}, &quot;type&quot;: &quot;Feature&quot;}, {&quot;geometry&quot;: {&quot;coordinates&quot;: [[[-3.393, 50.642], [-3.4, 50.645], [-3.402, 50.644], [-3.402, 50.643], [-3.4, 50.639], [-3.393, 50.642]]], &quot;type&quot;: &quot;Polygon&quot;}, &quot;properties&quot;: {&quot;LSOA11NM&quot;: &quot;East Devon 016A&quot;}, &quot;type&quot;: &quot;Feature&quot;}, {&quot;geometry&quot;: {&quot;coordinates&quot;: [[[-3.4, 50.639], [-3.402, 50.643], [-3.41, 50.633], [-3.404, 50.629], [-3.402, 50.634], [-3.399, 50.637], [-3.4, 50.639]]], &quot;type&quot;: &quot;Polygon&quot;}, &quot;properties&quot;: {&quot;LSOA11NM&quot;: &quot;East Devon 016B&quot;}, &quot;type&quot;: &quot;Feature&quot;}, {&quot;geometry&quot;: {&quot;coordinates&quot;: [[[-3.404, 50.629], [-3.41, 50.633], [-3.416, 50.63], [-3.416, 50.629], [-3.413, 50.626], [-3.408, 50.626], [-3.404, 50.622], [-3.402, 50.622], [-3.4, 50.623], [-3.399, 50.625], [-3.404, 50.629]]], &quot;type&quot;: &quot;Polygon&quot;}, &quot;properties&quot;: {&quot;LSOA11NM&quot;: &quot;East Devon 016C&quot;}, &quot;type&quot;: &quot;Feature&quot;}, {&quot;geometry&quot;: {&quot;coordinates&quot;: [[[-3.402, 50.643], [-3.402, 50.644], [-3.423, 50.639], [-3.416, 50.63], [-3.41, 50.633], [-3.402, 50.643]]], &quot;type&quot;: &quot;Polygon&quot;}, &quot;properties&quot;: {&quot;LSOA11NM&quot;: &quot;East Devon 016D&quot;}, &quot;type&quot;: &quot;Feature&quot;}, {&quot;geometry&quot;: {&quot;coordinates&quot;: [[[[-3.307, 50.631], [-3.307, 50.632], [-3.308, 50.632], [-3.307, 50.631]]], [[[-3.328, 50.627], [-3.311, 50.632], [-3.327, 50.631], [-3.328, 50.627]]]], &quot;type&quot;: &quot;MultiPolygon&quot;}, &quot;properties&quot;: {&quot;LSOA11NM&quot;: &quot;East Devon 017A&quot;}, &quot;type&quot;: &quot;Feature&quot;}, {&quot;geometry&quot;: {&quot;coordinates&quot;: [[[[-3.308, 50.632], [-3.307, 50.632], [-3.309, 50.633], [-3.308, 50.632]]], [[[-3.353, 50.628], [-3.339, 50.638], [-3.329, 50.642], [-3.329, 50.633], [-3.327, 50.631], [-3.311, 50.632], [-3.308, 50.632], [-3.31, 50.635], [-3.307, 50.659], [-3.369, 50.656], [-3.371, 50.656], [-3.363, 50.651], [-3.357, 50.633], [-3.353, 50.628]]]], &quot;type&quot;: &quot;MultiPolygon&quot;}, &quot;properties&quot;: {&quot;LSOA11NM&quot;: &quot;East Devon 017B&quot;}, &quot;type&quot;: &quot;Feature&quot;}, {&quot;geometry&quot;: {&quot;coordinates&quot;: [[[-3.339, 50.638], [-3.353, 50.628], [-3.349, 50.62], [-3.328, 50.627], [-3.327, 50.631], [-3.329, 50.633], [-3.339, 50.638]]], &quot;type&quot;: &quot;Polygon&quot;}, &quot;properties&quot;: {&quot;LSOA11NM&quot;: &quot;East Devon 017C&quot;}, &quot;type&quot;: &quot;Feature&quot;}, {&quot;geometry&quot;: {&quot;coordinates&quot;: [[[-3.329, 50.633], [-3.329, 50.642], [-3.339, 50.638], [-3.329, 50.633]]], &quot;type&quot;: &quot;Polygon&quot;}, &quot;properties&quot;: {&quot;LSOA11NM&quot;: &quot;East Devon 017D&quot;}, &quot;type&quot;: &quot;Feature&quot;}, {&quot;geometry&quot;: {&quot;coordinates&quot;: [[[-3.389, 50.625], [-3.388, 50.625], [-3.381, 50.629], [-3.386, 50.634], [-3.387, 50.634], [-3.393, 50.631], [-3.389, 50.625]]], &quot;type&quot;: &quot;Polygon&quot;}, &quot;properties&quot;: {&quot;LSOA11NM&quot;: &quot;East Devon 018A&quot;}, &quot;type&quot;: &quot;Feature&quot;}, {&quot;geometry&quot;: {&quot;coordinates&quot;: [[[-3.393, 50.631], [-3.394, 50.632], [-3.4, 50.631], [-3.399, 50.625], [-3.4, 50.623], [-3.389, 50.625], [-3.393, 50.631]]], &quot;type&quot;: &quot;Polygon&quot;}, &quot;properties&quot;: {&quot;LSOA11NM&quot;: &quot;East Devon 018B&quot;}, &quot;type&quot;: &quot;Feature&quot;}, {&quot;geometry&quot;: {&quot;coordinates&quot;: [[[-3.4, 50.631], [-3.402, 50.634], [-3.404, 50.629], [-3.399, 50.625], [-3.4, 50.631]]], &quot;type&quot;: &quot;Polygon&quot;}, &quot;properties&quot;: {&quot;LSOA11NM&quot;: &quot;East Devon 018C&quot;}, &quot;type&quot;: &quot;Feature&quot;}, {&quot;geometry&quot;: {&quot;coordinates&quot;: [[[-3.395, 50.636], [-3.399, 50.637], [-3.402, 50.634], [-3.4, 50.631], [-3.394, 50.632], [-3.395, 50.636]]], &quot;type&quot;: &quot;Polygon&quot;}, &quot;properties&quot;: {&quot;LSOA11NM&quot;: &quot;East Devon 018D&quot;}, &quot;type&quot;: &quot;Feature&quot;}, {&quot;geometry&quot;: {&quot;coordinates&quot;: [[[-3.357, 50.633], [-3.363, 50.651], [-3.38, 50.638], [-3.386, 50.634], [-3.381, 50.629], [-3.357, 50.633]]], &quot;type&quot;: &quot;Polygon&quot;}, &quot;properties&quot;: {&quot;LSOA11NM&quot;: &quot;East Devon 018E&quot;}, &quot;type&quot;: &quot;Feature&quot;}, {&quot;geometry&quot;: {&quot;coordinates&quot;: [[[-3.408, 50.62], [-3.411, 50.623], [-3.415, 50.621], [-3.42, 50.616], [-3.412, 50.614], [-3.41, 50.615], [-3.408, 50.62]]], &quot;type&quot;: &quot;Polygon&quot;}, &quot;properties&quot;: {&quot;LSOA11NM&quot;: &quot;East Devon 019A&quot;}, &quot;type&quot;: &quot;Feature&quot;}, {&quot;geometry&quot;: {&quot;coordinates&quot;: [[[-3.404, 50.622], [-3.408, 50.626], [-3.411, 50.623], [-3.408, 50.62], [-3.404, 50.622]]], &quot;type&quot;: &quot;Polygon&quot;}, &quot;properties&quot;: {&quot;LSOA11NM&quot;: &quot;East Devon 019B&quot;}, &quot;type&quot;: &quot;Feature&quot;}, {&quot;geometry&quot;: {&quot;coordinates&quot;: [[[-3.413, 50.626], [-3.416, 50.629], [-3.42, 50.616], [-3.415, 50.621], [-3.413, 50.626]]], &quot;type&quot;: &quot;Polygon&quot;}, &quot;properties&quot;: {&quot;LSOA11NM&quot;: &quot;East Devon 019C&quot;}, &quot;type&quot;: &quot;Feature&quot;}, {&quot;geometry&quot;: {&quot;coordinates&quot;: [[[-3.408, 50.626], [-3.413, 50.626], [-3.415, 50.621], [-3.411, 50.623], [-3.408, 50.626]]], &quot;type&quot;: &quot;Polygon&quot;}, &quot;properties&quot;: {&quot;LSOA11NM&quot;: &quot;East Devon 019D&quot;}, &quot;type&quot;: &quot;Feature&quot;}, {&quot;geometry&quot;: {&quot;coordinates&quot;: [[[-3.402, 50.619], [-3.402, 50.622], [-3.404, 50.622], [-3.408, 50.62], [-3.41, 50.615], [-3.402, 50.619]]], &quot;type&quot;: &quot;Polygon&quot;}, &quot;properties&quot;: {&quot;LSOA11NM&quot;: &quot;East Devon 020A&quot;}, &quot;type&quot;: &quot;Feature&quot;}, {&quot;geometry&quot;: {&quot;coordinates&quot;: [[[-3.385, 50.616], [-3.402, 50.619], [-3.41, 50.615], [-3.412, 50.614], [-3.383, 50.607], [-3.385, 50.616]]], &quot;type&quot;: &quot;Polygon&quot;}, &quot;properties&quot;: {&quot;LSOA11NM&quot;: &quot;East Devon 020B&quot;}, &quot;type&quot;: &quot;Feature&quot;}, {&quot;geometry&quot;: {&quot;coordinates&quot;: [[[-3.353, 50.628], [-3.357, 50.633], [-3.381, 50.629], [-3.388, 50.625], [-3.385, 50.616], [-3.383, 50.607], [-3.349, 50.62], [-3.353, 50.628]]], &quot;type&quot;: &quot;Polygon&quot;}, &quot;properties&quot;: {&quot;LSOA11NM&quot;: &quot;East Devon 020C&quot;}, &quot;type&quot;: &quot;Feature&quot;}, {&quot;geometry&quot;: {&quot;coordinates&quot;: [[[-3.385, 50.616], [-3.388, 50.625], [-3.389, 50.625], [-3.4, 50.623], [-3.402, 50.622], [-3.402, 50.619], [-3.385, 50.616]]], &quot;type&quot;: &quot;Polygon&quot;}, &quot;properties&quot;: {&quot;LSOA11NM&quot;: &quot;East Devon 020D&quot;}, &quot;type&quot;: &quot;Feature&quot;}, {&quot;geometry&quot;: {&quot;coordinates&quot;: [[[-3.522, 50.74], [-3.522, 50.739], [-3.515, 50.737], [-3.51, 50.739], [-3.511, 50.741], [-3.512, 50.743], [-3.522, 50.74]]], &quot;type&quot;: &quot;Polygon&quot;}, &quot;properties&quot;: {&quot;LSOA11NM&quot;: &quot;Exeter 001C&quot;}, &quot;type&quot;: &quot;Feature&quot;}, {&quot;geometry&quot;: {&quot;coordinates&quot;: [[[-3.522, 50.739], [-3.525, 50.733], [-3.517, 50.734], [-3.516, 50.735], [-3.515, 50.737], [-3.522, 50.739]]], &quot;type&quot;: &quot;Polygon&quot;}, &quot;properties&quot;: {&quot;LSOA11NM&quot;: &quot;Exeter 001D&quot;}, &quot;type&quot;: &quot;Feature&quot;}, {&quot;geometry&quot;: {&quot;coordinates&quot;: [[[-3.503, 50.755], [-3.529, 50.757], [-3.522, 50.74], [-3.512, 50.743], [-3.503, 50.755]]], &quot;type&quot;: &quot;Polygon&quot;}, &quot;properties&quot;: {&quot;LSOA11NM&quot;: &quot;Exeter 001E&quot;}, &quot;type&quot;: &quot;Feature&quot;}, {&quot;geometry&quot;: {&quot;coordinates&quot;: [[[-3.522, 50.74], [-3.529, 50.757], [-3.552, 50.745], [-3.545, 50.731], [-3.54, 50.731], [-3.528, 50.733], [-3.525, 50.733], [-3.522, 50.739], [-3.522, 50.74]]], &quot;type&quot;: &quot;Polygon&quot;}, &quot;properties&quot;: {&quot;LSOA11NM&quot;: &quot;Exeter 001F&quot;}, &quot;type&quot;: &quot;Feature&quot;}, {&quot;geometry&quot;: {&quot;coordinates&quot;: [[[-3.497, 50.74], [-3.511, 50.741], [-3.51, 50.739], [-3.508, 50.738], [-3.497, 50.74]]], &quot;type&quot;: &quot;Polygon&quot;}, &quot;properties&quot;: {&quot;LSOA11NM&quot;: &quot;Exeter 002A&quot;}, &quot;type&quot;: &quot;Feature&quot;}, {&quot;geometry&quot;: {&quot;coordinates&quot;: [[[-3.494, 50.74], [-3.497, 50.74], [-3.508, 50.738], [-3.505, 50.735], [-3.502, 50.734], [-3.493, 50.737], [-3.494, 50.74]]], &quot;type&quot;: &quot;Polygon&quot;}, &quot;properties&quot;: {&quot;LSOA11NM&quot;: &quot;Exeter 002B&quot;}, &quot;type&quot;: &quot;Feature&quot;}, {&quot;geometry&quot;: {&quot;coordinates&quot;: [[[-3.497, 50.754], [-3.503, 50.755], [-3.512, 50.743], [-3.511, 50.741], [-3.497, 50.74], [-3.494, 50.74], [-3.487, 50.748], [-3.486, 50.751], [-3.488, 50.752], [-3.497, 50.754]]], &quot;type&quot;: &quot;Polygon&quot;}, &quot;properties&quot;: {&quot;LSOA11NM&quot;: &quot;Exeter 002C&quot;}, &quot;type&quot;: &quot;Feature&quot;}, {&quot;geometry&quot;: {&quot;coordinates&quot;: [[[-3.508, 50.738], [-3.51, 50.739], [-3.515, 50.737], [-3.516, 50.735], [-3.508, 50.735], [-3.505, 50.735], [-3.508, 50.738]]], &quot;type&quot;: &quot;Polygon&quot;}, &quot;properties&quot;: {&quot;LSOA11NM&quot;: &quot;Exeter 002D&quot;}, &quot;type&quot;: &quot;Feature&quot;}, {&quot;geometry&quot;: {&quot;coordinates&quot;: [[[-3.516, 50.735], [-3.517, 50.734], [-3.518, 50.732], [-3.514, 50.731], [-3.51, 50.731], [-3.508, 50.735], [-3.516, 50.735]]], &quot;type&quot;: &quot;Polygon&quot;}, &quot;properties&quot;: {&quot;LSOA11NM&quot;: &quot;Exeter 002E&quot;}, &quot;type&quot;: &quot;Feature&quot;}, {&quot;geometry&quot;: {&quot;coordinates&quot;: [[[-3.493, 50.737], [-3.502, 50.734], [-3.501, 50.732], [-3.492, 50.732], [-3.493, 50.737]]], &quot;type&quot;: &quot;Polygon&quot;}, &quot;properties&quot;: {&quot;LSOA11NM&quot;: &quot;Exeter 003A&quot;}, &quot;type&quot;: &quot;Feature&quot;}, {&quot;geometry&quot;: {&quot;coordinates&quot;: [[[-3.478, 50.738], [-3.487, 50.748], [-3.494, 50.74], [-3.493, 50.737], [-3.478, 50.738]]], &quot;type&quot;: &quot;Polygon&quot;}, &quot;properties&quot;: {&quot;LSOA11NM&quot;: &quot;Exeter 003B&quot;}, &quot;type&quot;: &quot;Feature&quot;}, {&quot;geometry&quot;: {&quot;coordinates&quot;: [[[-3.463, 50.74], [-3.486, 50.751], [-3.487, 50.748], [-3.478, 50.738], [-3.474, 50.738], [-3.463, 50.74]]], &quot;type&quot;: &quot;Polygon&quot;}, &quot;properties&quot;: {&quot;LSOA11NM&quot;: &quot;Exeter 003C&quot;}, &quot;type&quot;: &quot;Feature&quot;}, {&quot;geometry&quot;: {&quot;coordinates&quot;: [[[-3.463, 50.74], [-3.474, 50.738], [-3.475, 50.731], [-3.462, 50.732], [-3.463, 50.74]]], &quot;type&quot;: &quot;Polygon&quot;}, &quot;properties&quot;: {&quot;LSOA11NM&quot;: &quot;Exeter 003D&quot;}, &quot;type&quot;: &quot;Feature&quot;}, {&quot;geometry&quot;: {&quot;coordinates&quot;: [[[-3.474, 50.738], [-3.478, 50.738], [-3.493, 50.737], [-3.492, 50.732], [-3.491, 50.732], [-3.481, 50.731], [-3.475, 50.731], [-3.474, 50.738]]], &quot;type&quot;: &quot;Polygon&quot;}, &quot;properties&quot;: {&quot;LSOA11NM&quot;: &quot;Exeter 003E&quot;}, &quot;type&quot;: &quot;Feature&quot;}, {&quot;geometry&quot;: {&quot;coordinates&quot;: [[[-3.514, 50.731], [-3.518, 50.732], [-3.519, 50.731], [-3.52, 50.729], [-3.514, 50.73], [-3.514, 50.731]]], &quot;type&quot;: &quot;Polygon&quot;}, &quot;properties&quot;: {&quot;LSOA11NM&quot;: &quot;Exeter 004A&quot;}, &quot;type&quot;: &quot;Feature&quot;}, {&quot;geometry&quot;: {&quot;coordinates&quot;: [[[-3.518, 50.732], [-3.517, 50.734], [-3.525, 50.733], [-3.528, 50.733], [-3.519, 50.731], [-3.518, 50.732]]], &quot;type&quot;: &quot;Polygon&quot;}, &quot;properties&quot;: {&quot;LSOA11NM&quot;: &quot;Exeter 004B&quot;}, &quot;type&quot;: &quot;Feature&quot;}, {&quot;geometry&quot;: {&quot;coordinates&quot;: [[[-3.519, 50.731], [-3.528, 50.733], [-3.527, 50.73], [-3.523, 50.728], [-3.521, 50.729], [-3.52, 50.729], [-3.519, 50.731]]], &quot;type&quot;: &quot;Polygon&quot;}, &quot;properties&quot;: {&quot;LSOA11NM&quot;: &quot;Exeter 004C&quot;}, &quot;type&quot;: &quot;Feature&quot;}, {&quot;geometry&quot;: {&quot;coordinates&quot;: [[[-3.528, 50.733], [-3.54, 50.731], [-3.531, 50.728], [-3.527, 50.73], [-3.528, 50.733]]], &quot;type&quot;: &quot;Polygon&quot;}, &quot;properties&quot;: {&quot;LSOA11NM&quot;: &quot;Exeter 004D&quot;}, &quot;type&quot;: &quot;Feature&quot;}, {&quot;geometry&quot;: {&quot;coordinates&quot;: [[[-3.527, 50.73], [-3.531, 50.728], [-3.529, 50.727], [-3.527, 50.726], [-3.523, 50.728], [-3.527, 50.73]]], &quot;type&quot;: &quot;Polygon&quot;}, &quot;properties&quot;: {&quot;LSOA11NM&quot;: &quot;Exeter 004E&quot;}, &quot;type&quot;: &quot;Feature&quot;}, {&quot;geometry&quot;: {&quot;coordinates&quot;: [[[-3.552, 50.728], [-3.555, 50.732], [-3.557, 50.73], [-3.552, 50.728]]], &quot;type&quot;: &quot;Polygon&quot;}, &quot;properties&quot;: {&quot;LSOA11NM&quot;: &quot;Exeter 005A&quot;}, &quot;type&quot;: &quot;Feature&quot;}, {&quot;geometry&quot;: {&quot;coordinates&quot;: [[[-3.552, 50.745], [-3.57, 50.745], [-3.568, 50.726], [-3.558, 50.728], [-3.557, 50.73], [-3.555, 50.732], [-3.545, 50.731], [-3.552, 50.745]]], &quot;type&quot;: &quot;Polygon&quot;}, &quot;properties&quot;: {&quot;LSOA11NM&quot;: &quot;Exeter 005B&quot;}, &quot;type&quot;: &quot;Feature&quot;}, {&quot;geometry&quot;: {&quot;coordinates&quot;: [[[-3.545, 50.731], [-3.555, 50.732], [-3.552, 50.728], [-3.553, 50.725], [-3.544, 50.727], [-3.545, 50.731]]], &quot;type&quot;: &quot;Polygon&quot;}, &quot;properties&quot;: {&quot;LSOA11NM&quot;: &quot;Exeter 005C&quot;}, &quot;type&quot;: &quot;Feature&quot;}, {&quot;geometry&quot;: {&quot;coordinates&quot;: [[[-3.552, 50.728], [-3.557, 50.73], [-3.558, 50.728], [-3.555, 50.722], [-3.553, 50.725], [-3.552, 50.728]]], &quot;type&quot;: &quot;Polygon&quot;}, &quot;properties&quot;: {&quot;LSOA11NM&quot;: &quot;Exeter 005D&quot;}, &quot;type&quot;: &quot;Feature&quot;}, {&quot;geometry&quot;: {&quot;coordinates&quot;: [[[-3.54, 50.724], [-3.544, 50.727], [-3.553, 50.725], [-3.555, 50.722], [-3.549, 50.721], [-3.543, 50.721], [-3.54, 50.723], [-3.54, 50.724]]], &quot;type&quot;: &quot;Polygon&quot;}, &quot;properties&quot;: {&quot;LSOA11NM&quot;: &quot;Exeter 005E&quot;}, &quot;type&quot;: &quot;Feature&quot;}, {&quot;geometry&quot;: {&quot;coordinates&quot;: [[[-3.504, 50.723], [-3.506, 50.726], [-3.511, 50.722], [-3.51, 50.72], [-3.509, 50.72], [-3.501, 50.721], [-3.504, 50.723]]], &quot;type&quot;: &quot;Polygon&quot;}, &quot;properties&quot;: {&quot;LSOA11NM&quot;: &quot;Exeter 006A&quot;}, &quot;type&quot;: &quot;Feature&quot;}, {&quot;geometry&quot;: {&quot;coordinates&quot;: [[[-3.503, 50.726], [-3.506, 50.726], [-3.504, 50.723], [-3.503, 50.726]]], &quot;type&quot;: &quot;Polygon&quot;}, &quot;properties&quot;: {&quot;LSOA11NM&quot;: &quot;Exeter 006B&quot;}, &quot;type&quot;: &quot;Feature&quot;}, {&quot;geometry&quot;: {&quot;coordinates&quot;: [[[-3.502, 50.734], [-3.505, 50.735], [-3.508, 50.735], [-3.51, 50.731], [-3.506, 50.728], [-3.502, 50.726], [-3.502, 50.727], [-3.501, 50.732], [-3.502, 50.734]]], &quot;type&quot;: &quot;Polygon&quot;}, &quot;properties&quot;: {&quot;LSOA11NM&quot;: &quot;Exeter 006C&quot;}, &quot;type&quot;: &quot;Feature&quot;}, {&quot;geometry&quot;: {&quot;coordinates&quot;: [[[-3.506, 50.728], [-3.51, 50.731], [-3.514, 50.731], [-3.514, 50.73], [-3.514, 50.729], [-3.506, 50.728]]], &quot;type&quot;: &quot;Polygon&quot;}, &quot;properties&quot;: {&quot;LSOA11NM&quot;: &quot;Exeter 006D&quot;}, &quot;type&quot;: &quot;Feature&quot;}, {&quot;geometry&quot;: {&quot;coordinates&quot;: [[[-3.506, 50.728], [-3.514, 50.729], [-3.513, 50.726], [-3.512, 50.724], [-3.511, 50.722], [-3.506, 50.726], [-3.503, 50.726], [-3.502, 50.726], [-3.506, 50.728]]], &quot;type&quot;: &quot;Polygon&quot;}, &quot;properties&quot;: {&quot;LSOA11NM&quot;: &quot;Exeter 006E&quot;}, &quot;type&quot;: &quot;Feature&quot;}, {&quot;geometry&quot;: {&quot;coordinates&quot;: [[[-3.496, 50.725], [-3.502, 50.727], [-3.502, 50.726], [-3.503, 50.726], [-3.504, 50.723], [-3.501, 50.721], [-3.495, 50.72], [-3.496, 50.725]]], &quot;type&quot;: &quot;Polygon&quot;}, &quot;properties&quot;: {&quot;LSOA11NM&quot;: &quot;Exeter 007A&quot;}, &quot;type&quot;: &quot;Feature&quot;}, {&quot;geometry&quot;: {&quot;coordinates&quot;: [[[-3.493, 50.73], [-3.491, 50.732], [-3.492, 50.732], [-3.501, 50.732], [-3.502, 50.727], [-3.496, 50.725], [-3.494, 50.729], [-3.493, 50.73]]], &quot;type&quot;: &quot;Polygon&quot;}, &quot;properties&quot;: {&quot;LSOA11NM&quot;: &quot;Exeter 007B&quot;}, &quot;type&quot;: &quot;Feature&quot;}, {&quot;geometry&quot;: {&quot;coordinates&quot;: [[[-3.493, 50.73], [-3.484, 50.73], [-3.481, 50.731], [-3.491, 50.732], [-3.493, 50.73]]], &quot;type&quot;: &quot;Polygon&quot;}, &quot;properties&quot;: {&quot;LSOA11NM&quot;: &quot;Exeter 007C&quot;}, &quot;type&quot;: &quot;Feature&quot;}, {&quot;geometry&quot;: {&quot;coordinates&quot;: [[[-3.484, 50.73], [-3.493, 50.73], [-3.494, 50.729], [-3.489, 50.725], [-3.484, 50.73]]], &quot;type&quot;: &quot;Polygon&quot;}, &quot;properties&quot;: {&quot;LSOA11NM&quot;: &quot;Exeter 007D&quot;}, &quot;type&quot;: &quot;Feature&quot;}, {&quot;geometry&quot;: {&quot;coordinates&quot;: [[[-3.489, 50.725], [-3.494, 50.729], [-3.496, 50.725], [-3.495, 50.72], [-3.493, 50.72], [-3.49, 50.72], [-3.489, 50.725]]], &quot;type&quot;: &quot;Polygon&quot;}, &quot;properties&quot;: {&quot;LSOA11NM&quot;: &quot;Exeter 007E&quot;}, &quot;type&quot;: &quot;Feature&quot;}, {&quot;geometry&quot;: {&quot;coordinates&quot;: [[[-3.514, 50.729], [-3.514, 50.73], [-3.52, 50.729], [-3.521, 50.729], [-3.513, 50.726], [-3.514, 50.729]]], &quot;type&quot;: &quot;Polygon&quot;}, &quot;properties&quot;: {&quot;LSOA11NM&quot;: &quot;Exeter 008A&quot;}, &quot;type&quot;: &quot;Feature&quot;}, {&quot;geometry&quot;: {&quot;coordinates&quot;: [[[-3.513, 50.726], [-3.521, 50.729], [-3.523, 50.728], [-3.527, 50.726], [-3.523, 50.725], [-3.512, 50.724], [-3.513, 50.726]]], &quot;type&quot;: &quot;Polygon&quot;}, &quot;properties&quot;: {&quot;LSOA11NM&quot;: &quot;Exeter 008B&quot;}, &quot;type&quot;: &quot;Feature&quot;}, {&quot;geometry&quot;: {&quot;coordinates&quot;: [[[-3.527, 50.726], [-3.529, 50.727], [-3.531, 50.726], [-3.538, 50.719], [-3.536, 50.718], [-3.528, 50.716], [-3.524, 50.721], [-3.523, 50.725], [-3.527, 50.726]]], &quot;type&quot;: &quot;Polygon&quot;}, &quot;properties&quot;: {&quot;LSOA11NM&quot;: &quot;Exeter 008C&quot;}, &quot;type&quot;: &quot;Feature&quot;}, {&quot;geometry&quot;: {&quot;coordinates&quot;: [[[-3.54, 50.731], [-3.545, 50.731], [-3.544, 50.727], [-3.54, 50.724], [-3.531, 50.726], [-3.529, 50.727], [-3.531, 50.728], [-3.54, 50.731]]], &quot;type&quot;: &quot;Polygon&quot;}, &quot;properties&quot;: {&quot;LSOA11NM&quot;: &quot;Exeter 008D&quot;}, &quot;type&quot;: &quot;Feature&quot;}, {&quot;geometry&quot;: {&quot;coordinates&quot;: [[[-3.531, 50.726], [-3.54, 50.724], [-3.54, 50.723], [-3.538, 50.719], [-3.531, 50.726]]], &quot;type&quot;: &quot;Polygon&quot;}, &quot;properties&quot;: {&quot;LSOA11NM&quot;: &quot;Exeter 008E&quot;}, &quot;type&quot;: &quot;Feature&quot;}, {&quot;geometry&quot;: {&quot;coordinates&quot;: [[[-3.512, 50.724], [-3.523, 50.725], [-3.524, 50.721], [-3.521, 50.721], [-3.511, 50.722], [-3.512, 50.724]]], &quot;type&quot;: &quot;Polygon&quot;}, &quot;properties&quot;: {&quot;LSOA11NM&quot;: &quot;Exeter 009A&quot;}, &quot;type&quot;: &quot;Feature&quot;}, {&quot;geometry&quot;: {&quot;coordinates&quot;: [[[-3.51, 50.717], [-3.521, 50.716], [-3.526, 50.715], [-3.517, 50.709], [-3.51, 50.715], [-3.51, 50.717]]], &quot;type&quot;: &quot;Polygon&quot;}, &quot;properties&quot;: {&quot;LSOA11NM&quot;: &quot;Exeter 009B&quot;}, &quot;type&quot;: &quot;Feature&quot;}, {&quot;geometry&quot;: {&quot;coordinates&quot;: [[[-3.51, 50.72], [-3.511, 50.722], [-3.521, 50.721], [-3.521, 50.716], [-3.51, 50.717], [-3.51, 50.72]]], &quot;type&quot;: &quot;Polygon&quot;}, &quot;properties&quot;: {&quot;LSOA11NM&quot;: &quot;Exeter 009C&quot;}, &quot;type&quot;: &quot;Feature&quot;}, {&quot;geometry&quot;: {&quot;coordinates&quot;: [[[-3.521, 50.721], [-3.524, 50.721], [-3.528, 50.716], [-3.526, 50.715], [-3.521, 50.716], [-3.521, 50.721]]], &quot;type&quot;: &quot;Polygon&quot;}, &quot;properties&quot;: {&quot;LSOA11NM&quot;: &quot;Exeter 009D&quot;}, &quot;type&quot;: &quot;Feature&quot;}, {&quot;geometry&quot;: {&quot;coordinates&quot;: [[[-3.553, 50.715], [-3.548, 50.715], [-3.548, 50.717], [-3.549, 50.72], [-3.555, 50.719], [-3.553, 50.715]]], &quot;type&quot;: &quot;Polygon&quot;}, &quot;properties&quot;: {&quot;LSOA11NM&quot;: &quot;Exeter 010A&quot;}, &quot;type&quot;: &quot;Feature&quot;}, {&quot;geometry&quot;: {&quot;coordinates&quot;: [[[-3.545, 50.716], [-3.543, 50.721], [-3.549, 50.721], [-3.549, 50.72], [-3.548, 50.717], [-3.545, 50.716]]], &quot;type&quot;: &quot;Polygon&quot;}, &quot;properties&quot;: {&quot;LSOA11NM&quot;: &quot;Exeter 010B&quot;}, &quot;type&quot;: &quot;Feature&quot;}, {&quot;geometry&quot;: {&quot;coordinates&quot;: [[[-3.538, 50.719], [-3.54, 50.723], [-3.543, 50.721], [-3.545, 50.716], [-3.541, 50.715], [-3.538, 50.719]]], &quot;type&quot;: &quot;Polygon&quot;}, &quot;properties&quot;: {&quot;LSOA11NM&quot;: &quot;Exeter 010C&quot;}, &quot;type&quot;: &quot;Feature&quot;}, {&quot;geometry&quot;: {&quot;coordinates&quot;: [[[-3.545, 50.716], [-3.548, 50.717], [-3.548, 50.715], [-3.547, 50.712], [-3.543, 50.711], [-3.541, 50.715], [-3.545, 50.716]]], &quot;type&quot;: &quot;Polygon&quot;}, &quot;properties&quot;: {&quot;LSOA11NM&quot;: &quot;Exeter 010D&quot;}, &quot;type&quot;: &quot;Feature&quot;}, {&quot;geometry&quot;: {&quot;coordinates&quot;: [[[-3.536, 50.718], [-3.538, 50.719], [-3.541, 50.715], [-3.543, 50.711], [-3.539, 50.71], [-3.536, 50.715], [-3.536, 50.718]]], &quot;type&quot;: &quot;Polygon&quot;}, &quot;properties&quot;: {&quot;LSOA11NM&quot;: &quot;Exeter 010E&quot;}, &quot;type&quot;: &quot;Feature&quot;}, {&quot;geometry&quot;: {&quot;coordinates&quot;: [[[-3.474, 50.716], [-3.478, 50.723], [-3.489, 50.721], [-3.484, 50.717], [-3.474, 50.716]]], &quot;type&quot;: &quot;Polygon&quot;}, &quot;properties&quot;: {&quot;LSOA11NM&quot;: &quot;Exeter 011A&quot;}, &quot;type&quot;: &quot;Feature&quot;}, {&quot;geometry&quot;: {&quot;coordinates&quot;: [[[-3.484, 50.717], [-3.489, 50.721], [-3.49, 50.72], [-3.493, 50.72], [-3.497, 50.712], [-3.499, 50.711], [-3.489, 50.712], [-3.484, 50.714], [-3.484, 50.717]]], &quot;type&quot;: &quot;Polygon&quot;}, &quot;properties&quot;: {&quot;LSOA11NM&quot;: &quot;Exeter 011B&quot;}, &quot;type&quot;: &quot;Feature&quot;}, {&quot;geometry&quot;: {&quot;coordinates&quot;: [[[-3.47, 50.702], [-3.464, 50.713], [-3.489, 50.712], [-3.499, 50.711], [-3.503, 50.706], [-3.489, 50.698], [-3.485, 50.697], [-3.47, 50.702]]], &quot;type&quot;: &quot;Polygon&quot;}, &quot;properties&quot;: {&quot;LSOA11NM&quot;: &quot;Exeter 011D&quot;}, &quot;type&quot;: &quot;Feature&quot;}, {&quot;geometry&quot;: {&quot;coordinates&quot;: [[[-3.462, 50.729], [-3.462, 50.732], [-3.475, 50.731], [-3.481, 50.731], [-3.484, 50.73], [-3.489, 50.725], [-3.49, 50.72], [-3.489, 50.721], [-3.478, 50.723], [-3.462, 50.729]]], &quot;type&quot;: &quot;Polygon&quot;}, &quot;properties&quot;: {&quot;LSOA11NM&quot;: &quot;Exeter 011E&quot;}, &quot;type&quot;: &quot;Feature&quot;}, {&quot;geometry&quot;: {&quot;coordinates&quot;: [[[-3.474, 50.716], [-3.484, 50.717], [-3.484, 50.714], [-3.474, 50.716]]], &quot;type&quot;: &quot;Polygon&quot;}, &quot;properties&quot;: {&quot;LSOA11NM&quot;: &quot;Exeter 011F&quot;}, &quot;type&quot;: &quot;Feature&quot;}, {&quot;geometry&quot;: {&quot;coordinates&quot;: [[[-3.462, 50.729], [-3.478, 50.723], [-3.474, 50.716], [-3.484, 50.714], [-3.489, 50.712], [-3.464, 50.713], [-3.462, 50.729]]], &quot;type&quot;: &quot;Polygon&quot;}, &quot;properties&quot;: {&quot;LSOA11NM&quot;: &quot;Exeter 011G&quot;}, &quot;type&quot;: &quot;Feature&quot;}, {&quot;geometry&quot;: {&quot;coordinates&quot;: [[[-3.543, 50.711], [-3.547, 50.712], [-3.548, 50.709], [-3.554, 50.705], [-3.548, 50.703], [-3.538, 50.709], [-3.539, 50.71], [-3.543, 50.711]]], &quot;type&quot;: &quot;Polygon&quot;}, &quot;properties&quot;: {&quot;LSOA11NM&quot;: &quot;Exeter 012A&quot;}, &quot;type&quot;: &quot;Feature&quot;}, {&quot;geometry&quot;: {&quot;coordinates&quot;: [[[-3.555, 50.719], [-3.561, 50.721], [-3.556, 50.715], [-3.553, 50.715], [-3.555, 50.719]]], &quot;type&quot;: &quot;Polygon&quot;}, &quot;properties&quot;: {&quot;LSOA11NM&quot;: &quot;Exeter 012B&quot;}, &quot;type&quot;: &quot;Feature&quot;}, {&quot;geometry&quot;: {&quot;coordinates&quot;: [[[-3.556, 50.715], [-3.561, 50.721], [-3.565, 50.72], [-3.564, 50.71], [-3.554, 50.705], [-3.548, 50.709], [-3.556, 50.715]]], &quot;type&quot;: &quot;Polygon&quot;}, &quot;properties&quot;: {&quot;LSOA11NM&quot;: &quot;Exeter 012C&quot;}, &quot;type&quot;: &quot;Feature&quot;}, {&quot;geometry&quot;: {&quot;coordinates&quot;: [[[-3.548, 50.715], [-3.553, 50.715], [-3.556, 50.715], [-3.548, 50.709], [-3.547, 50.712], [-3.548, 50.715]]], &quot;type&quot;: &quot;Polygon&quot;}, &quot;properties&quot;: {&quot;LSOA11NM&quot;: &quot;Exeter 012D&quot;}, &quot;type&quot;: &quot;Feature&quot;}, {&quot;geometry&quot;: {&quot;coordinates&quot;: [[[-3.555, 50.722], [-3.558, 50.728], [-3.568, 50.726], [-3.565, 50.72], [-3.561, 50.721], [-3.555, 50.719], [-3.549, 50.72], [-3.549, 50.721], [-3.555, 50.722]]], &quot;type&quot;: &quot;Polygon&quot;}, &quot;properties&quot;: {&quot;LSOA11NM&quot;: &quot;Exeter 012E&quot;}, &quot;type&quot;: &quot;Feature&quot;}, {&quot;geometry&quot;: {&quot;coordinates&quot;: [[[-3.495, 50.72], [-3.501, 50.721], [-3.509, 50.72], [-3.498, 50.717], [-3.495, 50.72]]], &quot;type&quot;: &quot;Polygon&quot;}, &quot;properties&quot;: {&quot;LSOA11NM&quot;: &quot;Exeter 013A&quot;}, &quot;type&quot;: &quot;Feature&quot;}, {&quot;geometry&quot;: {&quot;coordinates&quot;: [[[-3.503, 50.713], [-3.51, 50.715], [-3.517, 50.709], [-3.517, 50.707], [-3.516, 50.704], [-3.51, 50.707], [-3.502, 50.712], [-3.503, 50.713]]], &quot;type&quot;: &quot;Polygon&quot;}, &quot;properties&quot;: {&quot;LSOA11NM&quot;: &quot;Exeter 013B&quot;}, &quot;type&quot;: &quot;Feature&quot;}, {&quot;geometry&quot;: {&quot;coordinates&quot;: [[[-3.498, 50.717], [-3.509, 50.72], [-3.51, 50.72], [-3.51, 50.717], [-3.51, 50.715], [-3.503, 50.713], [-3.498, 50.717]]], &quot;type&quot;: &quot;Polygon&quot;}, &quot;properties&quot;: {&quot;LSOA11NM&quot;: &quot;Exeter 013C&quot;}, &quot;type&quot;: &quot;Feature&quot;}, {&quot;geometry&quot;: {&quot;coordinates&quot;: [[[-3.497, 50.712], [-3.493, 50.72], [-3.495, 50.72], [-3.498, 50.717], [-3.503, 50.713], [-3.502, 50.712], [-3.497, 50.712]]], &quot;type&quot;: &quot;Polygon&quot;}, &quot;properties&quot;: {&quot;LSOA11NM&quot;: &quot;Exeter 013D&quot;}, &quot;type&quot;: &quot;Feature&quot;}, {&quot;geometry&quot;: {&quot;coordinates&quot;: [[[-3.497, 50.712], [-3.502, 50.712], [-3.51, 50.707], [-3.503, 50.706], [-3.499, 50.711], [-3.497, 50.712]]], &quot;type&quot;: &quot;Polygon&quot;}, &quot;properties&quot;: {&quot;LSOA11NM&quot;: &quot;Exeter 013E&quot;}, &quot;type&quot;: &quot;Feature&quot;}, {&quot;geometry&quot;: {&quot;coordinates&quot;: [[[-3.536, 50.693], [-3.526, 50.704], [-3.541, 50.697], [-3.539, 50.693], [-3.536, 50.693]]], &quot;type&quot;: &quot;Polygon&quot;}, &quot;properties&quot;: {&quot;LSOA11NM&quot;: &quot;Exeter 014A&quot;}, &quot;type&quot;: &quot;Feature&quot;}, {&quot;geometry&quot;: {&quot;coordinates&quot;: [[[-3.52, 50.706], [-3.532, 50.712], [-3.538, 50.709], [-3.548, 50.703], [-3.541, 50.697], [-3.526, 50.704], [-3.52, 50.706]]], &quot;type&quot;: &quot;Polygon&quot;}, &quot;properties&quot;: {&quot;LSOA11NM&quot;: &quot;Exeter 014B&quot;}, &quot;type&quot;: &quot;Feature&quot;}, {&quot;geometry&quot;: {&quot;coordinates&quot;: [[[-3.516, 50.704], [-3.517, 50.707], [-3.52, 50.706], [-3.526, 50.704], [-3.536, 50.693], [-3.508, 50.692], [-3.502, 50.694], [-3.5, 50.696], [-3.511, 50.701], [-3.516, 50.704]]], &quot;type&quot;: &quot;Polygon&quot;}, &quot;properties&quot;: {&quot;LSOA11NM&quot;: &quot;Exeter 014C&quot;}, &quot;type&quot;: &quot;Feature&quot;}, {&quot;geometry&quot;: {&quot;coordinates&quot;: [[[-3.528, 50.716], [-3.536, 50.718], [-3.536, 50.715], [-3.532, 50.712], [-3.52, 50.706], [-3.517, 50.707], [-3.517, 50.709], [-3.526, 50.715], [-3.528, 50.716]]], &quot;type&quot;: &quot;Polygon&quot;}, &quot;properties&quot;: {&quot;LSOA11NM&quot;: &quot;Exeter 014D&quot;}, &quot;type&quot;: &quot;Feature&quot;}, {&quot;geometry&quot;: {&quot;coordinates&quot;: [[[-3.538, 50.709], [-3.532, 50.712], [-3.536, 50.715], [-3.539, 50.71], [-3.538, 50.709]]], &quot;type&quot;: &quot;Polygon&quot;}, &quot;properties&quot;: {&quot;LSOA11NM&quot;: &quot;Exeter 014E&quot;}, &quot;type&quot;: &quot;Feature&quot;}, {&quot;geometry&quot;: {&quot;coordinates&quot;: [[[-3.503, 50.706], [-3.51, 50.707], [-3.516, 50.704], [-3.511, 50.701], [-3.499, 50.696], [-3.489, 50.698], [-3.503, 50.706]]], &quot;type&quot;: &quot;Polygon&quot;}, &quot;properties&quot;: {&quot;LSOA11NM&quot;: &quot;Exeter 015A&quot;}, &quot;type&quot;: &quot;Feature&quot;}, {&quot;geometry&quot;: {&quot;coordinates&quot;: [[[[-3.488, 50.692], [-3.485, 50.697], [-3.489, 50.698], [-3.499, 50.696], [-3.488, 50.692]]], [[[-3.485, 50.688], [-3.485, 50.69], [-3.5, 50.696], [-3.502, 50.694], [-3.485, 50.688]]]], &quot;type&quot;: &quot;MultiPolygon&quot;}, &quot;properties&quot;: {&quot;LSOA11NM&quot;: &quot;Exeter 015B&quot;}, &quot;type&quot;: &quot;Feature&quot;}, {&quot;geometry&quot;: {&quot;coordinates&quot;: [[[[-3.458, 50.684], [-3.47, 50.702], [-3.485, 50.697], [-3.488, 50.692], [-3.472, 50.685], [-3.462, 50.684], [-3.458, 50.684]]], [[[-3.477, 50.683], [-3.476, 50.684], [-3.485, 50.69], [-3.485, 50.688], [-3.477, 50.683]]]], &quot;type&quot;: &quot;MultiPolygon&quot;}, &quot;properties&quot;: {&quot;LSOA11NM&quot;: &quot;Exeter 015C&quot;}, &quot;type&quot;: &quot;Feature&quot;}, {&quot;geometry&quot;: {&quot;coordinates&quot;: [[[[-3.47, 50.682], [-3.476, 50.684], [-3.477, 50.683], [-3.47, 50.682]]], [[[-3.466, 50.682], [-3.462, 50.684], [-3.472, 50.685], [-3.466, 50.682]]]], &quot;type&quot;: &quot;MultiPolygon&quot;}, &quot;properties&quot;: {&quot;LSOA11NM&quot;: &quot;Exeter 015E&quot;}, &quot;type&quot;: &quot;Feature&quot;}, {&quot;geometry&quot;: {&quot;coordinates&quot;: [[[-3.458, 50.684], [-3.462, 50.684], [-3.466, 50.682], [-3.452, 50.683], [-3.458, 50.684]]], &quot;type&quot;: &quot;Polygon&quot;}, &quot;properties&quot;: {&quot;LSOA11NM&quot;: &quot;Exeter 015F&quot;}, &quot;type&quot;: &quot;Feature&quot;}, {&quot;geometry&quot;: {&quot;coordinates&quot;: [[[-3.581, 50.904], [-3.624, 50.922], [-3.641, 50.918], [-3.645, 50.886], [-3.66, 50.862], [-3.621, 50.853], [-3.621, 50.823], [-3.567, 50.833], [-3.555, 50.856], [-3.575, 50.873], [-3.542, 50.885], [-3.581, 50.904]]], &quot;type&quot;: &quot;Polygon&quot;}, &quot;properties&quot;: {&quot;LSOA11NM&quot;: &quot;Mid Devon 001D&quot;}, &quot;type&quot;: &quot;Feature&quot;}, {&quot;geometry&quot;: {&quot;coordinates&quot;: [[[-3.501, 50.902], [-3.539, 50.879], [-3.497, 50.868], [-3.488, 50.881], [-3.491, 50.896], [-3.501, 50.902]]], &quot;type&quot;: &quot;Polygon&quot;}, &quot;properties&quot;: {&quot;LSOA11NM&quot;: &quot;Mid Devon 005D&quot;}, &quot;type&quot;: &quot;Feature&quot;}, {&quot;geometry&quot;: {&quot;coordinates&quot;: [[[-3.365, 50.884], [-3.386, 50.877], [-3.385, 50.871], [-3.364, 50.881], [-3.365, 50.884]]], &quot;type&quot;: &quot;Polygon&quot;}, &quot;properties&quot;: {&quot;LSOA11NM&quot;: &quot;Mid Devon 006C&quot;}, &quot;type&quot;: &quot;Feature&quot;}, {&quot;geometry&quot;: {&quot;coordinates&quot;: [[[-3.353, 50.892], [-3.386, 50.877], [-3.365, 50.884], [-3.353, 50.892]]], &quot;type&quot;: &quot;Polygon&quot;}, &quot;properties&quot;: {&quot;LSOA11NM&quot;: &quot;Mid Devon 006D&quot;}, &quot;type&quot;: &quot;Feature&quot;}, {&quot;geometry&quot;: {&quot;coordinates&quot;: [[[-3.383, 50.852], [-3.379, 50.867], [-3.397, 50.867], [-3.406, 50.858], [-3.393, 50.857], [-3.383, 50.852]]], &quot;type&quot;: &quot;Polygon&quot;}, &quot;properties&quot;: {&quot;LSOA11NM&quot;: &quot;Mid Devon 007A&quot;}, &quot;type&quot;: &quot;Feature&quot;}, {&quot;geometry&quot;: {&quot;coordinates&quot;: [[[-3.393, 50.857], [-3.394, 50.854], [-3.393, 50.847], [-3.383, 50.852], [-3.393, 50.857]]], &quot;type&quot;: &quot;Polygon&quot;}, &quot;properties&quot;: {&quot;LSOA11NM&quot;: &quot;Mid Devon 007B&quot;}, &quot;type&quot;: &quot;Feature&quot;}, {&quot;geometry&quot;: {&quot;coordinates&quot;: [[[-3.404, 50.854], [-3.394, 50.854], [-3.393, 50.857], [-3.406, 50.858], [-3.404, 50.854]]], &quot;type&quot;: &quot;Polygon&quot;}, &quot;properties&quot;: {&quot;LSOA11NM&quot;: &quot;Mid Devon 007C&quot;}, &quot;type&quot;: &quot;Feature&quot;}, {&quot;geometry&quot;: {&quot;coordinates&quot;: [[[-3.393, 50.847], [-3.394, 50.854], [-3.404, 50.854], [-3.393, 50.847]]], &quot;type&quot;: &quot;Polygon&quot;}, &quot;properties&quot;: {&quot;LSOA11NM&quot;: &quot;Mid Devon 007D&quot;}, &quot;type&quot;: &quot;Feature&quot;}, {&quot;geometry&quot;: {&quot;coordinates&quot;: [[[-3.426, 50.812], [-3.454, 50.829], [-3.432, 50.811], [-3.426, 50.812]]], &quot;type&quot;: &quot;Polygon&quot;}, &quot;properties&quot;: {&quot;LSOA11NM&quot;: &quot;Mid Devon 008A&quot;}, &quot;type&quot;: &quot;Feature&quot;}, {&quot;geometry&quot;: {&quot;coordinates&quot;: [[[-3.539, 50.879], [-3.542, 50.885], [-3.575, 50.873], [-3.555, 50.856], [-3.567, 50.833], [-3.568, 50.814], [-3.548, 50.791], [-3.497, 50.817], [-3.47, 50.836], [-3.477, 50.871], [-3.497, 50.868], [-3.539, 50.879]]], &quot;type&quot;: &quot;Polygon&quot;}, &quot;properties&quot;: {&quot;LSOA11NM&quot;: &quot;Mid Devon 008B&quot;}, &quot;type&quot;: &quot;Feature&quot;}, {&quot;geometry&quot;: {&quot;coordinates&quot;: [[[-3.426, 50.812], [-3.41, 50.805], [-3.36, 50.812], [-3.344, 50.826], [-3.348, 50.847], [-3.328, 50.857], [-3.281, 50.856], [-3.278, 50.868], [-3.283, 50.888], [-3.324, 50.884], [-3.364, 50.881], [-3.385, 50.871], [-3.477, 50.871], [-3.47, 50.836], [-3.454, 50.829], [-3.426, 50.812]], [[-3.393, 50.847], [-3.404, 50.854], [-3.406, 50.858], [-3.397, 50.867], [-3.379, 50.867], [-3.383, 50.852], [-3.393, 50.847]]], &quot;type&quot;: &quot;Polygon&quot;}, &quot;properties&quot;: {&quot;LSOA11NM&quot;: &quot;Mid Devon 008C&quot;}, &quot;type&quot;: &quot;Feature&quot;}, {&quot;geometry&quot;: {&quot;coordinates&quot;: [[[-3.454, 50.829], [-3.47, 50.836], [-3.497, 50.817], [-3.483, 50.792], [-3.432, 50.811], [-3.454, 50.829]]], &quot;type&quot;: &quot;Polygon&quot;}, &quot;properties&quot;: {&quot;LSOA11NM&quot;: &quot;Mid Devon 008D&quot;}, &quot;type&quot;: &quot;Feature&quot;}, {&quot;geometry&quot;: {&quot;coordinates&quot;: [[[-3.901, 50.904], [-3.904, 50.905], [-3.907, 50.859], [-3.9, 50.835], [-3.86, 50.821], [-3.84, 50.8], [-3.766, 50.811], [-3.752, 50.82], [-3.762, 50.824], [-3.795, 50.846], [-3.853, 50.871], [-3.901, 50.904]]], &quot;type&quot;: &quot;Polygon&quot;}, &quot;properties&quot;: {&quot;LSOA11NM&quot;: &quot;Mid Devon 009A&quot;}, &quot;type&quot;: &quot;Feature&quot;}, {&quot;geometry&quot;: {&quot;coordinates&quot;: [[[-3.766, 50.811], [-3.84, 50.8], [-3.846, 50.782], [-3.806, 50.759], [-3.78, 50.754], [-3.734, 50.774], [-3.715, 50.798], [-3.766, 50.811]]], &quot;type&quot;: &quot;Polygon&quot;}, &quot;properties&quot;: {&quot;LSOA11NM&quot;: &quot;Mid Devon 009C&quot;}, &quot;type&quot;: &quot;Feature&quot;}, {&quot;geometry&quot;: {&quot;coordinates&quot;: [[[-3.708, 50.748], [-3.734, 50.774], [-3.78, 50.754], [-3.806, 50.759], [-3.826, 50.74], [-3.819, 50.717], [-3.766, 50.728], [-3.736, 50.703], [-3.725, 50.716], [-3.708, 50.748]]], &quot;type&quot;: &quot;Polygon&quot;}, &quot;properties&quot;: {&quot;LSOA11NM&quot;: &quot;Mid Devon 009D&quot;}, &quot;type&quot;: &quot;Feature&quot;}, {&quot;geometry&quot;: {&quot;coordinates&quot;: [[[-3.567, 50.833], [-3.621, 50.823], [-3.637, 50.799], [-3.613, 50.778], [-3.636, 50.756], [-3.586, 50.744], [-3.551, 50.765], [-3.548, 50.791], [-3.568, 50.814], [-3.567, 50.833]]], &quot;type&quot;: &quot;Polygon&quot;}, &quot;properties&quot;: {&quot;LSOA11NM&quot;: &quot;Mid Devon 010A&quot;}, &quot;type&quot;: &quot;Feature&quot;}, {&quot;geometry&quot;: {&quot;coordinates&quot;: [[[-3.66, 50.862], [-3.762, 50.824], [-3.752, 50.82], [-3.671, 50.796], [-3.661, 50.795], [-3.659, 50.796], [-3.64, 50.798], [-3.637, 50.799], [-3.621, 50.823], [-3.621, 50.853], [-3.66, 50.862]]], &quot;type&quot;: &quot;Polygon&quot;}, &quot;properties&quot;: {&quot;LSOA11NM&quot;: &quot;Mid Devon 010B&quot;}, &quot;type&quot;: &quot;Feature&quot;}, {&quot;geometry&quot;: {&quot;coordinates&quot;: [[[-3.641, 50.918], [-3.728, 50.911], [-3.736, 50.903], [-3.761, 50.877], [-3.795, 50.846], [-3.762, 50.824], [-3.66, 50.862], [-3.645, 50.886], [-3.641, 50.918]]], &quot;type&quot;: &quot;Polygon&quot;}, &quot;properties&quot;: {&quot;LSOA11NM&quot;: &quot;Mid Devon 010C&quot;}, &quot;type&quot;: &quot;Feature&quot;}, {&quot;geometry&quot;: {&quot;coordinates&quot;: [[[-3.671, 50.796], [-3.752, 50.82], [-3.766, 50.811], [-3.715, 50.798], [-3.734, 50.774], [-3.708, 50.748], [-3.677, 50.756], [-3.636, 50.756], [-3.613, 50.778], [-3.637, 50.799], [-3.64, 50.798], [-3.637, 50.79], [-3.67, 50.787], [-3.671, 50.796]]], &quot;type&quot;: &quot;Polygon&quot;}, &quot;properties&quot;: {&quot;LSOA11NM&quot;: &quot;Mid Devon 010D&quot;}, &quot;type&quot;: &quot;Feature&quot;}, {&quot;geometry&quot;: {&quot;coordinates&quot;: [[[-3.637, 50.79], [-3.652, 50.791], [-3.662, 50.789], [-3.67, 50.787], [-3.637, 50.79]]], &quot;type&quot;: &quot;Polygon&quot;}, &quot;properties&quot;: {&quot;LSOA11NM&quot;: &quot;Mid Devon 011A&quot;}, &quot;type&quot;: &quot;Feature&quot;}, {&quot;geometry&quot;: {&quot;coordinates&quot;: [[[-3.637, 50.79], [-3.64, 50.798], [-3.659, 50.796], [-3.652, 50.791], [-3.637, 50.79]]], &quot;type&quot;: &quot;Polygon&quot;}, &quot;properties&quot;: {&quot;LSOA11NM&quot;: &quot;Mid Devon 011B&quot;}, &quot;type&quot;: &quot;Feature&quot;}, {&quot;geometry&quot;: {&quot;coordinates&quot;: [[[-3.659, 50.796], [-3.661, 50.795], [-3.662, 50.789], [-3.652, 50.791], [-3.659, 50.796]]], &quot;type&quot;: &quot;Polygon&quot;}, &quot;properties&quot;: {&quot;LSOA11NM&quot;: &quot;Mid Devon 011C&quot;}, &quot;type&quot;: &quot;Feature&quot;}, {&quot;geometry&quot;: {&quot;coordinates&quot;: [[[-3.67, 50.787], [-3.662, 50.789], [-3.661, 50.795], [-3.671, 50.796], [-3.67, 50.787]]], &quot;type&quot;: &quot;Polygon&quot;}, &quot;properties&quot;: {&quot;LSOA11NM&quot;: &quot;Mid Devon 011D&quot;}, &quot;type&quot;: &quot;Feature&quot;}, {&quot;geometry&quot;: {&quot;coordinates&quot;: [[[-3.554, 50.705], [-3.564, 50.71], [-3.614, 50.686], [-3.601, 50.669], [-3.543, 50.677], [-3.539, 50.693], [-3.541, 50.697], [-3.548, 50.703], [-3.554, 50.705]]], &quot;type&quot;: &quot;Polygon&quot;}, &quot;properties&quot;: {&quot;LSOA11NM&quot;: &quot;Teignbridge 001A&quot;}, &quot;type&quot;: &quot;Feature&quot;}, {&quot;geometry&quot;: {&quot;coordinates&quot;: [[[-3.636, 50.756], [-3.677, 50.756], [-3.643, 50.722], [-3.656, 50.716], [-3.614, 50.686], [-3.564, 50.71], [-3.565, 50.72], [-3.568, 50.726], [-3.57, 50.745], [-3.586, 50.744], [-3.636, 50.756]]], &quot;type&quot;: &quot;Polygon&quot;}, &quot;properties&quot;: {&quot;LSOA11NM&quot;: &quot;Teignbridge 001B&quot;}, &quot;type&quot;: &quot;Feature&quot;}, {&quot;geometry&quot;: {&quot;coordinates&quot;: [[[-3.643, 50.722], [-3.677, 50.756], [-3.708, 50.748], [-3.725, 50.716], [-3.684, 50.713], [-3.643, 50.722]]], &quot;type&quot;: &quot;Polygon&quot;}, &quot;properties&quot;: {&quot;LSOA11NM&quot;: &quot;Teignbridge 001C&quot;}, &quot;type&quot;: &quot;Feature&quot;}, {&quot;geometry&quot;: {&quot;coordinates&quot;: [[[-3.643, 50.722], [-3.684, 50.713], [-3.725, 50.716], [-3.736, 50.703], [-3.732, 50.697], [-3.723, 50.69], [-3.69, 50.697], [-3.645, 50.669], [-3.708, 50.644], [-3.692, 50.633], [-3.629, 50.618], [-3.584, 50.646], [-3.601, 50.669], [-3.614, 50.686], [-3.656, 50.716], [-3.643, 50.722]]], &quot;type&quot;: &quot;Polygon&quot;}, &quot;properties&quot;: {&quot;LSOA11NM&quot;: &quot;Teignbridge 001D&quot;}, &quot;type&quot;: &quot;Feature&quot;}, {&quot;geometry&quot;: {&quot;coordinates&quot;: [[[-3.47, 50.682], [-3.501, 50.678], [-3.505, 50.654], [-3.452, 50.642], [-3.47, 50.682]]], &quot;type&quot;: &quot;Polygon&quot;}, &quot;properties&quot;: {&quot;LSOA11NM&quot;: &quot;Teignbridge 002A&quot;}, &quot;type&quot;: &quot;Feature&quot;}, {&quot;geometry&quot;: {&quot;coordinates&quot;: [[[-3.508, 50.692], [-3.536, 50.693], [-3.539, 50.693], [-3.543, 50.677], [-3.601, 50.669], [-3.584, 50.646], [-3.545, 50.627], [-3.505, 50.654], [-3.501, 50.678], [-3.508, 50.692]]], &quot;type&quot;: &quot;Polygon&quot;}, &quot;properties&quot;: {&quot;LSOA11NM&quot;: &quot;Teignbridge 002B&quot;}, &quot;type&quot;: &quot;Feature&quot;}, {&quot;geometry&quot;: {&quot;coordinates&quot;: [[[-3.485, 50.688], [-3.502, 50.694], [-3.508, 50.692], [-3.501, 50.678], [-3.47, 50.682], [-3.477, 50.683], [-3.485, 50.688]]], &quot;type&quot;: &quot;Polygon&quot;}, &quot;properties&quot;: {&quot;LSOA11NM&quot;: &quot;Teignbridge 002C&quot;}, &quot;type&quot;: &quot;Feature&quot;}, {&quot;geometry&quot;: {&quot;coordinates&quot;: [[[-3.446, 50.626], [-3.483, 50.632], [-3.488, 50.611], [-3.447, 50.617], [-3.446, 50.626]]], &quot;type&quot;: &quot;Polygon&quot;}, &quot;properties&quot;: {&quot;LSOA11NM&quot;: &quot;Teignbridge 002D&quot;}, &quot;type&quot;: &quot;Feature&quot;}, {&quot;geometry&quot;: {&quot;coordinates&quot;: [[[-3.505, 50.654], [-3.545, 50.627], [-3.551, 50.6], [-3.528, 50.582], [-3.498, 50.602], [-3.488, 50.611], [-3.483, 50.632], [-3.446, 50.626], [-3.452, 50.642], [-3.505, 50.654]]], &quot;type&quot;: &quot;Polygon&quot;}, &quot;properties&quot;: {&quot;LSOA11NM&quot;: &quot;Teignbridge 002E&quot;}, &quot;type&quot;: &quot;Feature&quot;}, {&quot;geometry&quot;: {&quot;coordinates&quot;: [[[-3.708, 50.644], [-3.645, 50.669], [-3.69, 50.697], [-3.723, 50.69], [-3.726, 50.658], [-3.71, 50.643], [-3.708, 50.644]]], &quot;type&quot;: &quot;Polygon&quot;}, &quot;properties&quot;: {&quot;LSOA11NM&quot;: &quot;Teignbridge 003D&quot;}, &quot;type&quot;: &quot;Feature&quot;}, {&quot;geometry&quot;: {&quot;coordinates&quot;: [[[-3.602, 50.604], [-3.617, 50.606], [-3.617, 50.589], [-3.614, 50.592], [-3.594, 50.597], [-3.602, 50.604]]], &quot;type&quot;: &quot;Polygon&quot;}, &quot;properties&quot;: {&quot;LSOA11NM&quot;: &quot;Teignbridge 004C&quot;}, &quot;type&quot;: &quot;Feature&quot;}, {&quot;geometry&quot;: {&quot;coordinates&quot;: [[[-3.545, 50.627], [-3.584, 50.646], [-3.629, 50.618], [-3.617, 50.606], [-3.602, 50.604], [-3.59, 50.601], [-3.594, 50.597], [-3.614, 50.592], [-3.589, 50.585], [-3.551, 50.6], [-3.545, 50.627]]], &quot;type&quot;: &quot;Polygon&quot;}, &quot;properties&quot;: {&quot;LSOA11NM&quot;: &quot;Teignbridge 004D&quot;}, &quot;type&quot;: &quot;Feature&quot;}, {&quot;geometry&quot;: {&quot;coordinates&quot;: [[[-3.594, 50.597], [-3.59, 50.601], [-3.602, 50.604], [-3.594, 50.597]]], &quot;type&quot;: &quot;Polygon&quot;}, &quot;properties&quot;: {&quot;LSOA11NM&quot;: &quot;Teignbridge 004E&quot;}, &quot;type&quot;: &quot;Feature&quot;}, {&quot;geometry&quot;: {&quot;coordinates&quot;: [[[-3.448, 50.59], [-3.447, 50.617], [-3.488, 50.611], [-3.498, 50.602], [-3.481, 50.584], [-3.469, 50.589], [-3.462, 50.59], [-3.448, 50.59]]], &quot;type&quot;: &quot;Polygon&quot;}, &quot;properties&quot;: {&quot;LSOA11NM&quot;: &quot;Teignbridge 005A&quot;}, &quot;type&quot;: &quot;Feature&quot;}, {&quot;geometry&quot;: {&quot;coordinates&quot;: [[[-3.469, 50.589], [-3.481, 50.584], [-3.474, 50.582], [-3.465, 50.584], [-3.469, 50.589]]], &quot;type&quot;: &quot;Polygon&quot;}, &quot;properties&quot;: {&quot;LSOA11NM&quot;: &quot;Teignbridge 005B&quot;}, &quot;type&quot;: &quot;Feature&quot;}, {&quot;geometry&quot;: {&quot;coordinates&quot;: [[[-3.448, 50.59], [-3.462, 50.59], [-3.461, 50.583], [-3.448, 50.59]]], &quot;type&quot;: &quot;Polygon&quot;}, &quot;properties&quot;: {&quot;LSOA11NM&quot;: &quot;Teignbridge 005C&quot;}, &quot;type&quot;: &quot;Feature&quot;}, {&quot;geometry&quot;: {&quot;coordinates&quot;: [[[-3.461, 50.583], [-3.462, 50.59], [-3.469, 50.589], [-3.465, 50.584], [-3.461, 50.583]]], &quot;type&quot;: &quot;Polygon&quot;}, &quot;properties&quot;: {&quot;LSOA11NM&quot;: &quot;Teignbridge 005D&quot;}, &quot;type&quot;: &quot;Feature&quot;}, {&quot;geometry&quot;: {&quot;coordinates&quot;: [[[-3.461, 50.583], [-3.465, 50.584], [-3.474, 50.582], [-3.468, 50.577], [-3.467, 50.576], [-3.461, 50.583]]], &quot;type&quot;: &quot;Polygon&quot;}, &quot;properties&quot;: {&quot;LSOA11NM&quot;: &quot;Teignbridge 006A&quot;}, &quot;type&quot;: &quot;Feature&quot;}, {&quot;geometry&quot;: {&quot;coordinates&quot;: [[[-3.47, 50.576], [-3.48, 50.578], [-3.48, 50.574], [-3.47, 50.576]]], &quot;type&quot;: &quot;Polygon&quot;}, &quot;properties&quot;: {&quot;LSOA11NM&quot;: &quot;Teignbridge 006C&quot;}, &quot;type&quot;: &quot;Feature&quot;}, {&quot;geometry&quot;: {&quot;coordinates&quot;: [[[-3.481, 50.584], [-3.498, 50.602], [-3.528, 50.582], [-3.522, 50.568], [-3.505, 50.566], [-3.483, 50.573], [-3.48, 50.578], [-3.47, 50.576], [-3.468, 50.577], [-3.474, 50.582], [-3.481, 50.584]]], &quot;type&quot;: &quot;Polygon&quot;}, &quot;properties&quot;: {&quot;LSOA11NM&quot;: &quot;Teignbridge 006D&quot;}, &quot;type&quot;: &quot;Feature&quot;}, {&quot;geometry&quot;: {&quot;coordinates&quot;: [[[-4.189, 50.792], [-4.25, 50.794], [-4.282, 50.801], [-4.315, 50.788], [-4.307, 50.745], [-4.327, 50.729], [-4.284, 50.714], [-4.28, 50.733], [-4.255, 50.752], [-4.221, 50.747], [-4.186, 50.758], [-4.206, 50.775], [-4.189, 50.792]]], &quot;type&quot;: &quot;Polygon&quot;}, &quot;properties&quot;: {&quot;LSOA11NM&quot;: &quot;Torridge 009C&quot;}, &quot;type&quot;: &quot;Feature&quot;}, {&quot;geometry&quot;: {&quot;coordinates&quot;: [[[-3.994, 50.869], [-4.052, 50.863], [-4.06, 50.846], [-4.02, 50.832], [-4.018, 50.81], [-4.049, 50.81], [-4.035, 50.785], [-3.989, 50.763], [-3.959, 50.74], [-3.917, 50.74], [-3.905, 50.782], [-3.922, 50.785], [-3.94, 50.826], [-3.943, 50.837], [-3.994, 50.869]]], &quot;type&quot;: &quot;Polygon&quot;}, &quot;properties&quot;: {&quot;LSOA11NM&quot;: &quot;West Devon 001A&quot;}, &quot;type&quot;: &quot;Feature&quot;}, {&quot;geometry&quot;: {&quot;coordinates&quot;: [[[-4.035, 50.785], [-4.103, 50.796], [-4.169, 50.798], [-4.189, 50.792], [-4.206, 50.775], [-4.186, 50.758], [-4.128, 50.728], [-4.046, 50.73], [-4.008, 50.745], [-3.996, 50.749], [-3.994, 50.748], [-3.984, 50.741], [-3.989, 50.734], [-3.959, 50.739], [-3.959, 50.74], [-3.989, 50.763], [-4.035, 50.785]]], &quot;type&quot;: &quot;Polygon&quot;}, &quot;properties&quot;: {&quot;LSOA11NM&quot;: &quot;West Devon 001C&quot;}, &quot;type&quot;: &quot;Feature&quot;}, {&quot;geometry&quot;: {&quot;coordinates&quot;: [[[-3.84, 50.8], [-3.86, 50.821], [-3.9, 50.835], [-3.94, 50.826], [-3.922, 50.785], [-3.905, 50.782], [-3.853, 50.782], [-3.846, 50.782], [-3.84, 50.8]]], &quot;type&quot;: &quot;Polygon&quot;}, &quot;properties&quot;: {&quot;LSOA11NM&quot;: &quot;West Devon 001D&quot;}, &quot;type&quot;: &quot;Feature&quot;}, {&quot;geometry&quot;: {&quot;coordinates&quot;: [[[-3.984, 50.741], [-3.994, 50.748], [-3.997, 50.741], [-3.984, 50.741]]], &quot;type&quot;: &quot;Polygon&quot;}, &quot;properties&quot;: {&quot;LSOA11NM&quot;: &quot;West Devon 002A&quot;}, &quot;type&quot;: &quot;Feature&quot;}, {&quot;geometry&quot;: {&quot;coordinates&quot;: [[[-3.994, 50.748], [-3.996, 50.749], [-4.001, 50.735], [-3.989, 50.734], [-3.984, 50.741], [-3.997, 50.741], [-3.994, 50.748]]], &quot;type&quot;: &quot;Polygon&quot;}, &quot;properties&quot;: {&quot;LSOA11NM&quot;: &quot;West Devon 002B&quot;}, &quot;type&quot;: &quot;Feature&quot;}, {&quot;geometry&quot;: {&quot;coordinates&quot;: [[[-4.001, 50.735], [-4.008, 50.745], [-4.046, 50.73], [-4.057, 50.71], [-4.019, 50.673], [-3.988, 50.7], [-3.959, 50.702], [-3.959, 50.739], [-3.989, 50.734], [-4.001, 50.735]]], &quot;type&quot;: &quot;Polygon&quot;}, &quot;properties&quot;: {&quot;LSOA11NM&quot;: &quot;West Devon 002C&quot;}, &quot;type&quot;: &quot;Feature&quot;}, {&quot;geometry&quot;: {&quot;coordinates&quot;: [[[-4.001, 50.735], [-3.996, 50.749], [-4.008, 50.745], [-4.001, 50.735]]], &quot;type&quot;: &quot;Polygon&quot;}, &quot;properties&quot;: {&quot;LSOA11NM&quot;: &quot;West Devon 002D&quot;}, &quot;type&quot;: &quot;Feature&quot;}, {&quot;geometry&quot;: {&quot;coordinates&quot;: [[[-3.812, 50.691], [-3.845, 50.697], [-3.85, 50.677], [-3.889, 50.669], [-3.897, 50.655], [-3.873, 50.614], [-3.843, 50.647], [-3.814, 50.651], [-3.803, 50.667], [-3.812, 50.691]]], &quot;type&quot;: &quot;Polygon&quot;}, &quot;properties&quot;: {&quot;LSOA11NM&quot;: &quot;West Devon 003A&quot;}, &quot;type&quot;: &quot;Feature&quot;}, {&quot;geometry&quot;: {&quot;coordinates&quot;: [[[-3.846, 50.782], [-3.853, 50.782], [-3.88, 50.757], [-3.857, 50.745], [-3.856, 50.697], [-3.895, 50.711], [-3.936, 50.689], [-3.931, 50.656], [-3.897, 50.655], [-3.889, 50.669], [-3.85, 50.677], [-3.845, 50.697], [-3.812, 50.691], [-3.732, 50.697], [-3.736, 50.703], [-3.766, 50.728], [-3.819, 50.717], [-3.826, 50.74], [-3.806, 50.759], [-3.846, 50.782]]], &quot;type&quot;: &quot;Polygon&quot;}, &quot;properties&quot;: {&quot;LSOA11NM&quot;: &quot;West Devon 003B&quot;}, &quot;type&quot;: &quot;Feature&quot;}, {&quot;geometry&quot;: {&quot;coordinates&quot;: [[[-3.853, 50.782], [-3.905, 50.782], [-3.917, 50.74], [-3.959, 50.74], [-3.959, 50.739], [-3.959, 50.702], [-3.936, 50.689], [-3.895, 50.711], [-3.856, 50.697], [-3.857, 50.745], [-3.88, 50.757], [-3.853, 50.782]]], &quot;type&quot;: &quot;Polygon&quot;}, &quot;properties&quot;: {&quot;LSOA11NM&quot;: &quot;West Devon 003D&quot;}, &quot;type&quot;: &quot;Feature&quot;}, {&quot;geometry&quot;: {&quot;coordinates&quot;: [[[-4.186, 50.758], [-4.221, 50.747], [-4.235, 50.713], [-4.227, 50.702], [-4.195, 50.688], [-4.157, 50.693], [-4.147, 50.669], [-4.123, 50.649], [-4.09, 50.658], [-4.052, 50.657], [-4.019, 50.673], [-4.057, 50.71], [-4.046, 50.73], [-4.128, 50.728], [-4.186, 50.758]]], &quot;type&quot;: &quot;Polygon&quot;}, &quot;properties&quot;: {&quot;LSOA11NM&quot;: &quot;West Devon 004A&quot;}, &quot;type&quot;: &quot;Feature&quot;}], &quot;type&quot;: &quot;FeatureCollection&quot;});\n",
       "\n",
       "        \n",
       "&lt;/script&gt;\n",
       "&lt;/html&gt;\" style=\"position:absolute;width:100%;height:100%;left:0;top:0;border:none !important;\" allowfullscreen webkitallowfullscreen mozallowfullscreen></iframe></div></div>"
      ],
      "text/plain": [
       "<folium.folium.Map at 0x7ffb265a8a90>"
      ]
     },
     "execution_count": 5,
     "metadata": {},
     "output_type": "execute_result"
    }
   ],
   "source": [
    "# Create a map\n",
    "devon_map = folium.Map(location=[51, -3.5],\n",
    "                        zoom_start=8,\n",
    "                        tiles='cartodbpositron')\n",
    "# Add choropleth\n",
    "folium.Choropleth(geo_data=geojson_devon,\n",
    "                  highlight=True).add_to(devon_map)\n",
    "\n",
    "# Generate map\n",
    "devon_map"
   ]
  }
 ],
 "metadata": {
  "kernelspec": {
   "display_name": "Python 3 (ipykernel)",
   "language": "python",
   "name": "python3"
  },
  "language_info": {
   "codemirror_mode": {
    "name": "ipython",
    "version": 3
   },
   "file_extension": ".py",
   "mimetype": "text/x-python",
   "name": "python",
   "nbconvert_exporter": "python",
   "pygments_lexer": "ipython3",
   "version": "3.9.16"
  }
 },
 "nbformat": 4,
 "nbformat_minor": 5
}
