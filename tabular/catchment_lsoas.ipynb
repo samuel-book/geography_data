{
 "cells": [
  {
   "cell_type": "markdown",
   "id": "41140b7e-b5b7-4031-982e-e00d327a758b",
   "metadata": {},
   "source": [
    "# Find LSOAs in catchment area of each hospital"
   ]
  },
  {
   "cell_type": "code",
   "execution_count": 1,
   "id": "fc0a7cc4-96be-451f-a384-4abb9ca41bb3",
   "metadata": {},
   "outputs": [],
   "source": [
    "import pandas as pd\n",
    "import numpy as np"
   ]
  },
  {
   "cell_type": "markdown",
   "id": "26e8b45a-b680-4d09-bb3e-0fea412639b1",
   "metadata": {},
   "source": [
    "## Import data"
   ]
  },
  {
   "cell_type": "markdown",
   "id": "21986c10-3d4b-41dd-a2e3-65f736bf8ca3",
   "metadata": {},
   "source": [
    "Travel time matrix between each LSOA and each hospital:"
   ]
  },
  {
   "cell_type": "code",
   "execution_count": 2,
   "id": "6669acb2-c136-4a5d-86f8-90213ebbe08a",
   "metadata": {},
   "outputs": [],
   "source": [
    "df_time_lsoa_hospital = pd.read_csv('../data_tabular/lsoa_travel_time_matrix_calibrated.csv', index_col='LSOA')"
   ]
  },
  {
   "cell_type": "code",
   "execution_count": 3,
   "id": "ba5a8600-3e42-47fc-9d77-af51fd6d2a4d",
   "metadata": {},
   "outputs": [
    {
     "data": {
      "text/plain": [
       "Index(['B152TH', 'B714HJ', 'B95SS', 'BA13NG', 'BA214AT', 'BB23HH', 'BD96RJ',\n",
       "       'BH77DW', 'BL97TD', 'BN112DH',\n",
       "       ...\n",
       "       'TN240LZ', 'TQ27AA', 'TR13LQ', 'TS198PE', 'TS43BW', 'WD180HB', 'WF14DG',\n",
       "       'WR51DD', 'WV100QP', 'YO318HE'],\n",
       "      dtype='object', length=125)"
      ]
     },
     "execution_count": 3,
     "metadata": {},
     "output_type": "execute_result"
    }
   ],
   "source": [
    "df_time_lsoa_hospital.columns"
   ]
  },
  {
   "cell_type": "code",
   "execution_count": 4,
   "id": "92e7a86f-0d93-4441-9a68-03ac384e4c81",
   "metadata": {},
   "outputs": [
    {
     "data": {
      "text/plain": [
       "Index(['Adur 001A', 'Adur 001B', 'Adur 001C', 'Adur 001D', 'Adur 001E',\n",
       "       'Adur 001F', 'Adur 002A', 'Adur 002B', 'Adur 002C', 'Adur 002D',\n",
       "       ...\n",
       "       'York 022F', 'York 023A', 'York 023B', 'York 023C', 'York 024A',\n",
       "       'York 024B', 'York 024C', 'York 024D', 'York 024E', 'York 024F'],\n",
       "      dtype='object', name='LSOA', length=34752)"
      ]
     },
     "execution_count": 4,
     "metadata": {},
     "output_type": "execute_result"
    }
   ],
   "source": [
    "df_time_lsoa_hospital.index"
   ]
  },
  {
   "cell_type": "markdown",
   "id": "25777122-2e8c-4c2a-a6e8-9156265def8c",
   "metadata": {},
   "source": [
    "## Assign LSOAs to hospitals"
   ]
  },
  {
   "cell_type": "code",
   "execution_count": 5,
   "id": "649e306d-9d5a-4211-bcc6-c17e7c7d068b",
   "metadata": {},
   "outputs": [
    {
     "data": {
      "text/html": [
       "<div>\n",
       "<style scoped>\n",
       "    .dataframe tbody tr th:only-of-type {\n",
       "        vertical-align: middle;\n",
       "    }\n",
       "\n",
       "    .dataframe tbody tr th {\n",
       "        vertical-align: top;\n",
       "    }\n",
       "\n",
       "    .dataframe thead th {\n",
       "        text-align: right;\n",
       "    }\n",
       "</style>\n",
       "<table border=\"1\" class=\"dataframe\">\n",
       "  <thead>\n",
       "    <tr style=\"text-align: right;\">\n",
       "      <th></th>\n",
       "      <th>time_nearest_stroke_team</th>\n",
       "      <th>name_nearest_stroke_team</th>\n",
       "    </tr>\n",
       "    <tr>\n",
       "      <th>lsoa</th>\n",
       "      <th></th>\n",
       "      <th></th>\n",
       "    </tr>\n",
       "  </thead>\n",
       "  <tbody>\n",
       "    <tr>\n",
       "      <th>Adur 001A</th>\n",
       "      <td>17.6</td>\n",
       "      <td>BN25BE</td>\n",
       "    </tr>\n",
       "    <tr>\n",
       "      <th>Adur 001B</th>\n",
       "      <td>18.7</td>\n",
       "      <td>BN112DH</td>\n",
       "    </tr>\n",
       "    <tr>\n",
       "      <th>Adur 001C</th>\n",
       "      <td>17.6</td>\n",
       "      <td>BN112DH</td>\n",
       "    </tr>\n",
       "    <tr>\n",
       "      <th>Adur 001D</th>\n",
       "      <td>17.6</td>\n",
       "      <td>BN112DH</td>\n",
       "    </tr>\n",
       "    <tr>\n",
       "      <th>Adur 001E</th>\n",
       "      <td>16.5</td>\n",
       "      <td>BN112DH</td>\n",
       "    </tr>\n",
       "    <tr>\n",
       "      <th>...</th>\n",
       "      <td>...</td>\n",
       "      <td>...</td>\n",
       "    </tr>\n",
       "    <tr>\n",
       "      <th>York 024B</th>\n",
       "      <td>15.5</td>\n",
       "      <td>YO318HE</td>\n",
       "    </tr>\n",
       "    <tr>\n",
       "      <th>York 024C</th>\n",
       "      <td>17.6</td>\n",
       "      <td>YO318HE</td>\n",
       "    </tr>\n",
       "    <tr>\n",
       "      <th>York 024D</th>\n",
       "      <td>15.5</td>\n",
       "      <td>YO318HE</td>\n",
       "    </tr>\n",
       "    <tr>\n",
       "      <th>York 024E</th>\n",
       "      <td>17.6</td>\n",
       "      <td>YO318HE</td>\n",
       "    </tr>\n",
       "    <tr>\n",
       "      <th>York 024F</th>\n",
       "      <td>17.6</td>\n",
       "      <td>YO318HE</td>\n",
       "    </tr>\n",
       "  </tbody>\n",
       "</table>\n",
       "<p>34752 rows × 2 columns</p>\n",
       "</div>"
      ],
      "text/plain": [
       "           time_nearest_stroke_team name_nearest_stroke_team\n",
       "lsoa                                                        \n",
       "Adur 001A                      17.6                   BN25BE\n",
       "Adur 001B                      18.7                  BN112DH\n",
       "Adur 001C                      17.6                  BN112DH\n",
       "Adur 001D                      17.6                  BN112DH\n",
       "Adur 001E                      16.5                  BN112DH\n",
       "...                             ...                      ...\n",
       "York 024B                      15.5                  YO318HE\n",
       "York 024C                      17.6                  YO318HE\n",
       "York 024D                      15.5                  YO318HE\n",
       "York 024E                      17.6                  YO318HE\n",
       "York 024F                      17.6                  YO318HE\n",
       "\n",
       "[34752 rows x 2 columns]"
      ]
     },
     "execution_count": 5,
     "metadata": {},
     "output_type": "execute_result"
    }
   ],
   "source": [
    "df_lsoa_hospitals = pd.DataFrame()\n",
    "# The smallest time in each row:\n",
    "df_lsoa_hospitals['time_nearest_stroke_team'] = df_time_lsoa_hospital.min(axis='columns')\n",
    "# The name of the column containing the smallest time in each row:\n",
    "df_lsoa_hospitals['name_nearest_stroke_team'] = df_time_lsoa_hospital.idxmin(axis='columns')\n",
    "# The starting LSOA names:\n",
    "df_lsoa_hospitals['lsoa'] = df_time_lsoa_hospital.index\n",
    "\n",
    "df_lsoa_hospitals = df_lsoa_hospitals.set_index('lsoa')\n",
    "\n",
    "df_lsoa_hospitals"
   ]
  },
  {
   "cell_type": "markdown",
   "id": "43d5ca54-80a9-40ce-a830-0e6642080068",
   "metadata": {},
   "source": [
    "Save to file:"
   ]
  },
  {
   "cell_type": "code",
   "execution_count": 6,
   "id": "7957a3a6-1aa6-4ed0-a96f-4ab8b2dd50f9",
   "metadata": {},
   "outputs": [],
   "source": [
    "df_lsoa_hospitals.to_csv('../data_tabular/lsoa_nearest_stroke_team.csv')"
   ]
  }
 ],
 "metadata": {
  "kernelspec": {
   "display_name": "Python 3 (ipykernel)",
   "language": "python",
   "name": "python3"
  },
  "language_info": {
   "codemirror_mode": {
    "name": "ipython",
    "version": 3
   },
   "file_extension": ".py",
   "mimetype": "text/x-python",
   "name": "python",
   "nbconvert_exporter": "python",
   "pygments_lexer": "ipython3",
   "version": "3.9.16"
  }
 },
 "nbformat": 4,
 "nbformat_minor": 5
}
