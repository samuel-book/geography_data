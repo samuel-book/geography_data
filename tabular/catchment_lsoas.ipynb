{
 "cells": [
  {
   "cell_type": "markdown",
   "id": "41140b7e-b5b7-4031-982e-e00d327a758b",
   "metadata": {},
   "source": [
    "# Find LSOAs in catchment area of each hospital"
   ]
  },
  {
   "cell_type": "code",
   "execution_count": 1,
   "id": "fc0a7cc4-96be-451f-a384-4abb9ca41bb3",
   "metadata": {},
   "outputs": [],
   "source": [
    "import pandas as pd"
   ]
  },
  {
   "cell_type": "markdown",
   "id": "26e8b45a-b680-4d09-bb3e-0fea412639b1",
   "metadata": {},
   "source": [
    "## Import data"
   ]
  },
  {
   "cell_type": "markdown",
   "id": "21986c10-3d4b-41dd-a2e3-65f736bf8ca3",
   "metadata": {},
   "source": [
    "Travel time matrix between each LSOA and each hospital:"
   ]
  },
  {
   "cell_type": "code",
   "execution_count": 2,
   "id": "6669acb2-c136-4a5d-86f8-90213ebbe08a",
   "metadata": {},
   "outputs": [],
   "source": [
    "df_time_lsoa_hospital = pd.read_csv('../data_tabular/lsoa_travel_time_matrix_calibrated.csv', index_col='LSOA')"
   ]
  },
  {
   "cell_type": "code",
   "execution_count": 3,
   "id": "ba5a8600-3e42-47fc-9d77-af51fd6d2a4d",
   "metadata": {},
   "outputs": [
    {
     "data": {
      "text/plain": [
       "Index(['B152TH', 'B714HJ', 'B95SS', 'BA13NG', 'BA214AT', 'BB23HH', 'BD96RJ',\n",
       "       'BH77DW', 'BL97TD', 'BN112DH',\n",
       "       ...\n",
       "       'TN240LZ', 'TQ27AA', 'TR13LQ', 'TS198PE', 'TS43BW', 'WD180HB', 'WF14DG',\n",
       "       'WR51DD', 'WV100QP', 'YO318HE'],\n",
       "      dtype='object', length=125)"
      ]
     },
     "execution_count": 3,
     "metadata": {},
     "output_type": "execute_result"
    }
   ],
   "source": [
    "df_time_lsoa_hospital.columns"
   ]
  },
  {
   "cell_type": "code",
   "execution_count": 4,
   "id": "92e7a86f-0d93-4441-9a68-03ac384e4c81",
   "metadata": {},
   "outputs": [
    {
     "data": {
      "text/plain": [
       "Index(['Adur 001A', 'Adur 001B', 'Adur 001C', 'Adur 001D', 'Adur 001E',\n",
       "       'Adur 001F', 'Adur 002A', 'Adur 002B', 'Adur 002C', 'Adur 002D',\n",
       "       ...\n",
       "       'York 022F', 'York 023A', 'York 023B', 'York 023C', 'York 024A',\n",
       "       'York 024B', 'York 024C', 'York 024D', 'York 024E', 'York 024F'],\n",
       "      dtype='object', name='LSOA', length=34752)"
      ]
     },
     "execution_count": 4,
     "metadata": {},
     "output_type": "execute_result"
    }
   ],
   "source": [
    "df_time_lsoa_hospital.index"
   ]
  },
  {
   "cell_type": "markdown",
   "id": "e6cb8cee-a75d-4806-81c6-a604149a2b8b",
   "metadata": {},
   "source": [
    "LSOA names and codes table:\n",
    "\n",
    "Created in `link_LSOAs_to_ONS_regions.ipynb`"
   ]
  },
  {
   "cell_type": "code",
   "execution_count": 5,
   "id": "59ffe861-6d2f-4508-8e36-b5c1bb88cfdf",
   "metadata": {},
   "outputs": [],
   "source": [
    "df_regions = pd.read_csv('../data_tabular/LSOA_regions.csv')"
   ]
  },
  {
   "cell_type": "code",
   "execution_count": 6,
   "id": "e3e24bc9-8bb4-48a8-9081-2fcf45d112a3",
   "metadata": {},
   "outputs": [
    {
     "data": {
      "text/plain": [
       "Index(['LSOA11CD', 'LSOA11NM', 'LSOA11LONG', 'LSOA11LAT', 'CCG19CD', 'CCG19NM',\n",
       "       'STP19CD', 'STP19NM', 'LHB20CD', 'LHB20NM', 'LHB20NMW', 'LAD17CD',\n",
       "       'LAD17NM', 'SCN17CD', 'SCN17NM', 'RGN11CD', 'RGN11NM'],\n",
       "      dtype='object')"
      ]
     },
     "execution_count": 6,
     "metadata": {},
     "output_type": "execute_result"
    }
   ],
   "source": [
    "df_regions.columns"
   ]
  },
  {
   "cell_type": "code",
   "execution_count": 7,
   "id": "384d8b54-6330-432e-9f22-222106b8d42f",
   "metadata": {},
   "outputs": [
    {
     "data": {
      "text/plain": [
       "0        Adur 001A\n",
       "1        Adur 001B\n",
       "2        Adur 001C\n",
       "3        Adur 001D\n",
       "4        Adur 001E\n",
       "           ...    \n",
       "34747    York 024B\n",
       "34748    York 024C\n",
       "34749    York 024D\n",
       "34750    York 024E\n",
       "34751    York 024F\n",
       "Name: LSOA11NM, Length: 34752, dtype: object"
      ]
     },
     "execution_count": 7,
     "metadata": {},
     "output_type": "execute_result"
    }
   ],
   "source": [
    "df_regions['LSOA11NM']"
   ]
  },
  {
   "cell_type": "markdown",
   "id": "d285d6cb-fe2e-41a9-8bff-77f3f8320f5e",
   "metadata": {},
   "source": [
    "Check whether this list is identical to the list in the other file:"
   ]
  },
  {
   "cell_type": "code",
   "execution_count": 8,
   "id": "cebf0bf6-1444-4582-8c6c-d6940e841a72",
   "metadata": {},
   "outputs": [
    {
     "data": {
      "text/plain": [
       "True"
      ]
     },
     "execution_count": 8,
     "metadata": {},
     "output_type": "execute_result"
    }
   ],
   "source": [
    "(df_regions['LSOA11NM'] == df_time_lsoa_hospital.index).all()"
   ]
  },
  {
   "cell_type": "markdown",
   "id": "3b43c482-3bc8-4960-b3f7-bc27b700627b",
   "metadata": {},
   "source": [
    "List of stroke teams and which treatments they can provide:"
   ]
  },
  {
   "cell_type": "code",
   "execution_count": 9,
   "id": "21b96a27-227b-431a-9fcf-31ca64656994",
   "metadata": {},
   "outputs": [],
   "source": [
    "df_stroke_teams = pd.read_csv('../data_tabular/stroke_hospitals_2022.csv')"
   ]
  },
  {
   "cell_type": "code",
   "execution_count": 10,
   "id": "8d890a55-7095-4760-b8ac-01c8c38bcd47",
   "metadata": {
    "scrolled": true
   },
   "outputs": [
    {
     "data": {
      "text/plain": [
       "Index(['Postcode', 'Hospital_name', 'Use_IVT', 'Use_MT', 'Use_MSU', 'Country',\n",
       "       'Strategic Clinical Network', 'Health Board / Trust', 'Stroke Team',\n",
       "       'SSNAP name', 'Admissions 21/22', 'Thrombolysis', 'ivt_rate', 'Easting',\n",
       "       'Northing', 'long', 'lat', 'Neuroscience',\n",
       "       '30 England Thrombectomy Example', 'hospital_city', 'Notes'],\n",
       "      dtype='object')"
      ]
     },
     "execution_count": 10,
     "metadata": {},
     "output_type": "execute_result"
    }
   ],
   "source": [
    "df_stroke_teams.columns"
   ]
  },
  {
   "cell_type": "code",
   "execution_count": 11,
   "id": "e4decd58-ea96-4c88-bd22-02df7eb3b41c",
   "metadata": {},
   "outputs": [
    {
     "data": {
      "text/plain": [
       "array(['RM70AG', 'E11BB', 'SW66SX', 'SE59RW', 'SW170QT', 'NW12BU',\n",
       "       'NG72UH', 'CB20QQ', 'B152TH', 'CV22DX', 'ST46QG', 'L97AL',\n",
       "       'PR29HT', 'M68HD', 'NE14LP', 'HU32JZ', 'LS13EX', 'S102JF',\n",
       "       'BN25BE', 'BS105NB', 'PL68DH', 'OX39DU', 'SO166YD', 'CF144XW'],\n",
       "      dtype=object)"
      ]
     },
     "execution_count": 11,
     "metadata": {},
     "output_type": "execute_result"
    }
   ],
   "source": [
    "MT_units = df_stroke_teams['Postcode'][df_stroke_teams['Use_MT'] == 1].values\n",
    "\n",
    "MT_units"
   ]
  },
  {
   "cell_type": "markdown",
   "id": "25777122-2e8c-4c2a-a6e8-9156265def8c",
   "metadata": {},
   "source": [
    "## Assign LSOAs to hospitals\n",
    "\n",
    "Put the final data into this new dataframe:"
   ]
  },
  {
   "cell_type": "code",
   "execution_count": 12,
   "id": "401f3b49-4232-48d4-ac25-8b133dda96e1",
   "metadata": {},
   "outputs": [],
   "source": [
    "df_lsoa_hospitals = pd.DataFrame()"
   ]
  },
  {
   "cell_type": "markdown",
   "id": "da749f61-caa5-40b8-98b7-8866ac6b85a8",
   "metadata": {},
   "source": [
    "Find information about the nearest stroke team to each LSOA:"
   ]
  },
  {
   "cell_type": "code",
   "execution_count": 13,
   "id": "d2cfe8f0-bcc5-4c4a-a1fa-352ee3b3a466",
   "metadata": {},
   "outputs": [],
   "source": [
    "# Nearest stroke team:\n",
    "# The smallest time in each row:\n",
    "df_lsoa_hospitals['time_nearest_stroke_team'] = df_time_lsoa_hospital.min(axis='columns')\n",
    "# The name of the column containing the smallest time in each row:\n",
    "df_lsoa_hospitals['postcode_nearest_stroke_team'] = df_time_lsoa_hospital.idxmin(axis='columns')\n",
    "\n",
    "# Merge in unit names for nearest stroke teams:\n",
    "df_lsoa_hospitals['lsoa'] = df_lsoa_hospitals.index\n",
    "df_lsoa_hospitals = pd.merge(\n",
    "    df_lsoa_hospitals,\n",
    "    df_stroke_teams[['Postcode', 'Stroke Team', 'SSNAP name']],\n",
    "    left_on='postcode_nearest_stroke_team',\n",
    "    right_on='Postcode'\n",
    ")\n",
    "df_lsoa_hospitals = df_lsoa_hospitals.set_index('lsoa')\n",
    "df_lsoa_hospitals = df_lsoa_hospitals.drop('Postcode', axis=1)\n",
    "df_lsoa_hospitals = df_lsoa_hospitals.rename(columns={\n",
    "    'Stroke Team': 'name_nearest_stroke_team',\n",
    "    'SSNAP name': 'ssnap_name_nearest_stroke_team',\n",
    "})"
   ]
  },
  {
   "cell_type": "markdown",
   "id": "e5054ef6-3160-4768-be4c-3550c9f6dcb5",
   "metadata": {},
   "source": [
    "Find information about the nearest MT uni to each LSOA:"
   ]
  },
  {
   "cell_type": "code",
   "execution_count": 14,
   "id": "94eee92e-cba4-4a36-8d2c-727fbdde404e",
   "metadata": {},
   "outputs": [],
   "source": [
    "# Nearest MT unit:\n",
    "# The smallest time in each row:\n",
    "df_lsoa_hospitals['time_nearest_MT'] = df_time_lsoa_hospital[MT_units].min(axis='columns')\n",
    "# The name of the column containing the smallest time in each row:\n",
    "df_lsoa_hospitals['postcode_nearest_MT'] = df_time_lsoa_hospital[MT_units].idxmin(axis='columns')\n",
    "# # Merge in unit names for nearest MT unit:\n",
    "df_lsoa_hospitals['lsoa'] = df_lsoa_hospitals.index\n",
    "df_lsoa_hospitals = pd.merge(\n",
    "    df_lsoa_hospitals,\n",
    "    df_stroke_teams[['Postcode', 'Stroke Team', 'SSNAP name']],\n",
    "    left_on='postcode_nearest_MT',\n",
    "    right_on='Postcode'\n",
    ")\n",
    "df_lsoa_hospitals = df_lsoa_hospitals.drop('Postcode', axis=1)\n",
    "df_lsoa_hospitals = df_lsoa_hospitals.rename(columns={\n",
    "    'Stroke Team': 'name_nearest_MT',\n",
    "    'SSNAP name': 'ssnap_name_nearest_MT',\n",
    "})"
   ]
  },
  {
   "cell_type": "markdown",
   "id": "c66aeee3-b72a-448a-8249-dc39665629db",
   "metadata": {},
   "source": [
    "Add in extra identifiers - LSOA code name `LSOA11CD` from the ONS data."
   ]
  },
  {
   "cell_type": "code",
   "execution_count": 15,
   "id": "16efed33-4c5a-444e-952f-c6d35b10db70",
   "metadata": {},
   "outputs": [],
   "source": [
    "# Add in LSOA code:\n",
    "df_lsoa_hospitals = pd.merge(\n",
    "    df_lsoa_hospitals,\n",
    "    df_regions[['LSOA11NM', 'LSOA11CD']],\n",
    "    left_on='lsoa',\n",
    "    right_on='LSOA11NM'\n",
    ")\n",
    "df_lsoa_hospitals = df_lsoa_hospitals.drop('lsoa', axis=1)"
   ]
  },
  {
   "cell_type": "markdown",
   "id": "05484c6c-a323-4347-9a92-f26d6adf06f7",
   "metadata": {},
   "source": [
    "Reorder columns:"
   ]
  },
  {
   "cell_type": "code",
   "execution_count": 16,
   "id": "78997cca-81cf-4bfa-9351-e8ed3d90d82e",
   "metadata": {},
   "outputs": [],
   "source": [
    "df_lsoa_hospitals = df_lsoa_hospitals[[\n",
    "    'LSOA11NM',\n",
    "    'LSOA11CD',\n",
    "    'time_nearest_stroke_team',\n",
    "    'postcode_nearest_stroke_team',\n",
    "    'name_nearest_stroke_team',\n",
    "    'ssnap_name_nearest_stroke_team',\n",
    "    'time_nearest_MT',\n",
    "    'postcode_nearest_MT',\n",
    "    'name_nearest_MT',\n",
    "    'ssnap_name_nearest_MT',\n",
    "]]"
   ]
  },
  {
   "cell_type": "markdown",
   "id": "fa2f8896-0829-4305-a31e-86189d39ad28",
   "metadata": {},
   "source": [
    "Final combined dataframe:"
   ]
  },
  {
   "cell_type": "code",
   "execution_count": 17,
   "id": "649e306d-9d5a-4211-bcc6-c17e7c7d068b",
   "metadata": {},
   "outputs": [
    {
     "data": {
      "text/html": [
       "<div>\n",
       "<style scoped>\n",
       "    .dataframe tbody tr th:only-of-type {\n",
       "        vertical-align: middle;\n",
       "    }\n",
       "\n",
       "    .dataframe tbody tr th {\n",
       "        vertical-align: top;\n",
       "    }\n",
       "\n",
       "    .dataframe thead th {\n",
       "        text-align: right;\n",
       "    }\n",
       "</style>\n",
       "<table border=\"1\" class=\"dataframe\">\n",
       "  <thead>\n",
       "    <tr style=\"text-align: right;\">\n",
       "      <th></th>\n",
       "      <th>LSOA11NM</th>\n",
       "      <th>LSOA11CD</th>\n",
       "      <th>time_nearest_stroke_team</th>\n",
       "      <th>postcode_nearest_stroke_team</th>\n",
       "      <th>name_nearest_stroke_team</th>\n",
       "      <th>ssnap_name_nearest_stroke_team</th>\n",
       "      <th>time_nearest_MT</th>\n",
       "      <th>postcode_nearest_MT</th>\n",
       "      <th>name_nearest_MT</th>\n",
       "      <th>ssnap_name_nearest_MT</th>\n",
       "    </tr>\n",
       "  </thead>\n",
       "  <tbody>\n",
       "    <tr>\n",
       "      <th>0</th>\n",
       "      <td>Adur 001A</td>\n",
       "      <td>E01031349</td>\n",
       "      <td>17.6</td>\n",
       "      <td>BN25BE</td>\n",
       "      <td>Royal Sussex County Hospital, Brighton</td>\n",
       "      <td>Royal Sussex County Hospital</td>\n",
       "      <td>17.6</td>\n",
       "      <td>BN25BE</td>\n",
       "      <td>Royal Sussex County Hospital, Brighton</td>\n",
       "      <td>Royal Sussex County Hospital</td>\n",
       "    </tr>\n",
       "    <tr>\n",
       "      <th>1</th>\n",
       "      <td>Adur 004A</td>\n",
       "      <td>E01031347</td>\n",
       "      <td>17.6</td>\n",
       "      <td>BN25BE</td>\n",
       "      <td>Royal Sussex County Hospital, Brighton</td>\n",
       "      <td>Royal Sussex County Hospital</td>\n",
       "      <td>17.6</td>\n",
       "      <td>BN25BE</td>\n",
       "      <td>Royal Sussex County Hospital, Brighton</td>\n",
       "      <td>Royal Sussex County Hospital</td>\n",
       "    </tr>\n",
       "    <tr>\n",
       "      <th>2</th>\n",
       "      <td>Adur 004B</td>\n",
       "      <td>E01031348</td>\n",
       "      <td>16.5</td>\n",
       "      <td>BN25BE</td>\n",
       "      <td>Royal Sussex County Hospital, Brighton</td>\n",
       "      <td>Royal Sussex County Hospital</td>\n",
       "      <td>16.5</td>\n",
       "      <td>BN25BE</td>\n",
       "      <td>Royal Sussex County Hospital, Brighton</td>\n",
       "      <td>Royal Sussex County Hospital</td>\n",
       "    </tr>\n",
       "    <tr>\n",
       "      <th>3</th>\n",
       "      <td>Brighton and Hove 001A</td>\n",
       "      <td>E01016924</td>\n",
       "      <td>18.7</td>\n",
       "      <td>BN25BE</td>\n",
       "      <td>Royal Sussex County Hospital, Brighton</td>\n",
       "      <td>Royal Sussex County Hospital</td>\n",
       "      <td>18.7</td>\n",
       "      <td>BN25BE</td>\n",
       "      <td>Royal Sussex County Hospital, Brighton</td>\n",
       "      <td>Royal Sussex County Hospital</td>\n",
       "    </tr>\n",
       "    <tr>\n",
       "      <th>4</th>\n",
       "      <td>Brighton and Hove 001B</td>\n",
       "      <td>E01016926</td>\n",
       "      <td>17.6</td>\n",
       "      <td>BN25BE</td>\n",
       "      <td>Royal Sussex County Hospital, Brighton</td>\n",
       "      <td>Royal Sussex County Hospital</td>\n",
       "      <td>17.6</td>\n",
       "      <td>BN25BE</td>\n",
       "      <td>Royal Sussex County Hospital, Brighton</td>\n",
       "      <td>Royal Sussex County Hospital</td>\n",
       "    </tr>\n",
       "    <tr>\n",
       "      <th>...</th>\n",
       "      <td>...</td>\n",
       "      <td>...</td>\n",
       "      <td>...</td>\n",
       "      <td>...</td>\n",
       "      <td>...</td>\n",
       "      <td>...</td>\n",
       "      <td>...</td>\n",
       "      <td>...</td>\n",
       "      <td>...</td>\n",
       "      <td>...</td>\n",
       "    </tr>\n",
       "    <tr>\n",
       "      <th>34747</th>\n",
       "      <td>Torbay 019C</td>\n",
       "      <td>E01015212</td>\n",
       "      <td>9.0</td>\n",
       "      <td>TQ27AA</td>\n",
       "      <td>Torbay Hospital</td>\n",
       "      <td>Torbay Hospital</td>\n",
       "      <td>54.1</td>\n",
       "      <td>PL68DH</td>\n",
       "      <td>Derriford Hospital, Plymouth</td>\n",
       "      <td>Derriford Hospital</td>\n",
       "    </tr>\n",
       "    <tr>\n",
       "      <th>34748</th>\n",
       "      <td>Torbay 019D</td>\n",
       "      <td>E01015213</td>\n",
       "      <td>10.1</td>\n",
       "      <td>TQ27AA</td>\n",
       "      <td>Torbay Hospital</td>\n",
       "      <td>Torbay Hospital</td>\n",
       "      <td>52.0</td>\n",
       "      <td>PL68DH</td>\n",
       "      <td>Derriford Hospital, Plymouth</td>\n",
       "      <td>Derriford Hospital</td>\n",
       "    </tr>\n",
       "    <tr>\n",
       "      <th>34749</th>\n",
       "      <td>Torbay 019E</td>\n",
       "      <td>E01015207</td>\n",
       "      <td>10.1</td>\n",
       "      <td>TQ27AA</td>\n",
       "      <td>Torbay Hospital</td>\n",
       "      <td>Torbay Hospital</td>\n",
       "      <td>50.9</td>\n",
       "      <td>PL68DH</td>\n",
       "      <td>Derriford Hospital, Plymouth</td>\n",
       "      <td>Derriford Hospital</td>\n",
       "    </tr>\n",
       "    <tr>\n",
       "      <th>34750</th>\n",
       "      <td>Torbay 019F</td>\n",
       "      <td>E01015208</td>\n",
       "      <td>11.2</td>\n",
       "      <td>TQ27AA</td>\n",
       "      <td>Torbay Hospital</td>\n",
       "      <td>Torbay Hospital</td>\n",
       "      <td>49.8</td>\n",
       "      <td>PL68DH</td>\n",
       "      <td>Derriford Hospital, Plymouth</td>\n",
       "      <td>Derriford Hospital</td>\n",
       "    </tr>\n",
       "    <tr>\n",
       "      <th>34751</th>\n",
       "      <td>Torbay 019G</td>\n",
       "      <td>E01015211</td>\n",
       "      <td>9.0</td>\n",
       "      <td>TQ27AA</td>\n",
       "      <td>Torbay Hospital</td>\n",
       "      <td>Torbay Hospital</td>\n",
       "      <td>50.9</td>\n",
       "      <td>PL68DH</td>\n",
       "      <td>Derriford Hospital, Plymouth</td>\n",
       "      <td>Derriford Hospital</td>\n",
       "    </tr>\n",
       "  </tbody>\n",
       "</table>\n",
       "<p>34752 rows × 10 columns</p>\n",
       "</div>"
      ],
      "text/plain": [
       "                     LSOA11NM   LSOA11CD  time_nearest_stroke_team  \\\n",
       "0                   Adur 001A  E01031349                      17.6   \n",
       "1                   Adur 004A  E01031347                      17.6   \n",
       "2                   Adur 004B  E01031348                      16.5   \n",
       "3      Brighton and Hove 001A  E01016924                      18.7   \n",
       "4      Brighton and Hove 001B  E01016926                      17.6   \n",
       "...                       ...        ...                       ...   \n",
       "34747             Torbay 019C  E01015212                       9.0   \n",
       "34748             Torbay 019D  E01015213                      10.1   \n",
       "34749             Torbay 019E  E01015207                      10.1   \n",
       "34750             Torbay 019F  E01015208                      11.2   \n",
       "34751             Torbay 019G  E01015211                       9.0   \n",
       "\n",
       "      postcode_nearest_stroke_team                name_nearest_stroke_team  \\\n",
       "0                           BN25BE  Royal Sussex County Hospital, Brighton   \n",
       "1                           BN25BE  Royal Sussex County Hospital, Brighton   \n",
       "2                           BN25BE  Royal Sussex County Hospital, Brighton   \n",
       "3                           BN25BE  Royal Sussex County Hospital, Brighton   \n",
       "4                           BN25BE  Royal Sussex County Hospital, Brighton   \n",
       "...                            ...                                     ...   \n",
       "34747                       TQ27AA                         Torbay Hospital   \n",
       "34748                       TQ27AA                         Torbay Hospital   \n",
       "34749                       TQ27AA                         Torbay Hospital   \n",
       "34750                       TQ27AA                         Torbay Hospital   \n",
       "34751                       TQ27AA                         Torbay Hospital   \n",
       "\n",
       "      ssnap_name_nearest_stroke_team  time_nearest_MT postcode_nearest_MT  \\\n",
       "0       Royal Sussex County Hospital             17.6              BN25BE   \n",
       "1       Royal Sussex County Hospital             17.6              BN25BE   \n",
       "2       Royal Sussex County Hospital             16.5              BN25BE   \n",
       "3       Royal Sussex County Hospital             18.7              BN25BE   \n",
       "4       Royal Sussex County Hospital             17.6              BN25BE   \n",
       "...                              ...              ...                 ...   \n",
       "34747                Torbay Hospital             54.1              PL68DH   \n",
       "34748                Torbay Hospital             52.0              PL68DH   \n",
       "34749                Torbay Hospital             50.9              PL68DH   \n",
       "34750                Torbay Hospital             49.8              PL68DH   \n",
       "34751                Torbay Hospital             50.9              PL68DH   \n",
       "\n",
       "                              name_nearest_MT         ssnap_name_nearest_MT  \n",
       "0      Royal Sussex County Hospital, Brighton  Royal Sussex County Hospital  \n",
       "1      Royal Sussex County Hospital, Brighton  Royal Sussex County Hospital  \n",
       "2      Royal Sussex County Hospital, Brighton  Royal Sussex County Hospital  \n",
       "3      Royal Sussex County Hospital, Brighton  Royal Sussex County Hospital  \n",
       "4      Royal Sussex County Hospital, Brighton  Royal Sussex County Hospital  \n",
       "...                                       ...                           ...  \n",
       "34747            Derriford Hospital, Plymouth            Derriford Hospital  \n",
       "34748            Derriford Hospital, Plymouth            Derriford Hospital  \n",
       "34749            Derriford Hospital, Plymouth            Derriford Hospital  \n",
       "34750            Derriford Hospital, Plymouth            Derriford Hospital  \n",
       "34751            Derriford Hospital, Plymouth            Derriford Hospital  \n",
       "\n",
       "[34752 rows x 10 columns]"
      ]
     },
     "execution_count": 17,
     "metadata": {},
     "output_type": "execute_result"
    }
   ],
   "source": [
    "df_lsoa_hospitals"
   ]
  },
  {
   "cell_type": "markdown",
   "id": "43d5ca54-80a9-40ce-a830-0e6642080068",
   "metadata": {},
   "source": [
    "Save to file:"
   ]
  },
  {
   "cell_type": "code",
   "execution_count": 18,
   "id": "7957a3a6-1aa6-4ed0-a96f-4ab8b2dd50f9",
   "metadata": {},
   "outputs": [],
   "source": [
    "df_lsoa_hospitals.to_csv('../data_tabular/lsoa_nearest_stroke_team.csv', index=False)"
   ]
  }
 ],
 "metadata": {
  "kernelspec": {
   "display_name": "Python 3 (ipykernel)",
   "language": "python",
   "name": "python3"
  },
  "language_info": {
   "codemirror_mode": {
    "name": "ipython",
    "version": 3
   },
   "file_extension": ".py",
   "mimetype": "text/x-python",
   "name": "python",
   "nbconvert_exporter": "python",
   "pygments_lexer": "ipython3",
   "version": "3.9.16"
  }
 },
 "nbformat": 4,
 "nbformat_minor": 5
}
