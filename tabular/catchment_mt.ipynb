{
 "cells": [
  {
   "cell_type": "markdown",
   "id": "c8d62111-b2d0-4cb9-9e81-26d9fb4b3a99",
   "metadata": {},
   "source": [
    "# Find catchment areas for hospitals offering mechanical thrombectomy\n",
    "\n",
    "Wheel-and-spoke model."
   ]
  },
  {
   "cell_type": "code",
   "execution_count": 16,
   "id": "c9d51ec6-f039-4af2-9545-6cf441548e04",
   "metadata": {},
   "outputs": [],
   "source": [
    "import pandas as pd\n",
    "import numpy as np"
   ]
  },
  {
   "cell_type": "markdown",
   "id": "e2272ce0-444b-4947-98ac-61398634b3b6",
   "metadata": {},
   "source": [
    "## Import data"
   ]
  },
  {
   "cell_type": "markdown",
   "id": "3efaa42f-81b6-4a3d-a4ae-f937c21fda10",
   "metadata": {},
   "source": [
    "List of stroke teams and which treatments they can provide:"
   ]
  },
  {
   "cell_type": "code",
   "execution_count": 17,
   "id": "3c4d3b5b-2355-488c-8ab9-4259aa048bcc",
   "metadata": {},
   "outputs": [],
   "source": [
    "df_stroke_teams = pd.read_csv('../data_tabular/stroke_hospitals_2022.csv')"
   ]
  },
  {
   "cell_type": "code",
   "execution_count": 18,
   "id": "7328b2e2-21c9-46d8-bfd8-ac235fabd834",
   "metadata": {},
   "outputs": [
    {
     "data": {
      "text/plain": [
       "Index(['Postcode', 'Hospital_name', 'Use_IVT', 'Use_MT', 'Use_MSU', 'Country',\n",
       "       'Strategic Clinical Network', 'Health Board / Trust', 'Stroke Team',\n",
       "       'SSNAP name', 'Admissions 21/22', 'Thrombolysis', 'ivt_rate', 'Easting',\n",
       "       'Northing', 'long', 'lat', 'Neuroscience',\n",
       "       '30 England Thrombectomy Example', 'hospital_city', 'Notes'],\n",
       "      dtype='object')"
      ]
     },
     "execution_count": 18,
     "metadata": {},
     "output_type": "execute_result"
    }
   ],
   "source": [
    "df_stroke_teams.columns"
   ]
  },
  {
   "cell_type": "markdown",
   "id": "50709aa1-6217-4724-90f5-4a14b8d817b5",
   "metadata": {},
   "source": [
    "Travel time matrix between hospitals:"
   ]
  },
  {
   "cell_type": "code",
   "execution_count": 19,
   "id": "c98689d2-b56a-439a-a98d-c0cf20297613",
   "metadata": {},
   "outputs": [],
   "source": [
    "df_time_inter_hospital = pd.read_csv('../data_tabular/inter_hospital_time_calibrated.csv', index_col='from_postcode')"
   ]
  },
  {
   "cell_type": "code",
   "execution_count": 20,
   "id": "d75021a8-e7fb-4695-9cd0-0e8bbca66edc",
   "metadata": {},
   "outputs": [
    {
     "data": {
      "text/plain": [
       "Index(['B152TH', 'B714HJ', 'B95SS', 'BA13NG', 'BA214AT', 'BB23HH', 'BD96RJ',\n",
       "       'BH77DW', 'BL97TD', 'BN112DH',\n",
       "       ...\n",
       "       'TN240LZ', 'TQ27AA', 'TR13LQ', 'TS198PE', 'TS43BW', 'WD180HB', 'WF14DG',\n",
       "       'WR51DD', 'WV100QP', 'YO318HE'],\n",
       "      dtype='object', length=125)"
      ]
     },
     "execution_count": 20,
     "metadata": {},
     "output_type": "execute_result"
    }
   ],
   "source": [
    "df_time_inter_hospital.columns"
   ]
  },
  {
   "cell_type": "code",
   "execution_count": 21,
   "id": "b23199a1-42cf-48c4-977e-dcd5cab8e32d",
   "metadata": {},
   "outputs": [
    {
     "data": {
      "text/plain": [
       "Index(['B152TH', 'B714HJ', 'B95SS', 'BA13NG', 'BA214AT', 'BB23HH', 'BD96RJ',\n",
       "       'BH77DW', 'BL97TD', 'BN112DH',\n",
       "       ...\n",
       "       'TN240LZ', 'TQ27AA', 'TR13LQ', 'TS198PE', 'TS43BW', 'WD180HB', 'WF14DG',\n",
       "       'WR51DD', 'WV100QP', 'YO318HE'],\n",
       "      dtype='object', name='from_postcode', length=125)"
      ]
     },
     "execution_count": 21,
     "metadata": {},
     "output_type": "execute_result"
    }
   ],
   "source": [
    "df_time_inter_hospital.index"
   ]
  },
  {
   "cell_type": "markdown",
   "id": "eb450c26-57bb-443d-9d4b-c4b2b225d149",
   "metadata": {},
   "source": [
    "## Match MT hospitals to IVT hospitals"
   ]
  },
  {
   "cell_type": "markdown",
   "id": "b2a7d69d-198f-4506-a027-fa11c2d5c6bd",
   "metadata": {},
   "source": [
    "Pick out the names of hospitals offering MT:"
   ]
  },
  {
   "cell_type": "code",
   "execution_count": 22,
   "id": "a4c39a73-a136-4c2e-910c-7bf9bfd2d41e",
   "metadata": {},
   "outputs": [
    {
     "data": {
      "text/plain": [
       "array(['RM70AG', 'E11BB', 'SW66SX', 'SE59RW', 'SW170QT', 'NW12BU',\n",
       "       'NG72UH', 'CB20QQ', 'B152TH', 'CV22DX', 'ST46QG', 'L97AL',\n",
       "       'PR29HT', 'M68HD', 'NE14LP', 'HU32JZ', 'LS13EX', 'S102JF',\n",
       "       'BN25BE', 'BS105NB', 'PL68DH', 'OX39DU', 'SO166YD', 'CF144XW'],\n",
       "      dtype=object)"
      ]
     },
     "execution_count": 22,
     "metadata": {},
     "output_type": "execute_result"
    }
   ],
   "source": [
    "mt_hospital_names = df_stroke_teams['Postcode'][df_stroke_teams['Use_MT'] == 1].values\n",
    "\n",
    "mt_hospital_names"
   ]
  },
  {
   "cell_type": "markdown",
   "id": "54684dde-4965-4eeb-a385-7c1fc24cbfb3",
   "metadata": {},
   "source": [
    "Reduce columns of inter-hospital time matrix to just MT hospitals:"
   ]
  },
  {
   "cell_type": "code",
   "execution_count": 23,
   "id": "358f9a31-cc46-4dde-8847-fe55ad76e5c6",
   "metadata": {},
   "outputs": [
    {
     "data": {
      "text/plain": [
       "Index(['RM70AG', 'E11BB', 'SW66SX', 'SE59RW', 'SW170QT', 'NW12BU', 'NG72UH',\n",
       "       'CB20QQ', 'B152TH', 'CV22DX', 'ST46QG', 'L97AL', 'PR29HT', 'M68HD',\n",
       "       'NE14LP', 'HU32JZ', 'LS13EX', 'S102JF', 'BN25BE', 'BS105NB', 'PL68DH',\n",
       "       'OX39DU', 'SO166YD', 'CF144XW'],\n",
       "      dtype='object')"
      ]
     },
     "execution_count": 23,
     "metadata": {},
     "output_type": "execute_result"
    }
   ],
   "source": [
    "df_time_to_mt_hospital = df_time_inter_hospital[mt_hospital_names]\n",
    "\n",
    "df_time_to_mt_hospital.columns"
   ]
  },
  {
   "cell_type": "markdown",
   "id": "90fc2ba2-f702-401f-aa3b-2216ed9c8b3a",
   "metadata": {},
   "source": [
    "From this reduced dataframe, pick out the smallest time in each row and the MT hospital that it belongs to."
   ]
  },
  {
   "cell_type": "code",
   "execution_count": 24,
   "id": "49cc9d99-19fa-4234-a289-5d38dee7299f",
   "metadata": {},
   "outputs": [
    {
     "data": {
      "text/html": [
       "<div>\n",
       "<style scoped>\n",
       "    .dataframe tbody tr th:only-of-type {\n",
       "        vertical-align: middle;\n",
       "    }\n",
       "\n",
       "    .dataframe tbody tr th {\n",
       "        vertical-align: top;\n",
       "    }\n",
       "\n",
       "    .dataframe thead th {\n",
       "        text-align: right;\n",
       "    }\n",
       "</style>\n",
       "<table border=\"1\" class=\"dataframe\">\n",
       "  <thead>\n",
       "    <tr style=\"text-align: right;\">\n",
       "      <th></th>\n",
       "      <th>time_nearest_MT</th>\n",
       "      <th>name_nearest_MT</th>\n",
       "    </tr>\n",
       "    <tr>\n",
       "      <th>from_postcode</th>\n",
       "      <th></th>\n",
       "      <th></th>\n",
       "    </tr>\n",
       "  </thead>\n",
       "  <tbody>\n",
       "    <tr>\n",
       "      <th>B152TH</th>\n",
       "      <td>0.0</td>\n",
       "      <td>B152TH</td>\n",
       "    </tr>\n",
       "    <tr>\n",
       "      <th>B714HJ</th>\n",
       "      <td>18.7</td>\n",
       "      <td>B152TH</td>\n",
       "    </tr>\n",
       "    <tr>\n",
       "      <th>B95SS</th>\n",
       "      <td>19.8</td>\n",
       "      <td>B152TH</td>\n",
       "    </tr>\n",
       "    <tr>\n",
       "      <th>BA13NG</th>\n",
       "      <td>33.7</td>\n",
       "      <td>BS105NB</td>\n",
       "    </tr>\n",
       "    <tr>\n",
       "      <th>BA214AT</th>\n",
       "      <td>74.5</td>\n",
       "      <td>BS105NB</td>\n",
       "    </tr>\n",
       "    <tr>\n",
       "      <th>...</th>\n",
       "      <td>...</td>\n",
       "      <td>...</td>\n",
       "    </tr>\n",
       "    <tr>\n",
       "      <th>WD180HB</th>\n",
       "      <td>34.8</td>\n",
       "      <td>NW12BU</td>\n",
       "    </tr>\n",
       "    <tr>\n",
       "      <th>WF14DG</th>\n",
       "      <td>24.1</td>\n",
       "      <td>LS13EX</td>\n",
       "    </tr>\n",
       "    <tr>\n",
       "      <th>WR51DD</th>\n",
       "      <td>35.9</td>\n",
       "      <td>B152TH</td>\n",
       "    </tr>\n",
       "    <tr>\n",
       "      <th>WV100QP</th>\n",
       "      <td>29.4</td>\n",
       "      <td>B152TH</td>\n",
       "    </tr>\n",
       "    <tr>\n",
       "      <th>YO318HE</th>\n",
       "      <td>44.5</td>\n",
       "      <td>LS13EX</td>\n",
       "    </tr>\n",
       "  </tbody>\n",
       "</table>\n",
       "<p>125 rows × 2 columns</p>\n",
       "</div>"
      ],
      "text/plain": [
       "               time_nearest_MT name_nearest_MT\n",
       "from_postcode                                 \n",
       "B152TH                     0.0          B152TH\n",
       "B714HJ                    18.7          B152TH\n",
       "B95SS                     19.8          B152TH\n",
       "BA13NG                    33.7         BS105NB\n",
       "BA214AT                   74.5         BS105NB\n",
       "...                        ...             ...\n",
       "WD180HB                   34.8          NW12BU\n",
       "WF14DG                    24.1          LS13EX\n",
       "WR51DD                    35.9          B152TH\n",
       "WV100QP                   29.4          B152TH\n",
       "YO318HE                   44.5          LS13EX\n",
       "\n",
       "[125 rows x 2 columns]"
      ]
     },
     "execution_count": 24,
     "metadata": {},
     "output_type": "execute_result"
    }
   ],
   "source": [
    "df_nearest_mt = pd.DataFrame()\n",
    "# The smallest time in each row:\n",
    "df_nearest_mt['time_nearest_MT'] = df_time_to_mt_hospital.min(axis='columns')\n",
    "# The name of the column containing the smallest time in each row:\n",
    "df_nearest_mt['name_nearest_MT'] = df_time_to_mt_hospital.idxmin(axis='columns')\n",
    "# The starting hospital name:\n",
    "df_nearest_mt['from_postcode'] = df_time_to_mt_hospital.index\n",
    "\n",
    "df_nearest_mt = df_nearest_mt.set_index('from_postcode')\n",
    "\n",
    "df_nearest_mt"
   ]
  },
  {
   "cell_type": "markdown",
   "id": "f29fb6ca-1b35-4431-826a-4788024e2961",
   "metadata": {},
   "source": [
    "Save to file:"
   ]
  },
  {
   "cell_type": "code",
   "execution_count": 25,
   "id": "2370e81c-5578-4937-b923-a7e5b4b958f2",
   "metadata": {},
   "outputs": [],
   "source": [
    "df_nearest_mt.to_csv('../data_tabular/nearest_mt_each_hospital.csv')"
   ]
  }
 ],
 "metadata": {
  "kernelspec": {
   "display_name": "Python 3 (ipykernel)",
   "language": "python",
   "name": "python3"
  },
  "language_info": {
   "codemirror_mode": {
    "name": "ipython",
    "version": 3
   },
   "file_extension": ".py",
   "mimetype": "text/x-python",
   "name": "python",
   "nbconvert_exporter": "python",
   "pygments_lexer": "ipython3",
   "version": "3.9.16"
  }
 },
 "nbformat": 4,
 "nbformat_minor": 5
}
