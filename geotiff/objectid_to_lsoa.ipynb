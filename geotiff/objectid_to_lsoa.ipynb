{
 "cells": [
  {
   "cell_type": "markdown",
   "id": "cc2d2751-80a5-4832-bcd6-7344138aa41c",
   "metadata": {},
   "source": [
    "# Match ObjectIDs to LSOA names\n",
    "\n",
    "The .geojson shape file contains a property called `OBJECTID` for each LSOA. This notebook makes a list of the object ID for each LSOA.\n",
    "\n",
    "(It's useful later for matching pixels in our custom geotiff to the LSOAs they belong to)."
   ]
  },
  {
   "cell_type": "code",
   "execution_count": 1,
   "id": "a5c824aa-ea70-4b16-ab64-6430098192c5",
   "metadata": {},
   "outputs": [],
   "source": [
    "import pandas as pd\n",
    "import numpy as np\n",
    "\n",
    "# For importing geojson:\n",
    "import json"
   ]
  },
  {
   "cell_type": "markdown",
   "id": "55fb0770-43d6-477c-b716-158a1bad71ba",
   "metadata": {},
   "source": [
    "## Import the geojson and find the object IDs"
   ]
  },
  {
   "cell_type": "code",
   "execution_count": 2,
   "id": "57eeb42d-b48f-4e5f-b6f6-80308367f9b3",
   "metadata": {},
   "outputs": [],
   "source": [
    "geojson_file = './LSOA_(Dec_2011)_Boundaries_Super_Generalised_Clipped_(BSC)_EW_V3.geojson'\n",
    "\n",
    "with open(geojson_file) as f:\n",
    "    geojson_ew = json.load(f)"
   ]
  },
  {
   "cell_type": "markdown",
   "id": "064f8e1b-b528-43fe-8204-a47441eea8bf",
   "metadata": {},
   "source": [
    "The property saved into the geotiff is `OBJECTID` so make a list of this and some other useful bits."
   ]
  },
  {
   "cell_type": "code",
   "execution_count": 3,
   "id": "e5376231-d60a-42a7-bcc9-acac801bcdb5",
   "metadata": {
    "tags": []
   },
   "outputs": [],
   "source": [
    "LSOA_names = []\n",
    "LSOA_codes = []\n",
    "object_IDs = []\n",
    "for i, feature in enumerate(geojson_ew['features']):\n",
    "    \n",
    "    LSOA_name = feature['properties']['LSOA11NM']\n",
    "    # Manually update some bits that are inconsistent in the super generalised file:\n",
    "    if LSOA_name == 'Shepway 014E':\n",
    "        LSOA_name = 'Shepway 015A'\n",
    "    if LSOA_name == 'Shepway 014F':\n",
    "        LSOA_name = 'Shepway 015B'\n",
    "    if LSOA_name == 'Shepway 014G':\n",
    "        LSOA_name = 'Shepway 015C'\n",
    "    if LSOA_name == 'Shepway 014H':\n",
    "        LSOA_name = 'Shepway 015D'\n",
    "    LSOA_names.append(LSOA_name)\n",
    "    LSOA_codes.append(feature['properties']['LSOA11CD'])\n",
    "    object_IDs.append(feature['properties']['OBJECTID'])\n",
    "\n",
    "LSOA_names = np.array(LSOA_names)\n",
    "LSOA_codes = np.array(LSOA_codes)\n",
    "object_IDs = np.array(object_IDs)"
   ]
  },
  {
   "cell_type": "markdown",
   "id": "8937cc53-7b96-4f69-8806-30be064d45d1",
   "metadata": {},
   "source": [
    "Build these into a data frame:"
   ]
  },
  {
   "cell_type": "code",
   "execution_count": 4,
   "id": "9f936d79-bdbb-42c5-b42e-dc250b53e44c",
   "metadata": {},
   "outputs": [
    {
     "data": {
      "text/html": [
       "<div>\n",
       "<style scoped>\n",
       "    .dataframe tbody tr th:only-of-type {\n",
       "        vertical-align: middle;\n",
       "    }\n",
       "\n",
       "    .dataframe tbody tr th {\n",
       "        vertical-align: top;\n",
       "    }\n",
       "\n",
       "    .dataframe thead th {\n",
       "        text-align: right;\n",
       "    }\n",
       "</style>\n",
       "<table border=\"1\" class=\"dataframe\">\n",
       "  <thead>\n",
       "    <tr style=\"text-align: right;\">\n",
       "      <th></th>\n",
       "      <th>LSOA11NM</th>\n",
       "      <th>LSOA11CD</th>\n",
       "      <th>OBJECTID</th>\n",
       "    </tr>\n",
       "  </thead>\n",
       "  <tbody>\n",
       "    <tr>\n",
       "      <th>0</th>\n",
       "      <td>City of London 001A</td>\n",
       "      <td>E01000001</td>\n",
       "      <td>1</td>\n",
       "    </tr>\n",
       "    <tr>\n",
       "      <th>1</th>\n",
       "      <td>City of London 001B</td>\n",
       "      <td>E01000002</td>\n",
       "      <td>2</td>\n",
       "    </tr>\n",
       "    <tr>\n",
       "      <th>2</th>\n",
       "      <td>City of London 001C</td>\n",
       "      <td>E01000003</td>\n",
       "      <td>3</td>\n",
       "    </tr>\n",
       "    <tr>\n",
       "      <th>3</th>\n",
       "      <td>City of London 001E</td>\n",
       "      <td>E01000005</td>\n",
       "      <td>4</td>\n",
       "    </tr>\n",
       "    <tr>\n",
       "      <th>4</th>\n",
       "      <td>Barking and Dagenham 016A</td>\n",
       "      <td>E01000006</td>\n",
       "      <td>5</td>\n",
       "    </tr>\n",
       "  </tbody>\n",
       "</table>\n",
       "</div>"
      ],
      "text/plain": [
       "                    LSOA11NM   LSOA11CD OBJECTID\n",
       "0        City of London 001A  E01000001        1\n",
       "1        City of London 001B  E01000002        2\n",
       "2        City of London 001C  E01000003        3\n",
       "3        City of London 001E  E01000005        4\n",
       "4  Barking and Dagenham 016A  E01000006        5"
      ]
     },
     "execution_count": 4,
     "metadata": {},
     "output_type": "execute_result"
    }
   ],
   "source": [
    "df_objectids = pd.DataFrame(\n",
    "    np.stack(np.array([LSOA_names, LSOA_codes, object_IDs], dtype=object), axis=-1),\n",
    "    columns=['LSOA11NM', 'LSOA11CD', 'OBJECTID']\n",
    ")\n",
    "\n",
    "df_objectids.head()"
   ]
  },
  {
   "cell_type": "markdown",
   "id": "8e01242f-d909-4211-b720-f6462227aebd",
   "metadata": {},
   "source": [
    "Save this to .csv:"
   ]
  },
  {
   "cell_type": "code",
   "execution_count": 5,
   "id": "ce27527a-983e-4f1f-b89e-7e0855acf2be",
   "metadata": {},
   "outputs": [],
   "source": [
    "df_objectids.to_csv('lsoa_objectids.csv', index=False)"
   ]
  }
 ],
 "metadata": {
  "kernelspec": {
   "display_name": "Python 3 (ipykernel)",
   "language": "python",
   "name": "python3"
  },
  "language_info": {
   "codemirror_mode": {
    "name": "ipython",
    "version": 3
   },
   "file_extension": ".py",
   "mimetype": "text/x-python",
   "name": "python",
   "nbconvert_exporter": "python",
   "pygments_lexer": "ipython3",
   "version": "3.9.16"
  }
 },
 "nbformat": 4,
 "nbformat_minor": 5
}
