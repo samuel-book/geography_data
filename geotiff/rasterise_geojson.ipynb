{
 "cells": [
  {
   "cell_type": "markdown",
   "id": "86cad1e0-08e3-4c7a-bb6b-92c4c14d48e2",
   "metadata": {},
   "source": [
    "# Create new geotiff by rastering a geojson file\n",
    "\n",
    "This notebook outlines the steps for rasterising a geojson file, or any other vectors that can be loaded into QGIS.\n",
    "\n",
    "Command-line steps for this do exist but it's longer and looks more complicated than just using QGIS."
   ]
  },
  {
   "cell_type": "markdown",
   "id": "6988d0cf-e3fa-4e13-a15a-7a3b4e827aaa",
   "metadata": {},
   "source": [
    "## Setup"
   ]
  },
  {
   "cell_type": "code",
   "execution_count": 1,
   "id": "5167bf8d-2ef6-45fe-8613-83ab19e0976a",
   "metadata": {},
   "outputs": [],
   "source": [
    "# For importing geojson:\n",
    "import json\n",
    "# For converting the tif to cog:\n",
    "import leafmap\n",
    "# For importing the cog raster image:\n",
    "import rasterio\n",
    "# For list searches:\n",
    "import numpy as np"
   ]
  },
  {
   "cell_type": "markdown",
   "id": "62628a9f-b5bd-40e4-85cc-fdcf98c27cb6",
   "metadata": {},
   "source": [
    "## 1: Open the geojson file in QGIS\n",
    "\n",
    "These screenshots show the file `LSOA_(Dec_2011)_Boundaries_Super_Generalised_Clipped_(BSC)_EW_V3.geojson`.\n",
    "\n",
    "![](images/QGIS_LSOAs.png)"
   ]
  },
  {
   "cell_type": "markdown",
   "id": "b111106c-2e65-4896-8e37-e3527498e095",
   "metadata": {},
   "source": [
    "## 2. Open the raster converter\n",
    "\n",
    "In the top bar, select `Raster > Conversion > Rasterize (Vector to Raster)`.\n",
    "\n",
    "![](images/QGIS_raster_defaults.png)"
   ]
  },
  {
   "cell_type": "markdown",
   "id": "1d318de1-9fb5-484e-a343-d0871ab1089e",
   "metadata": {},
   "source": [
    "## 3. Set rasterization parameters\n",
    "\n",
    "1. `Field to use for a burn-in value [optional]` \n",
    "    1. This should be set if you want an output tiff with more data than just valid/invalid, e.g. every pixel containing the sea is set to 0 and every pixel containing an LSOA is set to 1.\n",
    "    1. Setting it to `OBJECTID` makes the output file have a different integer for each LSOA. Pixels outside the LSOAs are set to 0.\n",
    "    1. The integers are given in the same order as the features are contained in the .geojson.\n",
    "2. `A fixed value to burn [optional]`\n",
    "    1. When the previous field is set, this option seems to be irnoged.\n",
    "3. `Output raster size units`\n",
    "    1. For me, this only works when set to `Pixels` and not when set to `Georeferenced units`.\n",
    "4. `Width/Horizontal resolution`\n",
    "    1. The width in pixels of the output image.\n",
    "5. `Height/Vertical resolution`\n",
    "    1. The height in pixels of the output image.\n",
    "6. `Output extent`\n",
    "    1. The bounds of the map in coordinates. \n",
    "    1. This is best set using the options under the `...` drop-down on the right. If it's not there, try making the window wider.\n",
    "    1. Under the `...` option, `Use map canvas extent` automatically fills in the coordinates and the name of the coordinate system used.\n",
    "    1. If QGIS is zoomed in on the full map, one of these options will make the output image cover only the zoomed-in-on region.\n",
    "7. `Assign a specified nodata value to output bands [optional]`\n",
    "    1. It says optional, but if you don't change it from the default 0, it will use the default 0.\n",
    "8. `Advanced parameters`\n",
    "    1. ???\n",
    "9. `Rasterized`\n",
    "    1. Choose between saving the output as a temporary file that will be loaded into QGIS immediately and deleted when QGIS is closed, or saving the output as a proper file.\n",
    "10. `GDAL/OGR console call`\n",
    "    1. Automatically fills in as you complete the above sections.\n",
    "    \n",
    "![](images/QGIS_raster_settings.png)"
   ]
  },
  {
   "cell_type": "markdown",
   "id": "c70d17f5-1a3c-4605-99d7-07b18bd956de",
   "metadata": {},
   "source": [
    "## 4. Run the rasterisation script\n",
    "\n",
    "When everything is set, press `Run` and the window will switch to the `Log` tab. If it runs without errors (red text), all is well. Otherwise, mess with the settings until it's happy.\n",
    "\n",
    "![](images/QGIS_raster_log.png)"
   ]
  },
  {
   "cell_type": "markdown",
   "id": "7d7633df-1e99-4fd9-a9b4-e88436c6784a",
   "metadata": {},
   "source": [
    "## 5. Check the output\n",
    "\n",
    "The output TIF file should have automatically been loaded into QGIS. In the following screenshot, the integers given to each LSOA are mapped to a greyscale colourmap where 0 is invalid, lower numbers are darker and higher numbers are lighter. \n",
    "\n",
    "It looks like whole counties are the same colour because the LSOAs are ordered by LSOA 2011 code in the input geojson file and for the most part neighbouring LSOAs have sequential codes, so the difference in colour is tiny.\n",
    "\n",
    "![](images/QGIS_raster_output.png)"
   ]
  },
  {
   "cell_type": "markdown",
   "id": "80340ab8-bbea-4017-ba3a-62947530828a",
   "metadata": {},
   "source": [
    "# Conversion to cloud-optimised geotiff (cog)\n",
    "\n",
    "With the settings used above (output image 3600 pixels wide by 7200 pixels tall), the output .TIF is a whopping 100MB. That will cause a noticeable lag when loaded into a folium map on Streamlit, for example.\n",
    "\n",
    "To improve the map load times, the file can be converted to a cloud-optimised geotiff. This is easily done in only a few lines of python by following the instructions [here](https://leafmap.org/notebooks/42_create_cog/)."
   ]
  },
  {
   "cell_type": "code",
   "execution_count": 2,
   "id": "3bb217d9-e5f7-484d-90bc-880ebbb4cedd",
   "metadata": {},
   "outputs": [
    {
     "name": "stderr",
     "output_type": "stream",
     "text": [
      "Reading input: /home/anna/samuel_book/skeleton-pathway-model/region_matching/LSOA_raster2.tif\n",
      "\n",
      "Adding overviews...\n",
      "Updating dataset tags...\n",
      "Writing output to: /home/anna/samuel_book/skeleton-pathway-model/region_matching/LSOA_cog2.tif\n"
     ]
    }
   ],
   "source": [
    "# Tiff input file name:\n",
    "in_tiff = './LSOA_raster2.tif'\n",
    "# Cog output file name:\n",
    "out_cog = 'LSOA_cog2.tif'\n",
    "\n",
    "leafmap.image_to_cog(in_tiff, out_cog)"
   ]
  },
  {
   "cell_type": "markdown",
   "id": "d435bde8-a782-4984-b852-879d3cf38d69",
   "metadata": {},
   "source": [
    "If the following output is `(True, [], [])` then the conversion was successful."
   ]
  },
  {
   "cell_type": "code",
   "execution_count": 3,
   "id": "7adc6f34-7a52-4fe4-a795-1f515789f812",
   "metadata": {},
   "outputs": [
    {
     "data": {
      "text/plain": [
       "(True, [], [])"
      ]
     },
     "execution_count": 3,
     "metadata": {},
     "output_type": "execute_result"
    }
   ],
   "source": [
    "leafmap.cog_validate(out_cog)"
   ]
  },
  {
   "cell_type": "markdown",
   "id": "85df6416-3739-4e7d-a09b-d4b57e10e390",
   "metadata": {},
   "source": [
    "The size of the resulting cog file is considerably smaller than the input tiff at only 2.1MB."
   ]
  },
  {
   "cell_type": "markdown",
   "id": "2cc16545-ce62-48ca-b3ae-0d35d068572d",
   "metadata": {
    "tags": []
   },
   "source": [
    "# Import the cog file into python\n",
    "\n",
    "Just a quick check that the tiff was saved at high enough resolution to get all of the information we need from the original geojson vectors. In particular,  I would like each LSOA to contribute at least one pixel to the output image. This condition would not be met by the small London at a low output image resolution.\n",
    "\n",
    "Import the .geojson and see how many LSOAs it contains:"
   ]
  },
  {
   "cell_type": "code",
   "execution_count": 4,
   "id": "feff11e8-006d-442c-becb-ddb1ae7a28c3",
   "metadata": {},
   "outputs": [],
   "source": [
    "geojson_file = './LSOA_(Dec_2011)_Boundaries_Super_Generalised_Clipped_(BSC)_EW_V3.geojson'\n",
    "\n",
    "with open(geojson_file) as f:\n",
    "    geojson_ew = json.load(f)"
   ]
  },
  {
   "cell_type": "markdown",
   "id": "f5daecae-a79e-47d4-928c-9cf71d1a507f",
   "metadata": {},
   "source": [
    "The property saved into the geotiff is `OBJECTID` so make a list of this and some other useful bits."
   ]
  },
  {
   "cell_type": "code",
   "execution_count": 5,
   "id": "f36c49e3-322c-4ae0-8519-c1902721996b",
   "metadata": {
    "tags": []
   },
   "outputs": [],
   "source": [
    "areas = []\n",
    "LSOA_names = []\n",
    "LSOA_codes = []\n",
    "object_IDs = []\n",
    "for i, feature in enumerate(geojson_ew['features']):\n",
    "    areas.append(feature['properties']['Shape__Area'])\n",
    "    LSOA_names.append(feature['properties']['LSOA11NMW'])\n",
    "    LSOA_codes.append(feature['properties']['LSOA11CD'])\n",
    "    object_IDs.append(feature['properties']['OBJECTID'])\n",
    "\n",
    "areas = np.array(areas)\n",
    "LSOA_names = np.array(LSOA_names)\n",
    "LSOA_codes = np.array(LSOA_codes)\n",
    "object_IDs = np.array(object_IDs)"
   ]
  },
  {
   "cell_type": "markdown",
   "id": "e56eeb2b-9839-4e74-8e21-3556ea4ab277",
   "metadata": {},
   "source": [
    "Import the cog file and pull out its unique values."
   ]
  },
  {
   "cell_type": "code",
   "execution_count": 6,
   "id": "28a7e88f-317b-4aa1-8f4e-6e0c848f1eea",
   "metadata": {},
   "outputs": [],
   "source": [
    "with rasterio.open(out_cog, 'r') as f:\n",
    "    tif_array = f.read()\n",
    "\n",
    "tif_vals = sorted(list( set( tif_array.ravel().tolist() )))"
   ]
  },
  {
   "cell_type": "markdown",
   "id": "04177caa-1978-49b5-8d62-03da53f9e76c",
   "metadata": {},
   "source": [
    "See which values are in the tiff but not in the geojson. This should return just the value 0, which is given to invalid data in the tiff."
   ]
  },
  {
   "cell_type": "code",
   "execution_count": 7,
   "id": "fefa7a68-8f1c-44dd-9fcf-1ad2267b2f32",
   "metadata": {},
   "outputs": [
    {
     "data": {
      "text/plain": [
       "{0.0}"
      ]
     },
     "execution_count": 7,
     "metadata": {},
     "output_type": "execute_result"
    }
   ],
   "source": [
    "set( tif_array.ravel().tolist() ) - set(object_IDs)"
   ]
  },
  {
   "cell_type": "markdown",
   "id": "8030176e-3fc9-4a44-9989-2b99dd982465",
   "metadata": {},
   "source": [
    "See which values are in the geojson but not in the tiff. These are the object IDs of LSOAs that are present in the geojson but not represented in the tiff."
   ]
  },
  {
   "cell_type": "code",
   "execution_count": 8,
   "id": "ede6b6e7-cb84-40b4-b960-d4769cc9b849",
   "metadata": {},
   "outputs": [
    {
     "data": {
      "text/plain": [
       "[32580, 32581, 4550, 32237, 31950, 32181, 18684, 8286]"
      ]
     },
     "execution_count": 8,
     "metadata": {},
     "output_type": "execute_result"
    }
   ],
   "source": [
    "missing_LSOAs = list(set(object_IDs) - set( tif_array.ravel().tolist() ))\n",
    "\n",
    "missing_LSOAs"
   ]
  },
  {
   "cell_type": "markdown",
   "id": "aae0bc8b-95aa-4a6e-a4e7-1f590b728e4e",
   "metadata": {},
   "source": [
    "Find the names of these missing LSOAs:"
   ]
  },
  {
   "cell_type": "code",
   "execution_count": 9,
   "id": "5e72d905-cb04-42a9-947f-db8f9c34e9c2",
   "metadata": {},
   "outputs": [
    {
     "name": "stdout",
     "output_type": "stream",
     "text": [
      "32580 ['Islington 011E']\n",
      "32581 ['Islington 011F']\n",
      "4550 ['Westminster 024A']\n",
      "32237 ['Haringey 020F']\n",
      "31950 ['Tower Hamlets 031F']\n",
      "32181 ['Hounslow 025G']\n",
      "18684 ['Carlisle 001B']\n",
      "8286 ['North Tyneside 012C']\n"
     ]
    }
   ],
   "source": [
    "for LSOA in missing_LSOAs:\n",
    "    print(LSOA, LSOA_names[np.where(object_IDs == LSOA)])"
   ]
  }
 ],
 "metadata": {
  "kernelspec": {
   "display_name": "Python 3 (ipykernel)",
   "language": "python",
   "name": "python3"
  },
  "language_info": {
   "codemirror_mode": {
    "name": "ipython",
    "version": 3
   },
   "file_extension": ".py",
   "mimetype": "text/x-python",
   "name": "python",
   "nbconvert_exporter": "python",
   "pygments_lexer": "ipython3",
   "version": "3.9.16"
  }
 },
 "nbformat": 4,
 "nbformat_minor": 5
}
