{
 "cells": [
  {
   "cell_type": "markdown",
   "id": "0cb0df35-9801-4e48-8def-9928fe3880d1",
   "metadata": {},
   "source": [
    "# Choose colours for tiff\n",
    "\n",
    "The output tiff from QGIS has a single channel (\"band\"), a 2D grid that contains object ID values from the .geojson file. To plot the tiff in colour, we need to convert this 1 x 2D grid into 4 x 2D grid - one channel each for RGBA (Red/Green/Blue/Alpha).\n",
    "\n",
    "The colours are selected based on the outcome we wish to plot. Effectively the selection is the same as using a discrete colormap."
   ]
  },
  {
   "cell_type": "markdown",
   "id": "89934009-873c-4827-8deb-9366d2950c82",
   "metadata": {},
   "source": [
    "## Setup"
   ]
  },
  {
   "cell_type": "code",
   "execution_count": 2,
   "id": "6e9364c0-1cec-49cf-bdbb-33b8292f8de1",
   "metadata": {},
   "outputs": [],
   "source": [
    "import numpy as np\n",
    "import pandas as pd\n",
    "\n",
    "# For importing the cog raster image:\n",
    "import rasterio\n",
    "# For plotting:\n",
    "import matplotlib.pyplot as plt\n",
    "# For colour conversion:\n",
    "from PIL import ImageColor\n",
    "# For saving and loading new tiffs:\n",
    "# import tifffile as tiff\n",
    "from osgeo import osr\n",
    "# For reading in the metadata of existing geotiff:\n",
    "from osgeo.gdalconst import GA_ReadOnly\n",
    "from osgeo import gdal\n",
    "# For speeding up colour-allocation function:\n",
    "from numba import jit\n",
    "# For conversion to cog:\n",
    "import leafmap"
   ]
  },
  {
   "cell_type": "markdown",
   "id": "62c1f0bb-e26d-48fe-be90-559dcf8fbf9f",
   "metadata": {},
   "source": [
    "### Import the raster image"
   ]
  },
  {
   "cell_type": "code",
   "execution_count": 3,
   "id": "70d689fe-b389-45f0-997d-1c123663a721",
   "metadata": {},
   "outputs": [],
   "source": [
    "in_tiff = 'LSOA_raster_test.tif'\n",
    "\n",
    "with rasterio.open(in_tiff, 'r') as f:\n",
    "    tif_array = f.read()"
   ]
  },
  {
   "cell_type": "markdown",
   "id": "968e9ab1-3537-45e4-9301-317f7423d172",
   "metadata": {},
   "source": [
    "### Import the LSOA --> OBJECTID table"
   ]
  },
  {
   "cell_type": "code",
   "execution_count": 4,
   "id": "7bf7af02-07e7-4f48-9277-51a3c343ebe1",
   "metadata": {},
   "outputs": [
    {
     "data": {
      "text/html": [
       "<div>\n",
       "<style scoped>\n",
       "    .dataframe tbody tr th:only-of-type {\n",
       "        vertical-align: middle;\n",
       "    }\n",
       "\n",
       "    .dataframe tbody tr th {\n",
       "        vertical-align: top;\n",
       "    }\n",
       "\n",
       "    .dataframe thead th {\n",
       "        text-align: right;\n",
       "    }\n",
       "</style>\n",
       "<table border=\"1\" class=\"dataframe\">\n",
       "  <thead>\n",
       "    <tr style=\"text-align: right;\">\n",
       "      <th></th>\n",
       "      <th>LSOA11NM</th>\n",
       "      <th>LSOA11CD</th>\n",
       "      <th>OBJECTID</th>\n",
       "    </tr>\n",
       "  </thead>\n",
       "  <tbody>\n",
       "    <tr>\n",
       "      <th>0</th>\n",
       "      <td>City of London 001A</td>\n",
       "      <td>E01000001</td>\n",
       "      <td>1</td>\n",
       "    </tr>\n",
       "    <tr>\n",
       "      <th>1</th>\n",
       "      <td>City of London 001B</td>\n",
       "      <td>E01000002</td>\n",
       "      <td>2</td>\n",
       "    </tr>\n",
       "    <tr>\n",
       "      <th>2</th>\n",
       "      <td>City of London 001C</td>\n",
       "      <td>E01000003</td>\n",
       "      <td>3</td>\n",
       "    </tr>\n",
       "    <tr>\n",
       "      <th>3</th>\n",
       "      <td>City of London 001E</td>\n",
       "      <td>E01000005</td>\n",
       "      <td>4</td>\n",
       "    </tr>\n",
       "    <tr>\n",
       "      <th>4</th>\n",
       "      <td>Barking and Dagenham 016A</td>\n",
       "      <td>E01000006</td>\n",
       "      <td>5</td>\n",
       "    </tr>\n",
       "  </tbody>\n",
       "</table>\n",
       "</div>"
      ],
      "text/plain": [
       "                    LSOA11NM   LSOA11CD  OBJECTID\n",
       "0        City of London 001A  E01000001         1\n",
       "1        City of London 001B  E01000002         2\n",
       "2        City of London 001C  E01000003         3\n",
       "3        City of London 001E  E01000005         4\n",
       "4  Barking and Dagenham 016A  E01000006         5"
      ]
     },
     "execution_count": 4,
     "metadata": {},
     "output_type": "execute_result"
    }
   ],
   "source": [
    "df_objectids = pd.read_csv('./lsoa_objectids.csv')\n",
    "\n",
    "df_objectids.head()"
   ]
  },
  {
   "cell_type": "markdown",
   "id": "6e7417c6-ec8e-4921-a436-cb25ed2f53ea",
   "metadata": {},
   "source": [
    "### Import the outcome values"
   ]
  },
  {
   "cell_type": "code",
   "execution_count": 5,
   "id": "eb3e758f-007e-4759-98d8-6f81cad9bb3e",
   "metadata": {},
   "outputs": [
    {
     "data": {
      "text/html": [
       "<div>\n",
       "<style scoped>\n",
       "    .dataframe tbody tr th:only-of-type {\n",
       "        vertical-align: middle;\n",
       "    }\n",
       "\n",
       "    .dataframe tbody tr th {\n",
       "        vertical-align: top;\n",
       "    }\n",
       "\n",
       "    .dataframe thead th {\n",
       "        text-align: right;\n",
       "    }\n",
       "</style>\n",
       "<table border=\"1\" class=\"dataframe\">\n",
       "  <thead>\n",
       "    <tr style=\"text-align: right;\">\n",
       "      <th></th>\n",
       "      <th>0</th>\n",
       "      <th>1</th>\n",
       "      <th>2</th>\n",
       "    </tr>\n",
       "  </thead>\n",
       "  <tbody>\n",
       "    <tr>\n",
       "      <th>lsoa</th>\n",
       "      <td>Adur 001A</td>\n",
       "      <td>Adur 001B</td>\n",
       "      <td>Adur 001C</td>\n",
       "    </tr>\n",
       "    <tr>\n",
       "      <th>closest_ivt_unit</th>\n",
       "      <td>BN25BE</td>\n",
       "      <td>BN25BE</td>\n",
       "      <td>BN112DH</td>\n",
       "    </tr>\n",
       "    <tr>\n",
       "      <th>closest_ivt_time</th>\n",
       "      <td>17.6</td>\n",
       "      <td>18.7</td>\n",
       "      <td>17.6</td>\n",
       "    </tr>\n",
       "    <tr>\n",
       "      <th>closest_mt_unit</th>\n",
       "      <td>BN25BE</td>\n",
       "      <td>BN25BE</td>\n",
       "      <td>BN25BE</td>\n",
       "    </tr>\n",
       "    <tr>\n",
       "      <th>closest_mt_time</th>\n",
       "      <td>17.6</td>\n",
       "      <td>18.7</td>\n",
       "      <td>19.8</td>\n",
       "    </tr>\n",
       "    <tr>\n",
       "      <th>...</th>\n",
       "      <td>...</td>\n",
       "      <td>...</td>\n",
       "      <td>...</td>\n",
       "    </tr>\n",
       "    <tr>\n",
       "      <th>mothership_nlvo_ivt_mean_shift</th>\n",
       "      <td>-0.56</td>\n",
       "      <td>-0.56</td>\n",
       "      <td>-0.56</td>\n",
       "    </tr>\n",
       "    <tr>\n",
       "      <th>mothership_lvo_ivt_improved</th>\n",
       "      <td>0.17</td>\n",
       "      <td>0.17</td>\n",
       "      <td>0.16</td>\n",
       "    </tr>\n",
       "    <tr>\n",
       "      <th>mothership_lvo_mt_improved</th>\n",
       "      <td>0.75</td>\n",
       "      <td>0.75</td>\n",
       "      <td>0.75</td>\n",
       "    </tr>\n",
       "    <tr>\n",
       "      <th>mothership_nlvo_ivt_improved</th>\n",
       "      <td>0.56</td>\n",
       "      <td>0.56</td>\n",
       "      <td>0.56</td>\n",
       "    </tr>\n",
       "    <tr>\n",
       "      <th>LSOA_predicted_admissions</th>\n",
       "      <td>2.436347</td>\n",
       "      <td>2.436347</td>\n",
       "      <td>2.436347</td>\n",
       "    </tr>\n",
       "  </tbody>\n",
       "</table>\n",
       "<p>89 rows × 3 columns</p>\n",
       "</div>"
      ],
      "text/plain": [
       "                                        0          1          2\n",
       "lsoa                            Adur 001A  Adur 001B  Adur 001C\n",
       "closest_ivt_unit                   BN25BE     BN25BE    BN112DH\n",
       "closest_ivt_time                     17.6       18.7       17.6\n",
       "closest_mt_unit                    BN25BE     BN25BE     BN25BE\n",
       "closest_mt_time                      17.6       18.7       19.8\n",
       "...                                   ...        ...        ...\n",
       "mothership_nlvo_ivt_mean_shift      -0.56      -0.56      -0.56\n",
       "mothership_lvo_ivt_improved          0.17       0.17       0.16\n",
       "mothership_lvo_mt_improved           0.75       0.75       0.75\n",
       "mothership_nlvo_ivt_improved         0.56       0.56       0.56\n",
       "LSOA_predicted_admissions        2.436347   2.436347   2.436347\n",
       "\n",
       "[89 rows x 3 columns]"
      ]
     },
     "execution_count": 5,
     "metadata": {},
     "output_type": "execute_result"
    }
   ],
   "source": [
    "df_lsoa_outcomes = pd.read_csv('./lsoa_base.csv')\n",
    "\n",
    "# df_lsoa_outcomes.head()\n",
    "df_lsoa_outcomes.head(3).T  "
   ]
  },
  {
   "cell_type": "markdown",
   "id": "393ba9b9-0341-4f32-a22b-d9212dbdc8d9",
   "metadata": {},
   "source": [
    "The following columns are in the dataframe:\n",
    "\n",
    "+ lsoa\n",
    "+ closest_(ivt/mt)_unit\n",
    "+ closest_(ivt/ivt)_time\n",
    "+ transfer_mt_unit\n",
    "+ transfer_mt_time\n",
    "+ mt_transfer_required\n",
    "+ msu_unit\n",
    "+ msu_time\n",
    "+ (ivt/mt)_drip_ship\n",
    "+ (ivt/mt)_mothership\n",
    "\n",
    "The following can begin with either drip_ship_(lvo/nlvo)_ or mothership_(lvo/nlvo)_:\n",
    "\n",
    "+ (untreated/ivt/mt)_probs\n",
    "+ (untreated/ivt/mt)_mean_utility       \n",
    "+ (ivt/mt)_added_utility\n",
    "+ (untreated/ivt/mt)_cum_probs\n",
    "+ (untreated/ivt/mt)_mrs<=2\n",
    "+ (ivt/mt)_shift\n",
    "+ (untreated/ivt/mt)_mean_mRS\n",
    "+ (ivt/mt)_mean_shift\n",
    "+ (ivt/mt)_improved\n"
   ]
  },
  {
   "cell_type": "markdown",
   "id": "94871dea-56b1-4da5-a178-42e3f0a1b295",
   "metadata": {},
   "source": [
    "# Example: mapping LSOA names to raster"
   ]
  },
  {
   "cell_type": "markdown",
   "id": "71365f96-3d3e-42a9-b221-c4f0c8595efd",
   "metadata": {},
   "source": [
    "We'll map the Isles of Scilly because their outline is distinctive."
   ]
  },
  {
   "cell_type": "code",
   "execution_count": 5,
   "id": "e9cbce56-b1a9-4716-ad5d-20e59ceb2e57",
   "metadata": {},
   "outputs": [
    {
     "data": {
      "text/html": [
       "<div>\n",
       "<style scoped>\n",
       "    .dataframe tbody tr th:only-of-type {\n",
       "        vertical-align: middle;\n",
       "    }\n",
       "\n",
       "    .dataframe tbody tr th {\n",
       "        vertical-align: top;\n",
       "    }\n",
       "\n",
       "    .dataframe thead th {\n",
       "        text-align: right;\n",
       "    }\n",
       "</style>\n",
       "<table border=\"1\" class=\"dataframe\">\n",
       "  <thead>\n",
       "    <tr style=\"text-align: right;\">\n",
       "      <th></th>\n",
       "      <th>LSOA11NM</th>\n",
       "      <th>LSOA11CD</th>\n",
       "      <th>OBJECTID</th>\n",
       "    </tr>\n",
       "  </thead>\n",
       "  <tbody>\n",
       "    <tr>\n",
       "      <th>18535</th>\n",
       "      <td>Isles of Scilly 001A</td>\n",
       "      <td>E01019077</td>\n",
       "      <td>18536</td>\n",
       "    </tr>\n",
       "  </tbody>\n",
       "</table>\n",
       "</div>"
      ],
      "text/plain": [
       "                   LSOA11NM   LSOA11CD  OBJECTID\n",
       "18535  Isles of Scilly 001A  E01019077     18536"
      ]
     },
     "execution_count": 5,
     "metadata": {},
     "output_type": "execute_result"
    }
   ],
   "source": [
    "df_objectids[df_objectids['LSOA11NM'].str.contains('Scilly')]"
   ]
  },
  {
   "cell_type": "markdown",
   "id": "e1fa01e2-598c-4c4e-828c-c29f72ef1270",
   "metadata": {},
   "source": [
    "The Isles of Scilly have OBJECTID 18536. Pull out the values containing it:"
   ]
  },
  {
   "cell_type": "code",
   "execution_count": 6,
   "id": "c1d114b6-ef1d-4519-8d0c-5208ea1bdadb",
   "metadata": {},
   "outputs": [],
   "source": [
    "inds_IOS = np.where(tif_array[0] == 18536)\n",
    "\n",
    "grid_IOS = tif_array[0][\n",
    "    min(inds_IOS[0]):max(inds_IOS[0]),\n",
    "    min(inds_IOS[1]):max(inds_IOS[1])\n",
    "]"
   ]
  },
  {
   "cell_type": "code",
   "execution_count": 7,
   "id": "4d0332d6-a877-41e1-9906-1c29ad9943a4",
   "metadata": {},
   "outputs": [
    {
     "data": {
      "image/png": "[encoded data removed]",
      "text/plain": [
       "<Figure size 640x480 with 2 Axes>"
      ]
     },
     "metadata": {},
     "output_type": "display_data"
    }
   ],
   "source": [
    "plt.imshow(grid_IOS, cmap='viridis', interpolation='none')\n",
    "plt.colorbar(label='OBJECTID')\n",
    "plt.xlabel('Pixels')\n",
    "plt.ylabel('Pixels')\n",
    "plt.title('Isles of Scilly')\n",
    "plt.show()"
   ]
  },
  {
   "cell_type": "markdown",
   "id": "61f79572-0dff-4144-8d30-058c9e5c877b",
   "metadata": {},
   "source": [
    "Now we can create an image of this where the sea is transparent and Scilly is lime green."
   ]
  },
  {
   "cell_type": "code",
   "execution_count": 8,
   "id": "9c66e350-b0d2-413e-be88-be4382d23209",
   "metadata": {},
   "outputs": [
    {
     "data": {
      "text/plain": [
       "(50, 205, 50)"
      ]
     },
     "execution_count": 8,
     "metadata": {},
     "output_type": "execute_result"
    }
   ],
   "source": [
    "# 'LimeGreen' = '#32cd32' and either works in the following lines.\n",
    "colour_IOS_string = '#32cd32' \n",
    "colour_IOS_rgb = ImageColor.getcolor(colour_IOS_string, 'RGB')\n",
    "\n",
    "colour_IOS_rgb"
   ]
  },
  {
   "cell_type": "code",
   "execution_count": 9,
   "id": "23d3785a-5b3a-4c90-bfc6-cf17fdba2d19",
   "metadata": {},
   "outputs": [],
   "source": [
    "# Add an alpha channel.\n",
    "# Because the other values are 0-255 integer RGB, we have alpha=0 for transparent\n",
    "# and alpha=255 for opaque.\n",
    "# When using 0.0-1.0 float RGB, use alpha 0.0 for transparent and 1.0 for opaque.\n",
    "colour_IOS_rgba = (colour_IOS_rgb[0], colour_IOS_rgb[1], colour_IOS_rgb[2], 255)"
   ]
  },
  {
   "cell_type": "markdown",
   "id": "524643a3-e8c7-4f24-a8fd-96e97186da30",
   "metadata": {},
   "source": [
    "Make a set of 4 x 2D grids for the colour channels."
   ]
  },
  {
   "cell_type": "code",
   "execution_count": 10,
   "id": "72145973-7317-48c3-b3af-9b5f51dad94f",
   "metadata": {},
   "outputs": [
    {
     "data": {
      "text/plain": [
       "(65, 33, 4)"
      ]
     },
     "execution_count": 10,
     "metadata": {},
     "output_type": "execute_result"
    }
   ],
   "source": [
    "raster_IOS = np.full((*grid_IOS.shape, 4), 0)\n",
    "\n",
    "raster_IOS.shape"
   ]
  },
  {
   "cell_type": "markdown",
   "id": "e44167c5-15d7-43d4-adf5-f7fa5763ceea",
   "metadata": {},
   "source": [
    "Find the coordinates containing Scilly:"
   ]
  },
  {
   "cell_type": "code",
   "execution_count": 11,
   "id": "65fe95a3-1582-4e30-a777-a89c7d92b5b5",
   "metadata": {},
   "outputs": [],
   "source": [
    "inds_IOS = np.where(grid_IOS > 0)"
   ]
  },
  {
   "cell_type": "markdown",
   "id": "6ef91172-7e44-4c92-a2f8-ab21b604cba5",
   "metadata": {},
   "source": [
    "Update those coordinates with the LimeGreen value:"
   ]
  },
  {
   "cell_type": "code",
   "execution_count": 12,
   "id": "e16941f8-e1a0-4ec7-9809-4ec3749055d6",
   "metadata": {},
   "outputs": [],
   "source": [
    "raster_IOS[inds_IOS[0], inds_IOS[1], :] = colour_IOS_rgba"
   ]
  },
  {
   "cell_type": "markdown",
   "id": "7c89e588-dd97-4156-97c0-685bf598b3b2",
   "metadata": {},
   "source": [
    "Example of one of the rows of data in the blue (band 2) grid:"
   ]
  },
  {
   "cell_type": "code",
   "execution_count": 13,
   "id": "c0bf342d-172b-4ddf-b4c3-e63ac577e362",
   "metadata": {},
   "outputs": [
    {
     "data": {
      "text/plain": [
       "array([ 0,  0,  0,  0,  0,  0,  0,  0,  0,  0,  0,  0,  0,  0,  0,  0,  0,\n",
       "        0,  0,  0,  0,  0,  0,  0, 50, 50,  0,  0,  0,  0,  0,  0,  0])"
      ]
     },
     "execution_count": 13,
     "metadata": {},
     "output_type": "execute_result"
    }
   ],
   "source": [
    "raster_IOS[:, :, 2][1]"
   ]
  },
  {
   "cell_type": "markdown",
   "id": "84e875f4-b14e-4d86-a4ce-aeef7452709f",
   "metadata": {},
   "source": [
    "Draw the image using imshow:"
   ]
  },
  {
   "cell_type": "code",
   "execution_count": 14,
   "id": "ac957a3b-1bee-42e8-abde-328d0d8dedff",
   "metadata": {},
   "outputs": [
    {
     "data": {
      "image/png": "[encoded data removed]",
      "text/plain": [
       "<Figure size 640x480 with 1 Axes>"
      ]
     },
     "metadata": {},
     "output_type": "display_data"
    }
   ],
   "source": [
    "plt.imshow(raster_IOS, interpolation='None')\n",
    "plt.xlabel('Pixels')\n",
    "plt.ylabel('Pixels')\n",
    "plt.title('Isles of Scilly')\n",
    "plt.show()"
   ]
  },
  {
   "cell_type": "markdown",
   "id": "db4bf6ef-63dc-470b-8fbb-c3e3b8cc8d2c",
   "metadata": {},
   "source": [
    "In this way we can map any colour we like to any area we like."
   ]
  },
  {
   "cell_type": "markdown",
   "id": "b657faee-703d-48c0-9764-07b43e4fca7b",
   "metadata": {},
   "source": [
    "# Example: Choosing colour boundaries from a colourmap"
   ]
  },
  {
   "cell_type": "markdown",
   "id": "2b11a5a5-4825-4b21-bf05-19b4b4efbe8a",
   "metadata": {},
   "source": [
    "This section shows how to get just a few colours from a colourmap, but of course we could use a continuous scale.\n",
    "\n",
    "Setup: which colour map to use, the range of outcomes we're mapping, and how many colours to use."
   ]
  },
  {
   "cell_type": "code",
   "execution_count": 15,
   "id": "a5d00f4d-c6ef-4984-9507-5c8c288d1b01",
   "metadata": {},
   "outputs": [],
   "source": [
    "cmap = 'inferno'\n",
    "\n",
    "# These outcomes are selected at random:\n",
    "outcome_min = 0.0\n",
    "outcome_max = 2.4\n",
    "n_colours = 6\n",
    "\n",
    "outcome_bounds = np.linspace(outcome_min, outcome_max, n_colours + 1)\n",
    "colour_bounds = np.linspace(0, 1, n_colours)"
   ]
  },
  {
   "cell_type": "markdown",
   "id": "5f737643-a1b0-49fb-aac0-cd91bf1acce0",
   "metadata": {},
   "source": [
    "Get RGBA colours from the colour map:"
   ]
  },
  {
   "cell_type": "code",
   "execution_count": 16,
   "id": "e5f72f1a-d979-4e89-970e-5539c45363ee",
   "metadata": {},
   "outputs": [
    {
     "data": {
      "text/plain": [
       "array([[1.46200e-03, 4.66000e-04, 1.38660e-02, 1.00000e+00],\n",
       "       [2.58234e-01, 3.85710e-02, 4.06485e-01, 1.00000e+00],\n",
       "       [5.78304e-01, 1.48039e-01, 4.04411e-01, 1.00000e+00],\n",
       "       [8.65006e-01, 3.16822e-01, 2.26055e-01, 1.00000e+00],\n",
       "       [9.87622e-01, 6.45320e-01, 3.98860e-02, 1.00000e+00],\n",
       "       [9.88362e-01, 9.98364e-01, 6.44924e-01, 1.00000e+00]])"
      ]
     },
     "execution_count": 16,
     "metadata": {},
     "output_type": "execute_result"
    }
   ],
   "source": [
    "colours = plt.get_cmap(cmap)(colour_bounds)\n",
    "\n",
    "colours"
   ]
  },
  {
   "cell_type": "markdown",
   "id": "871b94d2-b7f7-41b9-965b-8718a4e7db78",
   "metadata": {},
   "source": [
    "Reshape to an NxMx4 array for plotting the colours in a column with imshow():"
   ]
  },
  {
   "cell_type": "code",
   "execution_count": 17,
   "id": "fc1c57be-1e37-4090-bc87-69abfad05dd0",
   "metadata": {},
   "outputs": [
    {
     "name": "stdout",
     "output_type": "stream",
     "text": [
      "(6, 1, 4)\n"
     ]
    },
    {
     "data": {
      "text/plain": [
       "array([[[1.46200e-03, 4.66000e-04, 1.38660e-02, 1.00000e+00]],\n",
       "\n",
       "       [[2.58234e-01, 3.85710e-02, 4.06485e-01, 1.00000e+00]],\n",
       "\n",
       "       [[5.78304e-01, 1.48039e-01, 4.04411e-01, 1.00000e+00]],\n",
       "\n",
       "       [[8.65006e-01, 3.16822e-01, 2.26055e-01, 1.00000e+00]],\n",
       "\n",
       "       [[9.87622e-01, 6.45320e-01, 3.98860e-02, 1.00000e+00]],\n",
       "\n",
       "       [[9.88362e-01, 9.98364e-01, 6.44924e-01, 1.00000e+00]]])"
      ]
     },
     "execution_count": 17,
     "metadata": {},
     "output_type": "execute_result"
    }
   ],
   "source": [
    "colours_rgba = colours.reshape(n_colours, 1, 4)\n",
    "\n",
    "print(colours_rgba.shape)\n",
    "\n",
    "colours_rgba"
   ]
  },
  {
   "cell_type": "markdown",
   "id": "dde777ba-b137-49a3-bd6d-a9fc496aaeac",
   "metadata": {},
   "source": [
    "Draw the colours with the range in outcomes of each:"
   ]
  },
  {
   "cell_type": "code",
   "execution_count": 18,
   "id": "748caf9e-85d5-4133-b718-0e178806be78",
   "metadata": {},
   "outputs": [
    {
     "data": {
      "image/png": "[encoded data removed]",
      "text/plain": [
       "<Figure size 640x480 with 1 Axes>"
      ]
     },
     "metadata": {},
     "output_type": "display_data"
    }
   ],
   "source": [
    "fig, ax = plt.subplots() \n",
    "\n",
    "# Draw the colours we've just defined:\n",
    "ax.imshow(colours_rgba, origin='lower')\n",
    "\n",
    "# Next to each colour, annotate the range in outcomes it represents:\n",
    "for c, colour in enumerate(colours):\n",
    "    bound_lower = outcome_bounds[c]\n",
    "    bound_higher = outcome_bounds[c+1]\n",
    "    ax.annotate(\n",
    "        f'{bound_lower:.3f} to {bound_higher:.3f}',\n",
    "        xy=(1, c),\n",
    "        va='center'  # vertical alignment\n",
    "    )\n",
    "    \n",
    "ax.set_title('Range in outcomes for each colour')\n",
    "# Increase extent to make room for labels:\n",
    "ax.set_xlim(-0.5, 5)\n",
    "\n",
    "plt.show()"
   ]
  },
  {
   "cell_type": "markdown",
   "id": "c323700c-8732-4ed0-8e21-cf8b4bce1973",
   "metadata": {},
   "source": [
    "# UK-wide image: Map outcome values to colours"
   ]
  },
  {
   "cell_type": "markdown",
   "id": "a012779a-514e-4f54-965e-9125d0dda62e",
   "metadata": {},
   "source": [
    "We'll map colours to the data in this column:"
   ]
  },
  {
   "cell_type": "code",
   "execution_count": 86,
   "id": "e4540994-c9a4-4c23-b605-272caddd9b81",
   "metadata": {},
   "outputs": [],
   "source": [
    "occlusion_treatment = 'nlvo_ivt' # 'lvo_mt' or 'nlvo_ivt'"
   ]
  },
  {
   "cell_type": "code",
   "execution_count": 31,
   "id": "ea2bf844-7870-46b3-86d3-3274f4ce770c",
   "metadata": {},
   "outputs": [],
   "source": [
    "data_field = 'added_utility'\n",
    "outcome_min = 0.0261\n",
    "outcome_max = 0.1759\n",
    "diff_min = -0.09620000000000009\n",
    "diff_max = 0.09620000000000009\n",
    "\n",
    "outcome_cmap = 'inferno'\n",
    "diff_cmap = 'bwr_r'"
   ]
  },
  {
   "cell_type": "code",
   "execution_count": 321,
   "id": "abb3edcf-231a-4056-9de1-c74ae0d35bc8",
   "metadata": {},
   "outputs": [],
   "source": [
    "data_field = 'mean_shift'\n",
    "outcome_min = -0.89\n",
    "outcome_max = -0.1\n",
    "diff_min = -0.51\n",
    "diff_max = 0.51\n",
    "\n",
    "outcome_cmap = 'inferno_r'\n",
    "diff_cmap = 'bwr'"
   ]
  },
  {
   "cell_type": "code",
   "execution_count": 373,
   "id": "01bb2938-b24d-470e-9c4d-fdb30bc2f5f4",
   "metadata": {},
   "outputs": [],
   "source": [
    "data_field = 'mrs<=2'\n",
    "outcome_min = 0.29\n",
    "outcome_max = 0.7\n",
    "diff_min = -0.10000000000000003\n",
    "diff_max = 0.10000000000000003\n",
    "\n",
    "outcome_cmap = 'inferno'\n",
    "diff_cmap = 'bwr_r'"
   ]
  },
  {
   "cell_type": "code",
   "execution_count": 87,
   "id": "d8244203-ece0-418c-be9f-bc8dbac92849",
   "metadata": {},
   "outputs": [],
   "source": [
    "# Make new column for the difference between mothership and drip and ship:\n",
    "df_lsoa_outcomes[f'mothership_minus_dripship_{occlusion_treatment}_{data_field}'] = \\\n",
    "    df_lsoa_outcomes[f'mothership_{occlusion_treatment}_{data_field}'] - df_lsoa_outcomes[f'drip_ship_{occlusion_treatment}_{data_field}']"
   ]
  },
  {
   "cell_type": "code",
   "execution_count": 88,
   "id": "5ea2f90c-f59a-487e-a860-7680fb5fa1ca",
   "metadata": {},
   "outputs": [],
   "source": [
    "outcome_column = f'drip_ship_{occlusion_treatment}_{data_field}'\n",
    "vmin = outcome_min\n",
    "vmax = outcome_max\n",
    "cmap = outcome_cmap"
   ]
  },
  {
   "cell_type": "code",
   "execution_count": 105,
   "id": "4daeb210-ffa7-439e-a493-32c6ae3fe727",
   "metadata": {},
   "outputs": [],
   "source": [
    "outcome_column = f'mothership_{occlusion_treatment}_{data_field}'\n",
    "vmin = outcome_min\n",
    "vmax = outcome_max\n",
    "cmap = outcome_cmap"
   ]
  },
  {
   "cell_type": "code",
   "execution_count": 35,
   "id": "ff8dc15f-1c4d-41d7-a0c4-fc969c22866d",
   "metadata": {},
   "outputs": [],
   "source": [
    "outcome_column = f'mothership_minus_dripship_{occlusion_treatment}_{data_field}'\n",
    "vmin = diff_min\n",
    "vmax = diff_max\n",
    "cmap = diff_cmap"
   ]
  },
  {
   "cell_type": "code",
   "execution_count": 106,
   "id": "93368876-5c1a-4e56-a4b2-fa12c639e4e5",
   "metadata": {},
   "outputs": [],
   "source": [
    "n_colours = 256\n",
    "\n",
    "alpha = 1.0  # 0.6"
   ]
  },
  {
   "cell_type": "markdown",
   "id": "a9cf42bd-17a5-4aa8-b87d-d5c4f179b45b",
   "metadata": {},
   "source": [
    "Gather a smaller dataframe of just the bits we need:"
   ]
  },
  {
   "cell_type": "code",
   "execution_count": 107,
   "id": "5007c010-9cb4-4ab7-b5ea-fc1ba22a46fb",
   "metadata": {},
   "outputs": [],
   "source": [
    "df_objectids.rename(columns={'LSOA11NM': 'lsoa'}, inplace=True)"
   ]
  },
  {
   "cell_type": "code",
   "execution_count": 108,
   "id": "f1421391-8836-4c50-82e7-c3169aa365ad",
   "metadata": {},
   "outputs": [
    {
     "data": {
      "text/html": [
       "<div>\n",
       "<style scoped>\n",
       "    .dataframe tbody tr th:only-of-type {\n",
       "        vertical-align: middle;\n",
       "    }\n",
       "\n",
       "    .dataframe tbody tr th {\n",
       "        vertical-align: top;\n",
       "    }\n",
       "\n",
       "    .dataframe thead th {\n",
       "        text-align: right;\n",
       "    }\n",
       "</style>\n",
       "<table border=\"1\" class=\"dataframe\">\n",
       "  <thead>\n",
       "    <tr style=\"text-align: right;\">\n",
       "      <th></th>\n",
       "      <th>lsoa</th>\n",
       "      <th>mothership_nlvo_ivt_added_utility</th>\n",
       "      <th>OBJECTID</th>\n",
       "    </tr>\n",
       "  </thead>\n",
       "  <tbody>\n",
       "    <tr>\n",
       "      <th>0</th>\n",
       "      <td>Adur 001A</td>\n",
       "      <td>0.1000</td>\n",
       "      <td>30557</td>\n",
       "    </tr>\n",
       "    <tr>\n",
       "      <th>1</th>\n",
       "      <td>Adur 001B</td>\n",
       "      <td>0.1000</td>\n",
       "      <td>30558</td>\n",
       "    </tr>\n",
       "    <tr>\n",
       "      <th>2</th>\n",
       "      <td>Adur 001C</td>\n",
       "      <td>0.1000</td>\n",
       "      <td>30559</td>\n",
       "    </tr>\n",
       "    <tr>\n",
       "      <th>3</th>\n",
       "      <td>Adur 001D</td>\n",
       "      <td>0.1000</td>\n",
       "      <td>30560</td>\n",
       "    </tr>\n",
       "    <tr>\n",
       "      <th>4</th>\n",
       "      <td>Adur 001E</td>\n",
       "      <td>0.1000</td>\n",
       "      <td>30578</td>\n",
       "    </tr>\n",
       "    <tr>\n",
       "      <th>...</th>\n",
       "      <td>...</td>\n",
       "      <td>...</td>\n",
       "      <td>...</td>\n",
       "    </tr>\n",
       "    <tr>\n",
       "      <th>34747</th>\n",
       "      <td>York 024B</td>\n",
       "      <td>0.0923</td>\n",
       "      <td>12939</td>\n",
       "    </tr>\n",
       "    <tr>\n",
       "      <th>34748</th>\n",
       "      <td>York 024C</td>\n",
       "      <td>0.0923</td>\n",
       "      <td>12940</td>\n",
       "    </tr>\n",
       "    <tr>\n",
       "      <th>34749</th>\n",
       "      <td>York 024D</td>\n",
       "      <td>0.0923</td>\n",
       "      <td>13019</td>\n",
       "    </tr>\n",
       "    <tr>\n",
       "      <th>34750</th>\n",
       "      <td>York 024E</td>\n",
       "      <td>0.0923</td>\n",
       "      <td>13020</td>\n",
       "    </tr>\n",
       "    <tr>\n",
       "      <th>34751</th>\n",
       "      <td>York 024F</td>\n",
       "      <td>0.0923</td>\n",
       "      <td>13021</td>\n",
       "    </tr>\n",
       "  </tbody>\n",
       "</table>\n",
       "<p>34752 rows × 3 columns</p>\n",
       "</div>"
      ],
      "text/plain": [
       "            lsoa  mothership_nlvo_ivt_added_utility  OBJECTID\n",
       "0      Adur 001A                             0.1000     30557\n",
       "1      Adur 001B                             0.1000     30558\n",
       "2      Adur 001C                             0.1000     30559\n",
       "3      Adur 001D                             0.1000     30560\n",
       "4      Adur 001E                             0.1000     30578\n",
       "...          ...                                ...       ...\n",
       "34747  York 024B                             0.0923     12939\n",
       "34748  York 024C                             0.0923     12940\n",
       "34749  York 024D                             0.0923     13019\n",
       "34750  York 024E                             0.0923     13020\n",
       "34751  York 024F                             0.0923     13021\n",
       "\n",
       "[34752 rows x 3 columns]"
      ]
     },
     "execution_count": 108,
     "metadata": {},
     "output_type": "execute_result"
    }
   ],
   "source": [
    "df_outcome_ids = pd.merge(\n",
    "    df_lsoa_outcomes[['lsoa', outcome_column]],\n",
    "    df_objectids[['lsoa', 'OBJECTID']],\n",
    "    on='lsoa',\n",
    "    how='left'\n",
    ")\n",
    "\n",
    "df_outcome_ids"
   ]
  },
  {
   "cell_type": "markdown",
   "id": "1880fb0b-ee4d-48b1-afb2-151202e2a623",
   "metadata": {},
   "source": [
    "... and then make separate lists of the columns because `numba` seems to struggle with multi-dimensional indexing."
   ]
  },
  {
   "cell_type": "code",
   "execution_count": 109,
   "id": "b53112cc-a7b3-4557-b75e-119b04d50b7d",
   "metadata": {},
   "outputs": [],
   "source": [
    "LSOA_names_from_df = np.array(df_outcome_ids.to_numpy()[:, 0], dtype=str)\n",
    "outcome_values_from_df = np.array(df_outcome_ids.to_numpy()[:, 1], dtype=float)\n",
    "object_id_from_df = np.array(df_outcome_ids.to_numpy()[:, 2], dtype=int)"
   ]
  },
  {
   "cell_type": "markdown",
   "id": "f5858875-503c-44fb-a2ab-56460e1bca67",
   "metadata": {},
   "source": [
    "Set up the colours:"
   ]
  },
  {
   "cell_type": "code",
   "execution_count": 110,
   "id": "e66f7424-6e44-4c6f-a442-d8929de10700",
   "metadata": {},
   "outputs": [],
   "source": [
    "outcome_bounds = np.linspace(vmin, vmax, n_colours + 1)\n",
    "colour_bounds = np.linspace(0, 1, n_colours)\n",
    "\n",
    "# Get RGBA colours:\n",
    "colours = plt.get_cmap(cmap)(colour_bounds)\n",
    "# Set all alpha values:\n",
    "colours[:, 3] = alpha"
   ]
  },
  {
   "cell_type": "markdown",
   "id": "81390fa8-ec42-4b5b-8f9c-dc970e43dd42",
   "metadata": {},
   "source": [
    "Define a function for mapping colours to the LSOAs. The output is an array of size NxMx4 where the x4 gives one grid each for red / green / blue / alpha channels.\n",
    "\n",
    "The `@jit(nopython=True)` above the function name means that it is compiled using `numba`. This speeds up the time it takes to go round all the `for` loops, but with 35,000 LSOAs and a large input array it can still take several minutes to run."
   ]
  },
  {
   "cell_type": "code",
   "execution_count": 111,
   "id": "72886233-72f4-4854-b290-70b099cf8d73",
   "metadata": {},
   "outputs": [],
   "source": [
    "@jit(nopython=True)\n",
    "def update_colours(\n",
    "        tif_array,\n",
    "        colours,\n",
    "        outcome_bounds, \n",
    "        LSOA_names_from_df,\n",
    "        outcome_values_from_df,\n",
    "        object_id_from_df\n",
    "        ):\n",
    "    \"\"\"\n",
    "    Runs 35,000 LSOAs in a 3600x7200 pixel array in 8 minutes.\n",
    "    \"\"\"\n",
    "    # Create a new array that we'll plug the colours into.\n",
    "    # 4 bands, one for each of red / green / blue / alpha.\n",
    "    tif_array_colours = np.full((*tif_array[0].shape, 4), 0.0, dtype=np.float64)\n",
    "\n",
    "    for i, lsoa in enumerate(LSOA_names_from_df):\n",
    "        outcome_here = outcome_values_from_df[i]\n",
    "        objectid_here = object_id_from_df[i]\n",
    "\n",
    "        # Find where this outcome would sit in the list of colour boundaries:\n",
    "        ind_outcome = np.searchsorted(outcome_bounds, outcome_here)\n",
    "        if ind_outcome > 0:\n",
    "            ind_outcome -= 1\n",
    "        colour = colours[ind_outcome]\n",
    "\n",
    "        # Find where these OBJECTIDs are in the original array.\n",
    "        # (this line is particularly slow with big arrays)\n",
    "        inds_here = np.where(tif_array[0] == objectid_here)\n",
    "\n",
    "        if len(inds_here[0]) > 0:\n",
    "            # I can't get numba working with direct slicing, \n",
    "            # so update each ind individually:\n",
    "            for ind, inds in enumerate(inds_here[0]):\n",
    "                tif_array_colours[ inds_here[0][ind], inds_here[1][ind], :] = colour\n",
    "\n",
    "    return tif_array_colours"
   ]
  },
  {
   "cell_type": "markdown",
   "id": "8d3ae5f2-0a02-4f5d-8a05-323cecabd7ea",
   "metadata": {},
   "source": [
    "Run the function for the selected outcome type:\n",
    "\n",
    "(this can take several minutes)"
   ]
  },
  {
   "cell_type": "code",
   "execution_count": 112,
   "id": "cb2670a5-16fe-4661-8a9d-63a0a6d60a89",
   "metadata": {
    "tags": []
   },
   "outputs": [],
   "source": [
    "tif_array_colours = update_colours(\n",
    "    tif_array,\n",
    "    colours,\n",
    "    outcome_bounds,\n",
    "    LSOA_names_from_df,\n",
    "    outcome_values_from_df,\n",
    "    object_id_from_df\n",
    ")"
   ]
  },
  {
   "cell_type": "markdown",
   "id": "118a0529-5ea4-45d9-8fe5-5e9c1b43b0db",
   "metadata": {},
   "source": [
    "Plot the result as a sanity check:"
   ]
  },
  {
   "cell_type": "code",
   "execution_count": 113,
   "id": "05dc913f-50fa-4874-a91b-3051b523300f",
   "metadata": {},
   "outputs": [
    {
     "data": {
      "image/png": "[encoded data removed]",
      "text/plain": [
       "<Figure size 640x480 with 1 Axes>"
      ]
     },
     "metadata": {},
     "output_type": "display_data"
    }
   ],
   "source": [
    "plt.imshow(tif_array_colours, interpolation='None')\n",
    "plt.xlabel('Pixels')\n",
    "plt.ylabel('Pixels')\n",
    "plt.title('Outcomes across the UK')\n",
    "plt.show()"
   ]
  },
  {
   "cell_type": "markdown",
   "id": "6642cdec-a269-4868-ac90-66bf23a6ee12",
   "metadata": {},
   "source": [
    "## Save the results as geotiff"
   ]
  },
  {
   "cell_type": "markdown",
   "id": "080fa1f9-97e1-4574-8805-6ccff55a7fb5",
   "metadata": {},
   "source": [
    "To sanity-check the expected geographic information, the existing .geotiff file can be opened in QGIS. Then in the \"Layers\" panel, right click on the layer and choose \"Properties\". This shows the coordinate bounds, EPSG coordinate projection, pixel scale etc.\n",
    "\n",
    "To save as just a .tif without any of the geographic information, can use the following:\n",
    "    \n",
    "    tiff.imwrite('LSOA_raster_colours.tif', tif_array_colours)"
   ]
  },
  {
   "cell_type": "markdown",
   "id": "d9a180cb-4a3d-4e4a-981d-7eaf61cae001",
   "metadata": {},
   "source": [
    "Pull out the coordinate transform information from the base geotiff:"
   ]
  },
  {
   "cell_type": "code",
   "execution_count": 114,
   "id": "92f7e4b3-06ba-4cdb-ac38-9284968ea264",
   "metadata": {},
   "outputs": [
    {
     "data": {
      "text/plain": [
       "(-6.41854763,\n",
       " 0.004545271743888889,\n",
       " 0.0,\n",
       " 55.811068541,\n",
       " 0.0,\n",
       " -0.001651757606111111)"
      ]
     },
     "execution_count": 114,
     "metadata": {},
     "output_type": "execute_result"
    }
   ],
   "source": [
    "# Open the file:\n",
    "data_orig = gdal.Open(in_tiff, GA_ReadOnly)\n",
    "# Pull out the info we want:\n",
    "geoTransform = data_orig.GetGeoTransform()\n",
    "# Close the file again:\n",
    "data_orig = None\n",
    "\n",
    "geoTransform"
   ]
  },
  {
   "cell_type": "markdown",
   "id": "d256b463-28a3-4df6-b00a-e6a94af585f1",
   "metadata": {},
   "source": [
    "Create the new geotiff file:"
   ]
  },
  {
   "cell_type": "code",
   "execution_count": 115,
   "id": "abea62cb-ca6a-4609-ab6c-8d3ac63f2620",
   "metadata": {},
   "outputs": [],
   "source": [
    "outcome_column_save_name = outcome_column.replace('_', '~')"
   ]
  },
  {
   "cell_type": "code",
   "execution_count": 116,
   "id": "d6604884-98d8-47c5-8b22-09f06043dcb4",
   "metadata": {},
   "outputs": [
    {
     "data": {
      "text/plain": [
       "'LSOA_mothership~nlvo~ivt~added~utility_raster.tif'"
      ]
     },
     "execution_count": 116,
     "metadata": {},
     "output_type": "execute_result"
    }
   ],
   "source": [
    "out_tiff = f'LSOA_{outcome_column_save_name}_raster.tif'\n",
    "\n",
    "out_tiff"
   ]
  },
  {
   "cell_type": "code",
   "execution_count": 117,
   "id": "eb4a354b-2c4f-48db-851f-b1a3872bc511",
   "metadata": {},
   "outputs": [],
   "source": [
    "# Following steps in this stackoverflow link:\n",
    "# https://stackoverflow.com/questions/33537599/how-do-i-write-create-a-geotiff-rgb-image-file-in-python/33950009#33950009\n",
    "\n",
    "# Create the file:\n",
    "dst_ds = gdal.GetDriverByName('GTiff').Create(\n",
    "    out_tiff, # Output file name\n",
    "    tif_array_colours.shape[1],     # Number of pixels in y\n",
    "    tif_array_colours.shape[0],     # Number of pixels in x\n",
    "    4,                              # Number of bands\n",
    "    gdal.GDT_Float32                # Data type\n",
    ")\n",
    "\n",
    "# Set up coordinate metadata:\n",
    "dst_ds.SetGeoTransform(geoTransform)    # specify coords\n",
    "srs = osr.SpatialReference()            # establish encoding\n",
    "srs.ImportFromEPSG(4326)                # WGS84 lat/long\n",
    "dst_ds.SetProjection(srs.ExportToWkt()) # export coords to file\n",
    "\n",
    "# Update with the colour data:\n",
    "dst_ds.GetRasterBand(1).WriteArray(tif_array_colours[:, :, 0])  # red\n",
    "dst_ds.GetRasterBand(2).WriteArray(tif_array_colours[:, :, 1])  # green\n",
    "dst_ds.GetRasterBand(3).WriteArray(tif_array_colours[:, :, 2])  # blue\n",
    "dst_ds.GetRasterBand(4).WriteArray(tif_array_colours[:, :, 3])  # alpha\n",
    "\n",
    "# Write the file and close it:\n",
    "dst_ds.FlushCache()\n",
    "dst_ds = None"
   ]
  },
  {
   "cell_type": "markdown",
   "id": "abddd7da-1b04-4812-880c-b4afadfbf86d",
   "metadata": {},
   "source": [
    "## Convert the geotiff to cog"
   ]
  },
  {
   "cell_type": "code",
   "execution_count": 118,
   "id": "c5708056-9019-474e-8611-019c045c1a1c",
   "metadata": {},
   "outputs": [
    {
     "name": "stderr",
     "output_type": "stream",
     "text": [
      "Reading input: /home/anna/samuel_book/skeleton-pathway-model/region_matching/LSOA_mothership~nlvo~ivt~added~utility_raster.tif\n",
      "\n",
      "Adding overviews...\n",
      "Updating dataset tags...\n",
      "Writing output to: /home/anna/samuel_book/skeleton-pathway-model/region_matching/LSOA_mothership~nlvo~ivt~added~utility_cog.tif\n"
     ]
    },
    {
     "data": {
      "text/plain": [
       "(True, [], [])"
      ]
     },
     "execution_count": 118,
     "metadata": {},
     "output_type": "execute_result"
    }
   ],
   "source": [
    "# Tiff input file name:\n",
    "in_tiff = out_tiff\n",
    "# Cog output file name:\n",
    "out_cog = f'LSOA_{outcome_column_save_name}_cog.tif'\n",
    "\n",
    "# Conversion:\n",
    "leafmap.image_to_cog(in_tiff, out_cog)\n",
    "\n",
    "# Check that the conversion was successful - if so, prints (True, [], []).\n",
    "leafmap.cog_validate(out_cog)"
   ]
  },
  {
   "cell_type": "code",
   "execution_count": 119,
   "id": "f06b3d04-a316-4ff8-a765-398dafdc4c18",
   "metadata": {},
   "outputs": [
    {
     "data": {
      "text/plain": [
       "'LSOA_mothership~nlvo~ivt~added~utility_cog.tif'"
      ]
     },
     "execution_count": 119,
     "metadata": {},
     "output_type": "execute_result"
    }
   ],
   "source": [
    "out_cog"
   ]
  },
  {
   "cell_type": "markdown",
   "id": "32f0f75b-afbc-4ecb-93a7-2be83f95112d",
   "metadata": {},
   "source": [
    "### Plot the cog\n",
    "\n",
    "For plotting with imshow(), the array needs to be in the shape NxMx4. When imported using rasterio, the array is initially in the shape 4xNxM. The `np.transpose()` line reshapes the array to the required dimensions."
   ]
  },
  {
   "cell_type": "code",
   "execution_count": 120,
   "id": "6ffdeb37-efa1-403d-a1ea-e3ac04daab98",
   "metadata": {},
   "outputs": [
    {
     "data": {
      "text/plain": [
       "(3600, 1800, 4)"
      ]
     },
     "execution_count": 120,
     "metadata": {},
     "output_type": "execute_result"
    }
   ],
   "source": [
    "with rasterio.open(out_cog, 'r') as ds:\n",
    "    cog_colours_array = ds.read()  # read all raster values\n",
    "    \n",
    "cog_colours_array = np.transpose(cog_colours_array, axes=(1, 2, 0))\n",
    "\n",
    "cog_colours_array.shape"
   ]
  },
  {
   "cell_type": "code",
   "execution_count": 121,
   "id": "5dfec7ee-68a7-49f6-ba3a-c1b4a8ea8143",
   "metadata": {},
   "outputs": [
    {
     "data": {
      "image/png": "[encoded data removed]",
      "text/plain": [
       "<Figure size 640x480 with 1 Axes>"
      ]
     },
     "metadata": {},
     "output_type": "display_data"
    }
   ],
   "source": [
    "plt.imshow(cog_colours_array, interpolation='None')\n",
    "plt.xlabel('Pixels')\n",
    "plt.ylabel('Pixels')\n",
    "plt.title('Outcomes across the UK')\n",
    "plt.show()"
   ]
  },
  {
   "cell_type": "markdown",
   "id": "7f803f88-7f94-4aa4-9d25-659ecde73dc5",
   "metadata": {},
   "source": [
    "If this has worked correctly, this plot should look identical to the one from the colour array before it was saved."
   ]
  }
 ],
 "metadata": {
  "kernelspec": {
   "display_name": "Python 3 (ipykernel)",
   "language": "python",
   "name": "python3"
  },
  "language_info": {
   "codemirror_mode": {
    "name": "ipython",
    "version": 3
   },
   "file_extension": ".py",
   "mimetype": "text/x-python",
   "name": "python",
   "nbconvert_exporter": "python",
   "pygments_lexer": "ipython3",
   "version": "3.9.16"
  }
 },
 "nbformat": 4,
 "nbformat_minor": 5
}
